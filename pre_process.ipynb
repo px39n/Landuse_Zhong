{
 "cells": [
  {
   "cell_type": "markdown",
   "metadata": {},
   "source": [
    "# 数据预处理\n",
    "\n",
    "一、创建master栅格用于对齐数据\n",
    "\n",
    "\n",
    "操作逻辑：\n",
    "1、tif先无脑转换为.nc格式，尽量使用xarray的功能\n",
    "2、空间范围一致：lat,lon经纬度一致\n",
    "3、分辨率一致\n",
    "4、坐标系一致\n",
    "5、栅格对齐\n",
    "6、栅格空洞"
   ]
  },
  {
   "cell_type": "markdown",
   "metadata": {},
   "source": [
    "气象类数据检查（都来自于同一源）"
   ]
  },
  {
   "cell_type": "code",
   "execution_count": null,
   "metadata": {},
   "outputs": [],
   "source": [
    "import os\n",
    "import xarray as xr\n",
    "import glob\n",
    "\n",
    "# 定义目录路径\n",
    "climate_dir = r'D:\\xarray\\pre-process\\Climate'\n",
    "\n",
    "# 获取所有.nc文件\n",
    "nc_files = glob.glob(os.path.join(climate_dir, '*.nc'))\n",
    "\n",
    "# 打印找到的文件数量\n",
    "print(f\"找到 {len(nc_files)} 个.nc文件\")\n",
    "\n",
    "# 遍历每个文件并打印信息\n",
    "for file_path in nc_files:\n",
    "    print(\"\\n\" + \"=\"*50)\n",
    "    print(f\"文件名: {os.path.basename(file_path)}\")\n",
    "    print(\"=\"*50)\n",
    "    \n",
    "    try:\n",
    "        # 打开数据集\n",
    "        ds = xr.open_dataset(file_path)\n",
    "        \n",
    "        # 打印基本信息\n",
    "        print(\"\\n基本信息:\")\n",
    "        print(f\"维度: {list(ds.dims.keys())}\")\n",
    "        print(f\"变量: {list(ds.data_vars)}\")\n",
    "        print(f\"坐标: {list(ds.coords)}\")\n",
    "        \n",
    "        # 打印空间范围\n",
    "        if 'lat' in ds.coords or 'latitude' in ds.coords:\n",
    "            lat_var = 'lat' if 'lat' in ds.coords else 'latitude'\n",
    "            print(f\"\\n纬度范围: {ds[lat_var].values.min()} 到 {ds[lat_var].values.max()}\")\n",
    "        \n",
    "        if 'lon' in ds.coords or 'longitude' in ds.coords:\n",
    "            lon_var = 'lon' if 'lon' in ds.coords else 'longitude'\n",
    "            print(f\"经度范围: {ds[lon_var].values.min()} 到 {ds[lon_var].values.max()}\")\n",
    "        \n",
    "        # 打印时间范围(如果有)\n",
    "        if 'time' in ds.coords:\n",
    "            print(f\"\\n时间范围: {ds.time.values[0]} 到 {ds.time.values[-1]}\")\n",
    "            print(f\"时间步长: {len(ds.time)} 步\")\n",
    "        \n",
    "        # 打印详细信息\n",
    "        print(\"\\n详细信息:\")\n",
    "        print(ds.info())\n",
    "        \n",
    "        # 关闭数据集\n",
    "        ds.close()\n",
    "        \n",
    "    except Exception as e:\n",
    "        print(f\"读取文件时出错: {e}\")\n",
    "\n",
    "print(\"\\n数据信息打印完成\")\n"
   ]
  }
 ],
 "metadata": {
  "kernelspec": {
   "display_name": "glbcropland",
   "language": "python",
   "name": "python3"
  },
  "language_info": {
   "name": "python",
   "version": "3.11.10"
  }
 },
 "nbformat": 4,
 "nbformat_minor": 2
}
