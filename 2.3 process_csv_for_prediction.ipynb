{
 "cells": [
  {
   "cell_type": "code",
   "execution_count": null,
   "metadata": {
    "vscode": {
     "languageId": "plaintext"
    }
   },
   "outputs": [],
   "source": []
  },
  {
   "cell_type": "code",
   "execution_count": null,
   "metadata": {},
   "outputs": [],
   "source": [
    "from tqdm.auto import tqdm\n",
    "import numpy as np\n",
    "\n",
    "def process_chunk(df, ds_merge, step):\n",
    "\n",
    "    # Get coordinates that exist in both df_temp and pv_df\n",
    "    common_lats = np.intersect1d(ds_merge.lat.values, df['lat'].unique())\n",
    "    common_lons = np.intersect1d(ds_merge.lon.values, df['lon'].unique())\n",
    "\n",
    "    # Select data from df_temp using only the common coordinates\n",
    "    ds_merge = ds_merge.sel(\n",
    "        lat=common_lats,\n",
    "        lon=common_lons,\n",
    "    )\n",
    "\n",
    "    #step = 500\n",
    "    total_lat = len(ds_merge.lat)\n",
    "    total_lon = len(ds_merge.lon)\n",
    "    merged_dfs = []\n",
    "    \n",
    "    # Calculate total iterations for progress bar\n",
    "    total_iterations = (total_lat // step + (1 if total_lat % step else 0)) * \\\n",
    "                    (total_lon // step + (1 if total_lon % step else 0))\n",
    "\n",
    "    # Create progress bar with Chinese description\n",
    "    pbar = tqdm(total=total_iterations, desc=\"处理数据块\")\n",
    "\n",
    "    # Iterate through all latitude and longitude points in chunks\n",
    "    for start_lat in range(0, total_lat, step):\n",
    "        end_lat = min(start_lat + step, total_lat)\n",
    "        for start_lon in range(0, total_lon, step):\n",
    "            end_lon = min(start_lon + step, total_lon)\n",
    "            #print(1)\n",
    "            # Extract data from ds_merge for each time point\n",
    "            df = ds_merge.isel(\n",
    "                lat=slice(start_lat, end_lat),\n",
    "                lon=slice(start_lon, end_lon)\n",
    "            ).compute().to_dataframe()\n",
    "            \n",
    "            # Reset index to convert multi-index to columns\n",
    "            df = df.reset_index()\n",
    "            \n",
    "            # Merge with pv_df based on lat/lon coordinates\n",
    "            #chunk_merged = pd.merge(df, pv_df, on=['lat','lon'], how='inner')\n",
    "            merged_dfs.append(df)\n",
    "            \n",
    "            # Update progress bar\n",
    "            pbar.update(1)\n",
    "            \n",
    "    # Close progress bar\n",
    "    pbar.close()\n",
    "    # Combine all chunks into final dataframe\n",
    "    merged_df = pd.concat(merged_dfs, ignore_index=True)\n",
    "    return merged_df\n",
    "process_chunk(df, ds_merge,50,500)\n"
   ]
  }
 ],
 "metadata": {
  "language_info": {
   "name": "python"
  }
 },
 "nbformat": 4,
 "nbformat_minor": 2
}
