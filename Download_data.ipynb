{
 "cells": [
  {
   "cell_type": "code",
   "execution_count": 1,
   "metadata": {},
   "outputs": [
    {
     "name": "stdout",
     "output_type": "stream",
     "text": [
      "Files and directories in D:\\xarray\\pre-process :\n",
      "File: Global_elevation_1KMmn_GMTEDmn.tif\n",
      "File: Global_rast_adm2_gdp_perCapita_1990_2022.tif\n",
      "File: Global_rast_gdpTot_1990_2020_30arcsec.tif\n",
      "File: Global_slope_1KMmn_GMTEDmd.tif\n",
      "File: gpw_v4_population_density_rev11_2000_30_sec.tif\n",
      "File: gpw_v4_population_density_rev11_2005_30_sec.tif\n",
      "File: gpw_v4_population_density_rev11_2015_30_sec.tif\n",
      "File: gpw_v4_population_density_rev11_2020_30_sec.tif\n",
      "Directory: Population_1995_2020\n",
      "\n",
      "GeoTIFF files found:\n",
      "- Global_elevation_1KMmn_GMTEDmn.tif\n",
      "- Global_rast_adm2_gdp_perCapita_1990_2022.tif\n",
      "- Global_rast_gdpTot_1990_2020_30arcsec.tif\n",
      "- Global_slope_1KMmn_GMTEDmd.tif\n",
      "- gpw_v4_population_density_rev11_2000_30_sec.tif\n",
      "- gpw_v4_population_density_rev11_2005_30_sec.tif\n",
      "- gpw_v4_population_density_rev11_2015_30_sec.tif\n",
      "- gpw_v4_population_density_rev11_2020_30_sec.tif\n",
      "\n",
      "Loading first GeoTIFF file for structure analysis...\n",
      "\n",
      "Data overview:\n",
      "<xarray.DataArray (band: 1, y: 16800, x: 43200)> Size: 3GB\n",
      "[725760000 values with dtype=float32]\n",
      "Coordinates:\n",
      "  * band         (band) int32 4B 1\n",
      "  * x            (x) float64 346kB -180.0 -180.0 -180.0 ... 180.0 180.0 180.0\n",
      "  * y            (y) float64 134kB 84.0 83.99 83.98 ... -55.98 -55.99 -56.0\n",
      "    spatial_ref  int32 4B 0\n",
      "Attributes:\n",
      "    TIFFTAG_DOCUMENTNAME:      30 arc-seconds Maximum elevation\n",
      "    TIFFTAG_IMAGEDESCRIPTION:  30 arc-seconds Maximum elevation derived from ...\n",
      "    TIFFTAG_SOFTWARE:          gdal 1.10.0 & pktools 2.6.4 & GRASS7\n",
      "    TIFFTAG_DATETIME:          2016\n",
      "    TIFFTAG_ARTIST:            Giuseppe Amatulli (giuseppe.amatulli@yale.edu ...\n",
      "    AREA_OR_POINT:             Area\n",
      "    _FillValue:                -32768.0\n",
      "    scale_factor:              1.0\n",
      "    add_offset:                0.0\n",
      "\n",
      "Dimensions: ('band', 'y', 'x')\n",
      "Coordinates: Coordinates:\n",
      "  * band         (band) int32 4B 1\n",
      "  * x            (x) float64 346kB -180.0 -180.0 -180.0 ... 180.0 180.0 180.0\n",
      "  * y            (y) float64 134kB 84.0 83.99 83.98 ... -55.98 -55.99 -56.0\n",
      "    spatial_ref  int32 4B 0\n",
      "\n",
      "Metadata:\n",
      "CRS: GEOGCS[\"WGS 84\",DATUM[\"World Geodetic System 1984\",SPHEROID[\"WGS 84\",6378137,298.257223563]],PRIMEM[\"Greenwich\",0],UNIT[\"degree\",0.0174532925199433,AUTHORITY[\"EPSG\",\"9122\"]],AXIS[\"Latitude\",NORTH],AXIS[\"Longitude\",EAST]]\n",
      "Transform: | 0.01, 0.00,-180.00|\n",
      "| 0.00,-0.01, 84.00|\n",
      "| 0.00, 0.00, 1.00|\n",
      "NoData value: -32768.0\n",
      "Attributes: {'TIFFTAG_DOCUMENTNAME': '30 arc-seconds Maximum elevation', 'TIFFTAG_IMAGEDESCRIPTION': '30 arc-seconds Maximum elevation derived from GMTED2010 Maximum Statistic, 7.5 arc-seconds prduct', 'TIFFTAG_SOFTWARE': 'gdal 1.10.0 & pktools 2.6.4 & GRASS7', 'TIFFTAG_DATETIME': 2016, 'TIFFTAG_ARTIST': 'Giuseppe Amatulli (giuseppe.amatulli@yale.edu , giuseppe.amatulli@gmail.com)', 'AREA_OR_POINT': 'Area', '_FillValue': -32768.0, 'scale_factor': 1.0, 'add_offset': 0.0}\n"
     ]
    }
   ],
   "source": [
    "import rioxarray\n",
    "import os\n",
    "import glob\n",
    "\n",
    "# 打印指定路径下的所有数据结构\n",
    "data_path = r'D:\\xarray\\pre-process'\n",
    "\n",
    "# 列出目录中的所有文件和文件夹\n",
    "print(\"Files and directories in\", data_path, \":\")\n",
    "for item in os.listdir(data_path):\n",
    "    item_path = os.path.join(data_path, item)\n",
    "    if os.path.isdir(item_path):\n",
    "        print(f\"Directory: {item}\")\n",
    "    else:\n",
    "        print(f\"File: {item}\")\n",
    "\n",
    "# 列出所有GeoTIFF文件\n",
    "geotiff_files = glob.glob(os.path.join(data_path, \"*.tif\"))\n",
    "print(\"\\nGeoTIFF files found:\")\n",
    "for file in geotiff_files:\n",
    "    print(f\"- {os.path.basename(file)}\")\n",
    "\n",
    "# 如果有GeoTIFF文件，加载第一个并显示其结构\n",
    "if geotiff_files:\n",
    "    print(\"\\nLoading first GeoTIFF file for structure analysis...\")\n",
    "    da = rioxarray.open_rasterio(geotiff_files[0])\n",
    "    \n",
    "    # 打印概览\n",
    "    print(\"\\nData overview:\")\n",
    "    print(da)\n",
    "    \n",
    "    # 查看维度、坐标\n",
    "    print(\"\\nDimensions:\", da.dims)\n",
    "    print(\"Coordinates:\", da.coords)\n",
    "    \n",
    "    # 查看元数据\n",
    "    print(\"\\nMetadata:\")\n",
    "    print(\"CRS:\", da.rio.crs)\n",
    "    print(\"Transform:\", da.rio.transform())\n",
    "    print(\"NoData value:\", da.rio.nodata)\n",
    "    print(\"Attributes:\", da.attrs)\n",
    "else:\n",
    "    print(\"\\nNo GeoTIFF files found in the directory.\")\n"
   ]
  },
  {
   "cell_type": "code",
   "execution_count": 11,
   "metadata": {},
   "outputs": [
    {
     "data": {
      "text/plain": [
       "nan"
      ]
     },
     "execution_count": 11,
     "metadata": {},
     "output_type": "execute_result"
    }
   ],
   "source": [
    "import xarray as xr\n",
    "ds=xr.open_dataset(r'D:\\xarray\\final_mask_1km_new.nc')\n",
    "\n",
    "population=xr.open_dataset(r'D:\\xarray\\population_density_simple.nc')\n",
    "\n",
    "ds['final_mask'].values[0,0]\n",
    "\n"
   ]
  },
  {
   "cell_type": "code",
   "execution_count": null,
   "metadata": {},
   "outputs": [
    {
     "name": "stdout",
     "output_type": "stream",
     "text": [
      "-0.008333333333354176 0.008333333333325754\n",
      "-0.008333333333339965 0.008333333333325754\n"
     ]
    },
    {
     "data": {
      "text/html": [
       "<div><svg style=\"position: absolute; width: 0; height: 0; overflow: hidden\">\n",
       "<defs>\n",
       "<symbol id=\"icon-database\" viewBox=\"0 0 32 32\">\n",
       "<path d=\"M16 0c-8.837 0-16 2.239-16 5v4c0 2.761 7.163 5 16 5s16-2.239 16-5v-4c0-2.761-7.163-5-16-5z\"></path>\n",
       "<path d=\"M16 17c-8.837 0-16-2.239-16-5v6c0 2.761 7.163 5 16 5s16-2.239 16-5v-6c0 2.761-7.163 5-16 5z\"></path>\n",
       "<path d=\"M16 26c-8.837 0-16-2.239-16-5v6c0 2.761 7.163 5 16 5s16-2.239 16-5v-6c0 2.761-7.163 5-16 5z\"></path>\n",
       "</symbol>\n",
       "<symbol id=\"icon-file-text2\" viewBox=\"0 0 32 32\">\n",
       "<path d=\"M28.681 7.159c-0.694-0.947-1.662-2.053-2.724-3.116s-2.169-2.030-3.116-2.724c-1.612-1.182-2.393-1.319-2.841-1.319h-15.5c-1.378 0-2.5 1.121-2.5 2.5v27c0 1.378 1.122 2.5 2.5 2.5h23c1.378 0 2.5-1.122 2.5-2.5v-19.5c0-0.448-0.137-1.23-1.319-2.841zM24.543 5.457c0.959 0.959 1.712 1.825 2.268 2.543h-4.811v-4.811c0.718 0.556 1.584 1.309 2.543 2.268zM28 29.5c0 0.271-0.229 0.5-0.5 0.5h-23c-0.271 0-0.5-0.229-0.5-0.5v-27c0-0.271 0.229-0.5 0.5-0.5 0 0 15.499-0 15.5 0v7c0 0.552 0.448 1 1 1h7v19.5z\"></path>\n",
       "<path d=\"M23 26h-14c-0.552 0-1-0.448-1-1s0.448-1 1-1h14c0.552 0 1 0.448 1 1s-0.448 1-1 1z\"></path>\n",
       "<path d=\"M23 22h-14c-0.552 0-1-0.448-1-1s0.448-1 1-1h14c0.552 0 1 0.448 1 1s-0.448 1-1 1z\"></path>\n",
       "<path d=\"M23 18h-14c-0.552 0-1-0.448-1-1s0.448-1 1-1h14c0.552 0 1 0.448 1 1s-0.448 1-1 1z\"></path>\n",
       "</symbol>\n",
       "</defs>\n",
       "</svg>\n",
       "<style>/* CSS stylesheet for displaying xarray objects in jupyterlab.\n",
       " *\n",
       " */\n",
       "\n",
       ":root {\n",
       "  --xr-font-color0: var(--jp-content-font-color0, rgba(0, 0, 0, 1));\n",
       "  --xr-font-color2: var(--jp-content-font-color2, rgba(0, 0, 0, 0.54));\n",
       "  --xr-font-color3: var(--jp-content-font-color3, rgba(0, 0, 0, 0.38));\n",
       "  --xr-border-color: var(--jp-border-color2, #e0e0e0);\n",
       "  --xr-disabled-color: var(--jp-layout-color3, #bdbdbd);\n",
       "  --xr-background-color: var(--jp-layout-color0, white);\n",
       "  --xr-background-color-row-even: var(--jp-layout-color1, white);\n",
       "  --xr-background-color-row-odd: var(--jp-layout-color2, #eeeeee);\n",
       "}\n",
       "\n",
       "html[theme=dark],\n",
       "body[data-theme=dark],\n",
       "body.vscode-dark {\n",
       "  --xr-font-color0: rgba(255, 255, 255, 1);\n",
       "  --xr-font-color2: rgba(255, 255, 255, 0.54);\n",
       "  --xr-font-color3: rgba(255, 255, 255, 0.38);\n",
       "  --xr-border-color: #1F1F1F;\n",
       "  --xr-disabled-color: #515151;\n",
       "  --xr-background-color: #111111;\n",
       "  --xr-background-color-row-even: #111111;\n",
       "  --xr-background-color-row-odd: #313131;\n",
       "}\n",
       "\n",
       ".xr-wrap {\n",
       "  display: block !important;\n",
       "  min-width: 300px;\n",
       "  max-width: 700px;\n",
       "}\n",
       "\n",
       ".xr-text-repr-fallback {\n",
       "  /* fallback to plain text repr when CSS is not injected (untrusted notebook) */\n",
       "  display: none;\n",
       "}\n",
       "\n",
       ".xr-header {\n",
       "  padding-top: 6px;\n",
       "  padding-bottom: 6px;\n",
       "  margin-bottom: 4px;\n",
       "  border-bottom: solid 1px var(--xr-border-color);\n",
       "}\n",
       "\n",
       ".xr-header > div,\n",
       ".xr-header > ul {\n",
       "  display: inline;\n",
       "  margin-top: 0;\n",
       "  margin-bottom: 0;\n",
       "}\n",
       "\n",
       ".xr-obj-type,\n",
       ".xr-array-name {\n",
       "  margin-left: 2px;\n",
       "  margin-right: 10px;\n",
       "}\n",
       "\n",
       ".xr-obj-type {\n",
       "  color: var(--xr-font-color2);\n",
       "}\n",
       "\n",
       ".xr-sections {\n",
       "  padding-left: 0 !important;\n",
       "  display: grid;\n",
       "  grid-template-columns: 150px auto auto 1fr 20px 20px;\n",
       "}\n",
       "\n",
       ".xr-section-item {\n",
       "  display: contents;\n",
       "}\n",
       "\n",
       ".xr-section-item input {\n",
       "  display: none;\n",
       "}\n",
       "\n",
       ".xr-section-item input + label {\n",
       "  color: var(--xr-disabled-color);\n",
       "}\n",
       "\n",
       ".xr-section-item input:enabled + label {\n",
       "  cursor: pointer;\n",
       "  color: var(--xr-font-color2);\n",
       "}\n",
       "\n",
       ".xr-section-item input:enabled + label:hover {\n",
       "  color: var(--xr-font-color0);\n",
       "}\n",
       "\n",
       ".xr-section-summary {\n",
       "  grid-column: 1;\n",
       "  color: var(--xr-font-color2);\n",
       "  font-weight: 500;\n",
       "}\n",
       "\n",
       ".xr-section-summary > span {\n",
       "  display: inline-block;\n",
       "  padding-left: 0.5em;\n",
       "}\n",
       "\n",
       ".xr-section-summary-in:disabled + label {\n",
       "  color: var(--xr-font-color2);\n",
       "}\n",
       "\n",
       ".xr-section-summary-in + label:before {\n",
       "  display: inline-block;\n",
       "  content: '►';\n",
       "  font-size: 11px;\n",
       "  width: 15px;\n",
       "  text-align: center;\n",
       "}\n",
       "\n",
       ".xr-section-summary-in:disabled + label:before {\n",
       "  color: var(--xr-disabled-color);\n",
       "}\n",
       "\n",
       ".xr-section-summary-in:checked + label:before {\n",
       "  content: '▼';\n",
       "}\n",
       "\n",
       ".xr-section-summary-in:checked + label > span {\n",
       "  display: none;\n",
       "}\n",
       "\n",
       ".xr-section-summary,\n",
       ".xr-section-inline-details {\n",
       "  padding-top: 4px;\n",
       "  padding-bottom: 4px;\n",
       "}\n",
       "\n",
       ".xr-section-inline-details {\n",
       "  grid-column: 2 / -1;\n",
       "}\n",
       "\n",
       ".xr-section-details {\n",
       "  display: none;\n",
       "  grid-column: 1 / -1;\n",
       "  margin-bottom: 5px;\n",
       "}\n",
       "\n",
       ".xr-section-summary-in:checked ~ .xr-section-details {\n",
       "  display: contents;\n",
       "}\n",
       "\n",
       ".xr-array-wrap {\n",
       "  grid-column: 1 / -1;\n",
       "  display: grid;\n",
       "  grid-template-columns: 20px auto;\n",
       "}\n",
       "\n",
       ".xr-array-wrap > label {\n",
       "  grid-column: 1;\n",
       "  vertical-align: top;\n",
       "}\n",
       "\n",
       ".xr-preview {\n",
       "  color: var(--xr-font-color3);\n",
       "}\n",
       "\n",
       ".xr-array-preview,\n",
       ".xr-array-data {\n",
       "  padding: 0 5px !important;\n",
       "  grid-column: 2;\n",
       "}\n",
       "\n",
       ".xr-array-data,\n",
       ".xr-array-in:checked ~ .xr-array-preview {\n",
       "  display: none;\n",
       "}\n",
       "\n",
       ".xr-array-in:checked ~ .xr-array-data,\n",
       ".xr-array-preview {\n",
       "  display: inline-block;\n",
       "}\n",
       "\n",
       ".xr-dim-list {\n",
       "  display: inline-block !important;\n",
       "  list-style: none;\n",
       "  padding: 0 !important;\n",
       "  margin: 0;\n",
       "}\n",
       "\n",
       ".xr-dim-list li {\n",
       "  display: inline-block;\n",
       "  padding: 0;\n",
       "  margin: 0;\n",
       "}\n",
       "\n",
       ".xr-dim-list:before {\n",
       "  content: '(';\n",
       "}\n",
       "\n",
       ".xr-dim-list:after {\n",
       "  content: ')';\n",
       "}\n",
       "\n",
       ".xr-dim-list li:not(:last-child):after {\n",
       "  content: ',';\n",
       "  padding-right: 5px;\n",
       "}\n",
       "\n",
       ".xr-has-index {\n",
       "  font-weight: bold;\n",
       "}\n",
       "\n",
       ".xr-var-list,\n",
       ".xr-var-item {\n",
       "  display: contents;\n",
       "}\n",
       "\n",
       ".xr-var-item > div,\n",
       ".xr-var-item label,\n",
       ".xr-var-item > .xr-var-name span {\n",
       "  background-color: var(--xr-background-color-row-even);\n",
       "  margin-bottom: 0;\n",
       "}\n",
       "\n",
       ".xr-var-item > .xr-var-name:hover span {\n",
       "  padding-right: 5px;\n",
       "}\n",
       "\n",
       ".xr-var-list > li:nth-child(odd) > div,\n",
       ".xr-var-list > li:nth-child(odd) > label,\n",
       ".xr-var-list > li:nth-child(odd) > .xr-var-name span {\n",
       "  background-color: var(--xr-background-color-row-odd);\n",
       "}\n",
       "\n",
       ".xr-var-name {\n",
       "  grid-column: 1;\n",
       "}\n",
       "\n",
       ".xr-var-dims {\n",
       "  grid-column: 2;\n",
       "}\n",
       "\n",
       ".xr-var-dtype {\n",
       "  grid-column: 3;\n",
       "  text-align: right;\n",
       "  color: var(--xr-font-color2);\n",
       "}\n",
       "\n",
       ".xr-var-preview {\n",
       "  grid-column: 4;\n",
       "}\n",
       "\n",
       ".xr-index-preview {\n",
       "  grid-column: 2 / 5;\n",
       "  color: var(--xr-font-color2);\n",
       "}\n",
       "\n",
       ".xr-var-name,\n",
       ".xr-var-dims,\n",
       ".xr-var-dtype,\n",
       ".xr-preview,\n",
       ".xr-attrs dt {\n",
       "  white-space: nowrap;\n",
       "  overflow: hidden;\n",
       "  text-overflow: ellipsis;\n",
       "  padding-right: 10px;\n",
       "}\n",
       "\n",
       ".xr-var-name:hover,\n",
       ".xr-var-dims:hover,\n",
       ".xr-var-dtype:hover,\n",
       ".xr-attrs dt:hover {\n",
       "  overflow: visible;\n",
       "  width: auto;\n",
       "  z-index: 1;\n",
       "}\n",
       "\n",
       ".xr-var-attrs,\n",
       ".xr-var-data,\n",
       ".xr-index-data {\n",
       "  display: none;\n",
       "  background-color: var(--xr-background-color) !important;\n",
       "  padding-bottom: 5px !important;\n",
       "}\n",
       "\n",
       ".xr-var-attrs-in:checked ~ .xr-var-attrs,\n",
       ".xr-var-data-in:checked ~ .xr-var-data,\n",
       ".xr-index-data-in:checked ~ .xr-index-data {\n",
       "  display: block;\n",
       "}\n",
       "\n",
       ".xr-var-data > table {\n",
       "  float: right;\n",
       "}\n",
       "\n",
       ".xr-var-name span,\n",
       ".xr-var-data,\n",
       ".xr-index-name div,\n",
       ".xr-index-data,\n",
       ".xr-attrs {\n",
       "  padding-left: 25px !important;\n",
       "}\n",
       "\n",
       ".xr-attrs,\n",
       ".xr-var-attrs,\n",
       ".xr-var-data,\n",
       ".xr-index-data {\n",
       "  grid-column: 1 / -1;\n",
       "}\n",
       "\n",
       "dl.xr-attrs {\n",
       "  padding: 0;\n",
       "  margin: 0;\n",
       "  display: grid;\n",
       "  grid-template-columns: 125px auto;\n",
       "}\n",
       "\n",
       ".xr-attrs dt,\n",
       ".xr-attrs dd {\n",
       "  padding: 0;\n",
       "  margin: 0;\n",
       "  float: left;\n",
       "  padding-right: 10px;\n",
       "  width: auto;\n",
       "}\n",
       "\n",
       ".xr-attrs dt {\n",
       "  font-weight: normal;\n",
       "  grid-column: 1;\n",
       "}\n",
       "\n",
       ".xr-attrs dt:hover span {\n",
       "  display: inline-block;\n",
       "  background: var(--xr-background-color);\n",
       "  padding-right: 10px;\n",
       "}\n",
       "\n",
       ".xr-attrs dd {\n",
       "  grid-column: 2;\n",
       "  white-space: pre-wrap;\n",
       "  word-break: break-all;\n",
       "}\n",
       "\n",
       ".xr-icon-database,\n",
       ".xr-icon-file-text2,\n",
       ".xr-no-icon {\n",
       "  display: inline-block;\n",
       "  vertical-align: middle;\n",
       "  width: 1em;\n",
       "  height: 1.5em !important;\n",
       "  stroke-width: 0;\n",
       "  stroke: currentColor;\n",
       "  fill: currentColor;\n",
       "}\n",
       "</style><pre class='xr-text-repr-fallback'>&lt;xarray.DataArray (lat: 525, lon: 1910)&gt; Size: 4MB\n",
       "array([[nan, nan, nan, ..., nan, nan, nan],\n",
       "       [nan, nan, nan, ..., nan, nan, nan],\n",
       "       [nan, nan, nan, ..., nan, nan, nan],\n",
       "       ...,\n",
       "       [nan, nan, nan, ..., nan, nan, nan],\n",
       "       [nan, nan, nan, ..., nan, nan, nan],\n",
       "       [nan, nan, nan, ..., nan, nan, nan]], dtype=float32)\n",
       "Coordinates:\n",
       "  * lon      (lon) float64 15kB -180.0 -180.0 -180.0 ... -128.1 -128.0 -128.0\n",
       "  * lat      (lat) float64 4kB -58.12 -58.25 -58.37 ... -89.93 -89.94 -90.0\n",
       "    time     datetime64[ns] 8B ...</pre><div class='xr-wrap' style='display:none'><div class='xr-header'><div class='xr-obj-type'>xarray.DataArray</div><div class='xr-array-name'></div><ul class='xr-dim-list'><li><span class='xr-has-index'>lat</span>: 525</li><li><span class='xr-has-index'>lon</span>: 1910</li></ul></div><ul class='xr-sections'><li class='xr-section-item'><div class='xr-array-wrap'><input id='section-44830c65-aee6-4e50-8822-b286285c4ebd' class='xr-array-in' type='checkbox' checked><label for='section-44830c65-aee6-4e50-8822-b286285c4ebd' title='Show/hide data repr'><svg class='icon xr-icon-database'><use xlink:href='#icon-database'></use></svg></label><div class='xr-array-preview xr-preview'><span>nan nan nan nan nan nan nan nan ... nan nan nan nan nan nan nan nan</span></div><div class='xr-array-data'><pre>array([[nan, nan, nan, ..., nan, nan, nan],\n",
       "       [nan, nan, nan, ..., nan, nan, nan],\n",
       "       [nan, nan, nan, ..., nan, nan, nan],\n",
       "       ...,\n",
       "       [nan, nan, nan, ..., nan, nan, nan],\n",
       "       [nan, nan, nan, ..., nan, nan, nan],\n",
       "       [nan, nan, nan, ..., nan, nan, nan]], dtype=float32)</pre></div></div></li><li class='xr-section-item'><input id='section-5c7dc5d4-b21a-4049-a4cd-cfa31b438150' class='xr-section-summary-in' type='checkbox'  checked><label for='section-5c7dc5d4-b21a-4049-a4cd-cfa31b438150' class='xr-section-summary' >Coordinates: <span>(3)</span></label><div class='xr-section-inline-details'></div><div class='xr-section-details'><ul class='xr-var-list'><li class='xr-var-item'><div class='xr-var-name'><span class='xr-has-index'>lon</span></div><div class='xr-var-dims'>(lon)</div><div class='xr-var-dtype'>float64</div><div class='xr-var-preview xr-preview'>-180.0 -180.0 ... -128.0 -128.0</div><input id='attrs-db0edce7-3597-4f0a-b50a-eae75a95a67a' class='xr-var-attrs-in' type='checkbox' disabled><label for='attrs-db0edce7-3597-4f0a-b50a-eae75a95a67a' title='Show/Hide attributes'><svg class='icon xr-icon-file-text2'><use xlink:href='#icon-file-text2'></use></svg></label><input id='data-7ce22b37-b22c-4403-8a7a-5da296f1001f' class='xr-var-data-in' type='checkbox'><label for='data-7ce22b37-b22c-4403-8a7a-5da296f1001f' title='Show/Hide data repr'><svg class='icon xr-icon-database'><use xlink:href='#icon-database'></use></svg></label><div class='xr-var-attrs'><dl class='xr-attrs'></dl></div><div class='xr-var-data'><pre>array([-179.979167, -179.970833, -179.9625  , ..., -128.129167, -128.0125  ,\n",
       "       -128.004167])</pre></div></li><li class='xr-var-item'><div class='xr-var-name'><span class='xr-has-index'>lat</span></div><div class='xr-var-dims'>(lat)</div><div class='xr-var-dtype'>float64</div><div class='xr-var-preview xr-preview'>-58.12 -58.25 ... -89.94 -90.0</div><input id='attrs-b388fa76-fd09-44dd-ae79-a1835fece1ee' class='xr-var-attrs-in' type='checkbox' disabled><label for='attrs-b388fa76-fd09-44dd-ae79-a1835fece1ee' title='Show/Hide attributes'><svg class='icon xr-icon-file-text2'><use xlink:href='#icon-file-text2'></use></svg></label><input id='data-c8e6e311-ef05-458c-babc-4b0213d20a89' class='xr-var-data-in' type='checkbox'><label for='data-c8e6e311-ef05-458c-babc-4b0213d20a89' title='Show/Hide data repr'><svg class='icon xr-icon-database'><use xlink:href='#icon-database'></use></svg></label><div class='xr-var-attrs'><dl class='xr-attrs'></dl></div><div class='xr-var-data'><pre>array([-58.120833, -58.245833, -58.370833, ..., -89.929167, -89.9375  ,\n",
       "       -89.995833])</pre></div></li><li class='xr-var-item'><div class='xr-var-name'><span>time</span></div><div class='xr-var-dims'>()</div><div class='xr-var-dtype'>datetime64[ns]</div><div class='xr-var-preview xr-preview'>...</div><input id='attrs-1117f864-66ad-4027-8db6-2de39f7118de' class='xr-var-attrs-in' type='checkbox' ><label for='attrs-1117f864-66ad-4027-8db6-2de39f7118de' title='Show/Hide attributes'><svg class='icon xr-icon-file-text2'><use xlink:href='#icon-file-text2'></use></svg></label><input id='data-29b28e4f-b7bb-4591-a7a3-1762e0271ac4' class='xr-var-data-in' type='checkbox'><label for='data-29b28e4f-b7bb-4591-a7a3-1762e0271ac4' title='Show/Hide data repr'><svg class='icon xr-icon-database'><use xlink:href='#icon-database'></use></svg></label><div class='xr-var-attrs'><dl class='xr-attrs'><dt><span>long_name :</span></dt><dd>time</dd><dt><span>axis :</span></dt><dd>T</dd><dt><span>standard_name :</span></dt><dd>time</dd><dt><span>bounds :</span></dt><dd>time_bounds</dd></dl></div><div class='xr-var-data'><pre>[1 values with dtype=datetime64[ns]]</pre></div></li></ul></div></li><li class='xr-section-item'><input id='section-a8f98c52-9d0e-4873-adff-84d40d77a8fe' class='xr-section-summary-in' type='checkbox'  ><label for='section-a8f98c52-9d0e-4873-adff-84d40d77a8fe' class='xr-section-summary' >Indexes: <span>(2)</span></label><div class='xr-section-inline-details'></div><div class='xr-section-details'><ul class='xr-var-list'><li class='xr-var-item'><div class='xr-index-name'><div>lon</div></div><div class='xr-index-preview'>PandasIndex</div><div></div><input id='index-ec1bdbcf-3162-499c-8b22-647996d27398' class='xr-index-data-in' type='checkbox'/><label for='index-ec1bdbcf-3162-499c-8b22-647996d27398' title='Show/Hide index repr'><svg class='icon xr-icon-database'><use xlink:href='#icon-database'></use></svg></label><div class='xr-index-data'><pre>PandasIndex(Index([-179.97916666666666, -179.97083333333333,           -179.9625,\n",
       "       -179.95416666666668, -179.94583333333333,           -179.9375,\n",
       "       -179.92083333333335,           -179.9125, -179.89583333333334,\n",
       "       -179.88750000000002,\n",
       "       ...\n",
       "       -128.51250000000002,  -128.5041666666667, -128.38750000000002,\n",
       "        -128.3791666666667, -128.26250000000002,  -128.2541666666667,\n",
       "       -128.13750000000002,  -128.1291666666667, -128.01250000000002,\n",
       "        -128.0041666666667],\n",
       "      dtype=&#x27;float64&#x27;, name=&#x27;lon&#x27;, length=1910))</pre></div></li><li class='xr-var-item'><div class='xr-index-name'><div>lat</div></div><div class='xr-index-preview'>PandasIndex</div><div></div><input id='index-388d1d41-3aa0-4e6f-8429-a8c823fc6642' class='xr-index-data-in' type='checkbox'/><label for='index-388d1d41-3aa0-4e6f-8429-a8c823fc6642' title='Show/Hide index repr'><svg class='icon xr-icon-database'><use xlink:href='#icon-database'></use></svg></label><div class='xr-index-data'><pre>PandasIndex(Index([-58.12083333333334, -58.24583333333334, -58.37083333333334,\n",
       "       -58.49583333333334, -58.62083333333334, -58.74583333333334,\n",
       "       -58.87083333333334, -58.99583333333334, -59.12083333333334,\n",
       "       -59.24583333333334,\n",
       "       ...\n",
       "       -89.75416666666666, -89.79583333333335, -89.80416666666667,\n",
       "                 -89.8125, -89.87083333333334, -89.87916666666666,\n",
       "       -89.92083333333335, -89.92916666666667,           -89.9375,\n",
       "       -89.99583333333334],\n",
       "      dtype=&#x27;float64&#x27;, name=&#x27;lat&#x27;, length=525))</pre></div></li></ul></div></li><li class='xr-section-item'><input id='section-bc997800-e4bc-48cf-b15a-c701972ad957' class='xr-section-summary-in' type='checkbox' disabled ><label for='section-bc997800-e4bc-48cf-b15a-c701972ad957' class='xr-section-summary'  title='Expand/collapse section'>Attributes: <span>(0)</span></label><div class='xr-section-inline-details'></div><div class='xr-section-details'><dl class='xr-attrs'></dl></div></li></ul></div></div>"
      ],
      "text/plain": [
       "<xarray.DataArray (lat: 525, lon: 1910)> Size: 4MB\n",
       "array([[nan, nan, nan, ..., nan, nan, nan],\n",
       "       [nan, nan, nan, ..., nan, nan, nan],\n",
       "       [nan, nan, nan, ..., nan, nan, nan],\n",
       "       ...,\n",
       "       [nan, nan, nan, ..., nan, nan, nan],\n",
       "       [nan, nan, nan, ..., nan, nan, nan],\n",
       "       [nan, nan, nan, ..., nan, nan, nan]], dtype=float32)\n",
       "Coordinates:\n",
       "  * lon      (lon) float64 15kB -180.0 -180.0 -180.0 ... -128.1 -128.0 -128.0\n",
       "  * lat      (lat) float64 4kB -58.12 -58.25 -58.37 ... -89.93 -89.94 -90.0\n",
       "    time     datetime64[ns] 8B ..."
      ]
     },
     "execution_count": 10,
     "metadata": {},
     "output_type": "execute_result"
    }
   ],
   "source": [
    "lat_resolution=ds.lat.values[1]-ds.lat.values[0]\n",
    "lon_resolution=ds.lon.values[1]-ds.lon.values[0]\n",
    "print(lat_resolution,lon_resolution)\n",
    "\n",
    "p_lat_resolution=population.lat.values[1]-population.lat.values[0]\n",
    "p_lon_resolution=population.lon.values[1]-population.lon.values[0]\n",
    "print(p_lat_resolution,p_lon_resolution)\n",
    "\n",
    "\n",
    "\n"
   ]
  },
  {
   "cell_type": "code",
   "execution_count": 3,
   "metadata": {},
   "outputs": [
    {
     "data": {
      "image/png": "[encoded data removed]",
      "text/plain": [
       "<Figure size 800x1200 with 6 Axes>"
      ]
     },
     "metadata": {},
     "output_type": "display_data"
    }
   ],
   "source": [
    "# Plot the result with coarsening to improve visualization\n",
    "import matplotlib.pyplot as plt\n",
    "\n",
    "# Define coarsening factor\n",
    "coarsen_factor = 5  # Adjust this value based on your data resolution\n",
    "\n",
    "# Coarsen the data for better visualization\n",
    "pop_coarse = population['pop_density_2020'].coarsen(lat=coarsen_factor, lon=coarsen_factor).mean()\n",
    "mask_coarse = ds['final_mask'].coarsen(lat=coarsen_factor, lon=coarsen_factor).mean()\n",
    "\n",
    "# Create a vertical layout (2 rows, 1 column)\n",
    "fig, axes = plt.subplots(2, 1, figsize=(8, 12))\n",
    "\n",
    "# Plot coarsened population density\n",
    "pop_map = pop_coarse.plot(ax=axes[0], cmap='viridis')\n",
    "axes[0].set_title('Population Density 2020 (Coarsened)')\n",
    "axes[0].set_xlabel('Longitude')\n",
    "axes[0].set_ylabel('Latitude')\n",
    "plt.colorbar(pop_map, ax=axes[0], label='Population Density')\n",
    "axes[0].grid(True, linestyle='--', alpha=0.7)\n",
    "\n",
    "# Plot coarsened final mask\n",
    "mask_map = mask_coarse.plot(ax=axes[1], cmap='Blues')\n",
    "axes[1].set_title('Final Mask (Coarsened)')\n",
    "axes[1].set_xlabel('Longitude')\n",
    "axes[1].set_ylabel('Latitude')\n",
    "plt.colorbar(mask_map, ax=axes[1], label='Mask Value')\n",
    "axes[1].grid(True, linestyle='--', alpha=0.7)\n",
    "\n",
    "plt.tight_layout()\n",
    "plt.show()"
   ]
  },
  {
   "cell_type": "code",
   "execution_count": 12,
   "metadata": {},
   "outputs": [
    {
     "name": "stdout",
     "output_type": "stream",
     "text": [
      "Valid data points in final_mask: 2,164,411 out of 933,120,000 total points\n",
      "Percentage of valid data: 0.23%\n"
     ]
    }
   ],
   "source": [
    "# Calculate the valid data in 'ds'\n",
    "import numpy as np\n",
    "\n",
    "valid_count = (~np.isnan(ds['final_mask'])).sum().item()\n",
    "total_count = ds['final_mask'].size\n",
    "valid_percentage = (valid_count / total_count) * 100\n",
    "\n",
    "print(f\"Valid data points in final_mask: {valid_count:,} out of {total_count:,} total points\")\n",
    "print(f\"Percentage of valid data: {valid_percentage:.2f}%\")\n"
   ]
  },
  {
   "cell_type": "code",
   "execution_count": 1,
   "metadata": {},
   "outputs": [
    {
     "name": "stdout",
     "output_type": "stream",
     "text": [
      "Burnt Area: global daily (raster 300m) | clms_global_ba_300m_v3_daily_geotiff\n",
      "Burnt Area: global daily (raster 300m) | clms_global_ba_300m_v3_daily_netcdf\n",
      "Burnt Area: global monthly (raster 300m) | clms_global_ba_300m_v3_monthly_geotiff\n",
      "Burnt Area: global monthly (raster 300m) | clms_global_ba_300m_v3_monthly_netcdf\n",
      "Dry Matter Productivity: global 10-daily (raster 1km) | clms_global_dmp_1km_v2_10daily_geotiff\n",
      "Dry Matter Productivity: global 10-daily (raster 1km) | clms_global_dmp_1km_v2_10daily_netcdf\n",
      "Dry Matter Productivity: global 10-daily (raster 300m) | clms_global_dmp_300m_v1_10daily_geotiff\n",
      "Dry Matter Productivity: global 10-daily (raster 300m) | clms_global_dmp_300m_v1_10daily_netcdf\n",
      "Fraction of Absorbed Photosynthetically Active Radiation: global 10-daily (raster 1km) | clms_global_fapar_1km_v1_10daily_geotiff\n",
      "Fraction of Absorbed Photosynthetically Active Radiation: global 10-daily (raster 1km) | clms_global_fapar_1km_v1_10daily_netcdf\n",
      "Fraction of Absorbed Photosynthetically Active Radiation: global 10-daily (raster 1km) | clms_global_fapar_1km_v2_10daily_geotiff\n",
      "Fraction of Absorbed Photosynthetically Active Radiation: global 10-daily (raster 1km) | clms_global_fapar_1km_v2_10daily_netcdf\n",
      "Fraction of Absorbed Photosynthetically Active Radiation: global 10-daily (raster 300m) | clms_global_fapar_300m_v1_10daily_geotiff\n",
      "Fraction of Absorbed Photosynthetically Active Radiation: global 10-daily (raster 300m) | clms_global_fapar_300m_v1_10daily_netcdf\n",
      "Fraction of Absorbed Photosynthetically Active Radiation: global 10-daily (raster 1km) | clms_global_fcover_1km_v1_10daily_geotiff\n",
      "Fraction of Absorbed Photosynthetically Active Radiation: global 10-daily (raster 1km) | clms_global_fcover_1km_v1_10daily_netcdf\n",
      "Fraction of Absorbed Photosynthetically Active Radiation: global 10-daily (raster 1km) | clms_global_fcover_1km_v2_10daily_geotiff\n",
      "Fraction of Absorbed Photosynthetically Active Radiation: global 10-daily (raster 1km) | clms_global_fcover_1km_v2_10daily_netcdf\n",
      "Fraction of Vegetation Cover: global 10-daily (raster 300m) | clms_global_fcover_300m_v1_10daily_geotiff\n",
      "Fraction of Vegetation Cover: global 10-daily (raster 300m) | clms_global_fcover_300m_v1_10daily_netcdf\n",
      "Gross Dry Matter Productivity: global 10-daily (raster 1km) | clms_global_gdmp_1km_v2_10daily_geotiff\n",
      "Gross Dry Matter Productivity: global 10-daily (raster 1km) | clms_global_gdmp_1km_v2_10daily_netcdf\n",
      "Gross Dry Matter Productivity: global 10-daily (raster 300m) | clms_global_gdmp_300m_v1_10daily_geotiff\n",
      "Gross Dry Matter Productivity: global 10-daily (raster 300m) | clms_global_gdmp_300m_v1_10daily_netcdf\n",
      "Gross Primary Productivity: global 10-daily (raster 300m) | clms_global_gpp_300m_v1_10daily_geotiff\n",
      "Gross Primary Productivity: global 10-daily (raster 300m) | clms_global_gpp_300m_v1_10daily_netcdf\n",
      "Leaf Area Index: global 10-daily (raster 1km) | clms_global_lai_1km_v1_10daily_geotiff\n",
      "Leaf Area Index: global 10-daily (raster 1km) | clms_global_lai_1km_v1_10daily_netcdf\n",
      "Leaf Area Index: global 10-daily (raster 1km) | clms_global_lai_1km_v2_10daily_geotiff\n",
      "Leaf Area Index: global 10-daily (raster 1km) | clms_global_lai_1km_v2_10daily_netcdf\n",
      "Leaf Area Index: global 10-daily (raster 300m) | clms_global_lai_300m_v1_10daily_geotiff\n",
      "Leaf Area Index: global 10-daily (raster 300m) | clms_global_lai_300m_v1_10daily_netcdf\n",
      "Dynamic Land Cover 2015-2019: global annual (raster 100m) - version 3 | clms_global_lcc_100m_v3_yearly_geotiff\n",
      "Lake Ice Extent: Baltic daily (raster 250 m) | clms_global_lie_250m_v1_daily_netcdf\n",
      "Lake Ice Extent: Continental Europe daily (raster 250 m) | clms_global_lie_250m_v2_daily_netcdf\n",
      "Lake Ice Extent: Europe daily (raster 500 m) | clms_global_lie_500m_v1_daily_netcdf\n",
      "Land Surface Phenology: global yearly (raster 300m) | clms_global_lsp_300m_v1_yearly_geotiff\n",
      "Land Surface Temperature: global 10-daily Daily Cycle (raster 5km) | clms_global_lst_5km_v1_10daily-daily-cycle_geotiff\n",
      "Land Surface Temperature: global 10-daily Daily Cycle (raster 5km) | clms_global_lst_5km_v1_10daily-daily-cycle_netcdf\n",
      "Land Surface Temperature: global 10-daily Thermal Condition Index (raster 5km) | clms_global_lst_5km_v1_10daily-tci_geotiff\n",
      "Land Surface Temperature: global 10-daily Thermal Condition Index (raster 5km) | clms_global_lst_5km_v1_10daily-tci_netcdf\n",
      "Land Surface Temperature: global hourly (raster 5km) | clms_global_lst_5km_v1_hourly_geotiff\n",
      "Land Surface Temperature: global hourly (raster 5km) | clms_global_lst_5km_v1_hourly_netcdf\n",
      "Land Surface Temperature: global 10-daily Daily Cycle (raster 5km) | clms_global_lst_5km_v2_10daily-daily-cycle_geotiff\n",
      "Land Surface Temperature: global 10-daily Daily Cycle (raster 5km) | clms_global_lst_5km_v2_10daily-daily-cycle_netcdf\n",
      "Land Surface Temperature: global 10-daily Thermal Condition Index (raster 5km) | clms_global_lst_5km_v2_10daily-tci_geotiff\n",
      "Land Surface Temperature: global 10-daily Thermal Condition Index (raster 5km) | clms_global_lst_5km_v2_10daily-tci_netcdf\n",
      "Land Surface Temperature: global hourly (raster 5km) | clms_global_lst_5km_v2_hourly_geotiff\n",
      "Land Surface Temperature: global hourly (raster 5km) | clms_global_lst_5km_v2_hourly_netcdf\n",
      "Lake Surface Water Temperature: global 10-daily near-real time (raster 1km) | clms_global_lswt_1km_v1_10daily-nrt_netcdf\n",
      "Lake Surface Water Temperature: global 10-daily reprocessed (raster 1km) | clms_global_lswt_1km_v1_10daily-reproc_netcdf\n",
      "Lake Water Quality: global 10-daily near-real time (raster 100m) | clms_global_lwq_100m_v1_10daily-nrt_netcdf\n",
      "Lake Water Quality: global 10-daily near-real time (raster 100m) - version 2 | clms_global_lwq_100m_v2_10daily-nrt_netcdf\n",
      "Lake Water Quality: global 10-daily near-real time (raster 1km) | clms_global_lwq_1km_v1_10daily-nrt_netcdf\n",
      "Lake Water Quality: global 10-daily reprocessed (raster 1km) | clms_global_lwq_1km_v1_10daily-reproc_netcdf\n",
      "Lake Water Quality: global 10-daily near-real time (raster 300m) | clms_global_lwq_300m_v1_10daily-nrt_netcdf\n",
      "Lake Water Quality: global 10-daily reprocessed (raster 300m) | clms_global_lwq_300m_v1_10daily-reproc_netcdf\n",
      "Lake Water Quality: global 10-daily near-real time (raster 300m) | clms_global_lwq_300m_v2_10daily-nrt_netcdf\n",
      "Normalized Difference Vegetation Index: global 10-daily (raster 1km) | clms_global_ndvi_1km_v2_10daily_geotiff\n",
      "Normalized Difference Vegetation Index: global 10-daily (raster 1km) | clms_global_ndvi_1km_v2_10daily_netcdf\n",
      "Normalized Difference Vegetation Index: global 10-daily statistics (raster 1km) | clms_global_ndvi_1km_v2_statistics_geotiff\n",
      "Normalized Difference Vegetation Index: global 10-daily statistics (raster 1km) | clms_global_ndvi_1km_v2_statistics_netcdf\n",
      "Normalized Difference Vegetation Index: global 10-daily (raster 1km) | clms_global_ndvi_1km_v3_10daily_geotiff\n",
      "Normalized Difference Vegetation Index: global 10-daily (raster 1km) | clms_global_ndvi_1km_v3_10daily_netcdf\n",
      "Normalized Difference Vegetation Index: global 10-daily statistics (raster 1km) | clms_global_ndvi_1km_v3_statistics_geotiff\n",
      "Normalized Difference Vegetation Index: global 10-daily statistics (raster 1km) | clms_global_ndvi_1km_v3_statistics_netcdf\n",
      "Normalized Difference Vegetation Index: global 10-daily (raster 300m) | clms_global_ndvi_300m_v1_10daily_geotiff\n",
      "Normalized Difference Vegetation Index: global 10-daily (raster 300m) | clms_global_ndvi_300m_v1_10daily_netcdf\n",
      "Normalized Difference Vegetation Index: global 10-daily (raster 300m) | clms_global_ndvi_300m_v2_10daily_geotiff\n",
      "Normalized Difference Vegetation Index: global 10-daily (raster 300m) | clms_global_ndvi_300m_v2_10daily_netcdf\n",
      "Net Primary Productivity: global 10-daily (raster 300m) | clms_global_npp_300m_v1_10daily_geotiff\n",
      "Net Primary Productivity: global 10-daily (raster 300m) | clms_global_npp_300m_v1_10daily_netcdf\n",
      "Snow Cover Extent: northern hemisphere daily (raster 1 km) | clms_global_sce_1km_v1_daily_netcdf\n",
      "Snow Cover Extent: Europe daily (raster 500 m) | clms_global_sce_500m_v1_daily_netcdf\n",
      "Surface Soil Moisture: global daily (raster 1 km) | clms_global_ssm_1km_v1_daily_geotiff\n",
      "Surface Soil Moisture: global daily (raster 1 km) | clms_global_ssm_1km_v1_daily_netcdf\n",
      "Snow Water Equivalent: northern hemisphere daily (raster 5 km) | clms_global_swe_5km_v1_daily_netcdf\n",
      "Snow Water Equivalent: northern hemisphere daily (raster 5 km), version 2 | clms_global_swe_5km_v2_daily_netcdf\n",
      "Soil Water Index: global 10-daily (raster 12.5 km) | clms_global_swi_12.5km_v3_10daily_geotiff\n",
      "Soil Water Index: global 10-daily (raster 12.5 km) | clms_global_swi_12.5km_v3_10daily_netcdf\n",
      "Soil Water Index: global daily (raster 12.5 km) | clms_global_swi_12.5km_v3_daily_geotiff\n",
      "Soil Water Index: global daily (raster 12.5 km) | clms_global_swi_12.5km_v3_daily_netcdf\n",
      "Soil Water Index: global daily (raster 12.5 km) | clms_global_swi_12.5km_v3_static_netcdf\n",
      "Soil Water Index: global time series (discrete global grid) | clms_global_swi_12.5km_v3_time-series_netcdf\n",
      "Soil Water Index: global daily (raster 1 km) | clms_global_swi_1km_v1_daily_geotiff\n",
      "Soil Water Index: global daily (raster 1 km) | clms_global_swi_1km_v1_daily_netcdf\n",
      "Water Bodies: global monthly (raster 100m) | clms_global_wb_100m_v1_monthly_netcdf\n",
      "Water Bodies: global 10-daily (raster 1km) | clms_global_wb_1km_v2_10daily_netcdf\n",
      "Water Bodies: global 10-daily (raster 300m) | clms_global_wb_300m_v1_10daily_netcdf\n",
      "Water Bodies: global monthly (raster 300m) | clms_global_wb_300m_v2_monthly_netcdf\n",
      "Lake Water Level: observation time series (vector) | clms_global_wl_lakes_v2_daily_geojson\n",
      "Lake Water Level: observation time series (vector) | clms_global_wl_rivers_v2_daily_geojson\n"
     ]
    }
   ],
   "source": [
    "import datetime as dt\n",
    "from terracatalogueclient import Catalogue\n",
    "from terracatalogueclient.config import CatalogueConfig, CatalogueEnvironment\n",
    "\n",
    "# Create a link to the CLMS catalogue\n",
    "config = CatalogueConfig.from_environment(CatalogueEnvironment.CGLS)\n",
    "catalogue = Catalogue(config)\n",
    "\n",
    "# Optionally list all collections (title and identifier) available in the catalogue\n",
    "for c in list(catalogue.get_collections()):  \n",
    "    print(f\"{c.properties.get('title')} | {c.id}\")"
   ]
  },
  {
   "cell_type": "code",
   "execution_count": 3,
   "metadata": {},
   "outputs": [
    {
     "name": "stderr",
     "output_type": "stream",
     "text": [
      "Downloading data:   1%|          | 1/92 [00:53<1:20:55, 53.36s/it]"
     ]
    },
    {
     "name": "stdout",
     "output_type": "stream",
     "text": [
      "Saved\n"
     ]
    },
    {
     "name": "stderr",
     "output_type": "stream",
     "text": [
      "Downloading data:   2%|▏         | 2/92 [01:09<47:32, 31.70s/it]  "
     ]
    },
    {
     "name": "stdout",
     "output_type": "stream",
     "text": [
      "Saved\n"
     ]
    },
    {
     "name": "stderr",
     "output_type": "stream",
     "text": [
      "Downloading data:   3%|▎         | 3/92 [01:22<34:14, 23.08s/it]"
     ]
    },
    {
     "name": "stdout",
     "output_type": "stream",
     "text": [
      "Saved\n"
     ]
    },
    {
     "name": "stderr",
     "output_type": "stream",
     "text": [
      "Downloading data:   4%|▍         | 4/92 [01:31<25:36, 17.46s/it]"
     ]
    },
    {
     "name": "stdout",
     "output_type": "stream",
     "text": [
      "Saved\n"
     ]
    },
    {
     "name": "stderr",
     "output_type": "stream",
     "text": [
      "Downloading data:   5%|▌         | 5/92 [01:45<23:29, 16.20s/it]"
     ]
    },
    {
     "name": "stdout",
     "output_type": "stream",
     "text": [
      "Saved\n"
     ]
    },
    {
     "name": "stderr",
     "output_type": "stream",
     "text": [
      "Downloading data:   7%|▋         | 6/92 [01:54<19:50, 13.84s/it]"
     ]
    },
    {
     "name": "stdout",
     "output_type": "stream",
     "text": [
      "Saved\n"
     ]
    },
    {
     "name": "stderr",
     "output_type": "stream",
     "text": [
      "Downloading data:   8%|▊         | 7/92 [02:02<16:45, 11.83s/it]"
     ]
    },
    {
     "name": "stdout",
     "output_type": "stream",
     "text": [
      "Saved\n"
     ]
    },
    {
     "name": "stderr",
     "output_type": "stream",
     "text": [
      "Downloading data:   9%|▊         | 8/92 [02:08<14:08, 10.10s/it]"
     ]
    },
    {
     "name": "stdout",
     "output_type": "stream",
     "text": [
      "Saved\n"
     ]
    },
    {
     "name": "stderr",
     "output_type": "stream",
     "text": [
      "Downloading data:  10%|▉         | 9/92 [02:17<13:08,  9.50s/it]"
     ]
    },
    {
     "name": "stdout",
     "output_type": "stream",
     "text": [
      "Saved\n"
     ]
    },
    {
     "name": "stderr",
     "output_type": "stream",
     "text": [
      "Downloading data:  11%|█         | 10/92 [02:26<12:47,  9.36s/it]"
     ]
    },
    {
     "name": "stdout",
     "output_type": "stream",
     "text": [
      "Saved\n"
     ]
    },
    {
     "name": "stderr",
     "output_type": "stream",
     "text": [
      "Downloading data:  12%|█▏        | 11/92 [02:33<11:55,  8.83s/it]"
     ]
    },
    {
     "name": "stdout",
     "output_type": "stream",
     "text": [
      "Saved\n"
     ]
    },
    {
     "name": "stderr",
     "output_type": "stream",
     "text": [
      "Downloading data:  13%|█▎        | 12/92 [02:38<10:16,  7.71s/it]"
     ]
    },
    {
     "name": "stdout",
     "output_type": "stream",
     "text": [
      "Saved\n"
     ]
    },
    {
     "name": "stderr",
     "output_type": "stream",
     "text": [
      "Downloading data:  14%|█▍        | 13/92 [02:44<09:23,  7.14s/it]"
     ]
    },
    {
     "name": "stdout",
     "output_type": "stream",
     "text": [
      "Saved\n"
     ]
    },
    {
     "name": "stderr",
     "output_type": "stream",
     "text": [
      "Downloading data:  15%|█▌        | 14/92 [02:51<09:12,  7.08s/it]"
     ]
    },
    {
     "name": "stdout",
     "output_type": "stream",
     "text": [
      "Saved\n"
     ]
    },
    {
     "name": "stderr",
     "output_type": "stream",
     "text": [
      "Downloading data:  16%|█▋        | 15/92 [02:58<08:54,  6.94s/it]"
     ]
    },
    {
     "name": "stdout",
     "output_type": "stream",
     "text": [
      "Saved\n"
     ]
    },
    {
     "name": "stderr",
     "output_type": "stream",
     "text": [
      "Downloading data:  17%|█▋        | 16/92 [03:02<07:51,  6.20s/it]"
     ]
    },
    {
     "name": "stdout",
     "output_type": "stream",
     "text": [
      "Saved\n"
     ]
    },
    {
     "name": "stderr",
     "output_type": "stream",
     "text": [
      "Downloading data:  18%|█▊        | 17/92 [03:08<07:30,  6.01s/it]"
     ]
    },
    {
     "name": "stdout",
     "output_type": "stream",
     "text": [
      "Saved\n"
     ]
    },
    {
     "name": "stderr",
     "output_type": "stream",
     "text": [
      "Downloading data:  20%|█▉        | 18/92 [03:15<07:49,  6.34s/it]"
     ]
    },
    {
     "name": "stdout",
     "output_type": "stream",
     "text": [
      "Saved\n"
     ]
    },
    {
     "name": "stderr",
     "output_type": "stream",
     "text": [
      "Downloading data:  21%|██        | 19/92 [03:21<07:42,  6.33s/it]"
     ]
    },
    {
     "name": "stdout",
     "output_type": "stream",
     "text": [
      "Saved\n"
     ]
    },
    {
     "name": "stderr",
     "output_type": "stream",
     "text": [
      "Downloading data:  22%|██▏       | 20/92 [03:27<07:22,  6.14s/it]"
     ]
    },
    {
     "name": "stdout",
     "output_type": "stream",
     "text": [
      "Saved\n"
     ]
    },
    {
     "name": "stderr",
     "output_type": "stream",
     "text": [
      "Downloading data:  23%|██▎       | 21/92 [03:32<06:49,  5.76s/it]"
     ]
    },
    {
     "name": "stdout",
     "output_type": "stream",
     "text": [
      "Saved\n"
     ]
    },
    {
     "name": "stderr",
     "output_type": "stream",
     "text": [
      "Downloading data:  24%|██▍       | 22/92 [03:38<06:53,  5.91s/it]"
     ]
    },
    {
     "name": "stdout",
     "output_type": "stream",
     "text": [
      "Saved\n"
     ]
    },
    {
     "name": "stderr",
     "output_type": "stream",
     "text": [
      "Downloading data:  25%|██▌       | 23/92 [03:44<06:45,  5.88s/it]"
     ]
    },
    {
     "name": "stdout",
     "output_type": "stream",
     "text": [
      "Saved\n"
     ]
    },
    {
     "name": "stderr",
     "output_type": "stream",
     "text": [
      "Downloading data:  26%|██▌       | 24/92 [03:48<06:05,  5.38s/it]"
     ]
    },
    {
     "name": "stdout",
     "output_type": "stream",
     "text": [
      "Saved\n"
     ]
    },
    {
     "name": "stderr",
     "output_type": "stream",
     "text": [
      "Downloading data:  27%|██▋       | 25/92 [03:57<07:20,  6.58s/it]"
     ]
    },
    {
     "name": "stdout",
     "output_type": "stream",
     "text": [
      "Saved\n"
     ]
    },
    {
     "name": "stderr",
     "output_type": "stream",
     "text": [
      "Downloading data:  28%|██▊       | 26/92 [04:04<07:06,  6.47s/it]"
     ]
    },
    {
     "name": "stdout",
     "output_type": "stream",
     "text": [
      "Saved\n"
     ]
    },
    {
     "name": "stderr",
     "output_type": "stream",
     "text": [
      "Downloading data:  29%|██▉       | 27/92 [04:10<06:57,  6.43s/it]"
     ]
    },
    {
     "name": "stdout",
     "output_type": "stream",
     "text": [
      "Saved\n"
     ]
    },
    {
     "name": "stderr",
     "output_type": "stream",
     "text": [
      "Downloading data:  30%|███       | 28/92 [04:14<06:11,  5.80s/it]"
     ]
    },
    {
     "name": "stdout",
     "output_type": "stream",
     "text": [
      "Saved\n"
     ]
    },
    {
     "name": "stderr",
     "output_type": "stream",
     "text": [
      "Downloading data:  32%|███▏      | 29/92 [04:19<05:51,  5.58s/it]"
     ]
    },
    {
     "name": "stdout",
     "output_type": "stream",
     "text": [
      "Saved\n"
     ]
    },
    {
     "name": "stderr",
     "output_type": "stream",
     "text": [
      "Downloading data:  33%|███▎      | 30/92 [04:26<05:58,  5.78s/it]"
     ]
    },
    {
     "name": "stdout",
     "output_type": "stream",
     "text": [
      "Saved\n"
     ]
    },
    {
     "name": "stderr",
     "output_type": "stream",
     "text": [
      "Downloading data:  34%|███▎      | 31/92 [04:32<06:02,  5.94s/it]"
     ]
    },
    {
     "name": "stdout",
     "output_type": "stream",
     "text": [
      "Saved\n"
     ]
    },
    {
     "name": "stderr",
     "output_type": "stream",
     "text": [
      "Downloading data:  35%|███▍      | 32/92 [04:37<05:37,  5.62s/it]"
     ]
    },
    {
     "name": "stdout",
     "output_type": "stream",
     "text": [
      "Saved\n"
     ]
    },
    {
     "name": "stderr",
     "output_type": "stream",
     "text": [
      "Downloading data:  36%|███▌      | 33/92 [04:42<05:29,  5.59s/it]"
     ]
    },
    {
     "name": "stdout",
     "output_type": "stream",
     "text": [
      "Saved\n"
     ]
    },
    {
     "name": "stderr",
     "output_type": "stream",
     "text": [
      "Downloading data:  37%|███▋      | 34/92 [04:49<05:39,  5.85s/it]"
     ]
    },
    {
     "name": "stdout",
     "output_type": "stream",
     "text": [
      "Saved\n"
     ]
    },
    {
     "name": "stderr",
     "output_type": "stream",
     "text": [
      "Downloading data:  38%|███▊      | 35/92 [04:55<05:35,  5.88s/it]"
     ]
    },
    {
     "name": "stdout",
     "output_type": "stream",
     "text": [
      "Saved\n"
     ]
    },
    {
     "name": "stderr",
     "output_type": "stream",
     "text": [
      "Downloading data:  39%|███▉      | 36/92 [04:59<05:07,  5.49s/it]"
     ]
    },
    {
     "name": "stdout",
     "output_type": "stream",
     "text": [
      "Saved\n"
     ]
    },
    {
     "name": "stderr",
     "output_type": "stream",
     "text": [
      "Downloading data:  40%|████      | 37/92 [05:04<04:56,  5.39s/it]"
     ]
    },
    {
     "name": "stdout",
     "output_type": "stream",
     "text": [
      "Saved\n"
     ]
    },
    {
     "name": "stderr",
     "output_type": "stream",
     "text": [
      "Downloading data:  41%|████▏     | 38/92 [05:10<04:57,  5.51s/it]"
     ]
    },
    {
     "name": "stdout",
     "output_type": "stream",
     "text": [
      "Saved\n"
     ]
    },
    {
     "name": "stderr",
     "output_type": "stream",
     "text": [
      "Downloading data:  42%|████▏     | 39/92 [05:15<04:45,  5.39s/it]"
     ]
    },
    {
     "name": "stdout",
     "output_type": "stream",
     "text": [
      "Saved\n"
     ]
    },
    {
     "name": "stderr",
     "output_type": "stream",
     "text": [
      "Downloading data:  43%|████▎     | 40/92 [05:19<04:19,  4.99s/it]"
     ]
    },
    {
     "name": "stdout",
     "output_type": "stream",
     "text": [
      "Saved\n"
     ]
    },
    {
     "name": "stderr",
     "output_type": "stream",
     "text": [
      "Downloading data:  45%|████▍     | 41/92 [05:25<04:17,  5.05s/it]"
     ]
    },
    {
     "name": "stdout",
     "output_type": "stream",
     "text": [
      "Saved\n"
     ]
    },
    {
     "name": "stderr",
     "output_type": "stream",
     "text": [
      "Downloading data:  46%|████▌     | 42/92 [05:31<04:28,  5.36s/it]"
     ]
    },
    {
     "name": "stdout",
     "output_type": "stream",
     "text": [
      "Saved\n"
     ]
    },
    {
     "name": "stderr",
     "output_type": "stream",
     "text": [
      "Downloading data:  47%|████▋     | 43/92 [05:36<04:25,  5.41s/it]"
     ]
    },
    {
     "name": "stdout",
     "output_type": "stream",
     "text": [
      "Saved\n"
     ]
    },
    {
     "name": "stderr",
     "output_type": "stream",
     "text": [
      "Downloading data:  48%|████▊     | 44/92 [05:40<03:56,  4.93s/it]"
     ]
    },
    {
     "name": "stdout",
     "output_type": "stream",
     "text": [
      "Saved\n"
     ]
    },
    {
     "name": "stderr",
     "output_type": "stream",
     "text": [
      "Downloading data:  49%|████▉     | 45/92 [05:45<03:50,  4.91s/it]"
     ]
    },
    {
     "name": "stdout",
     "output_type": "stream",
     "text": [
      "Saved\n"
     ]
    },
    {
     "name": "stderr",
     "output_type": "stream",
     "text": [
      "Downloading data:  50%|█████     | 46/92 [05:51<04:01,  5.24s/it]"
     ]
    },
    {
     "name": "stdout",
     "output_type": "stream",
     "text": [
      "Saved\n"
     ]
    },
    {
     "name": "stderr",
     "output_type": "stream",
     "text": [
      "Downloading data:  51%|█████     | 47/92 [06:14<08:01, 10.71s/it]"
     ]
    },
    {
     "name": "stdout",
     "output_type": "stream",
     "text": [
      "Saved\n"
     ]
    },
    {
     "name": "stderr",
     "output_type": "stream",
     "text": [
      "Downloading data:  52%|█████▏    | 48/92 [06:28<08:35, 11.73s/it]"
     ]
    },
    {
     "name": "stdout",
     "output_type": "stream",
     "text": [
      "Saved\n"
     ]
    },
    {
     "name": "stderr",
     "output_type": "stream",
     "text": [
      "Downloading data:  53%|█████▎    | 49/92 [06:38<08:00, 11.18s/it]"
     ]
    },
    {
     "name": "stdout",
     "output_type": "stream",
     "text": [
      "Saved\n"
     ]
    },
    {
     "name": "stderr",
     "output_type": "stream",
     "text": [
      "Downloading data:  54%|█████▍    | 50/92 [06:47<07:23, 10.55s/it]"
     ]
    },
    {
     "name": "stdout",
     "output_type": "stream",
     "text": [
      "Saved\n"
     ]
    },
    {
     "name": "stderr",
     "output_type": "stream",
     "text": [
      "Downloading data:  55%|█████▌    | 51/92 [06:56<06:43,  9.84s/it]"
     ]
    },
    {
     "name": "stdout",
     "output_type": "stream",
     "text": [
      "Saved\n"
     ]
    },
    {
     "name": "stderr",
     "output_type": "stream",
     "text": [
      "Downloading data:  57%|█████▋    | 52/92 [07:00<05:31,  8.30s/it]"
     ]
    },
    {
     "name": "stdout",
     "output_type": "stream",
     "text": [
      "Saved\n"
     ]
    },
    {
     "name": "stderr",
     "output_type": "stream",
     "text": [
      "Downloading data:  58%|█████▊    | 53/92 [07:05<04:43,  7.26s/it]"
     ]
    },
    {
     "name": "stdout",
     "output_type": "stream",
     "text": [
      "Saved\n"
     ]
    },
    {
     "name": "stderr",
     "output_type": "stream",
     "text": [
      "Downloading data:  59%|█████▊    | 54/92 [07:11<04:16,  6.74s/it]"
     ]
    },
    {
     "name": "stdout",
     "output_type": "stream",
     "text": [
      "Saved\n"
     ]
    },
    {
     "name": "stderr",
     "output_type": "stream",
     "text": [
      "Downloading data:  60%|█████▉    | 55/92 [07:18<04:15,  6.91s/it]"
     ]
    },
    {
     "name": "stdout",
     "output_type": "stream",
     "text": [
      "Saved\n"
     ]
    },
    {
     "name": "stderr",
     "output_type": "stream",
     "text": [
      "Downloading data:  61%|██████    | 56/92 [07:22<03:32,  5.91s/it]"
     ]
    },
    {
     "name": "stdout",
     "output_type": "stream",
     "text": [
      "Saved\n"
     ]
    },
    {
     "name": "stderr",
     "output_type": "stream",
     "text": [
      "Downloading data:  62%|██████▏   | 57/92 [07:27<03:17,  5.64s/it]"
     ]
    },
    {
     "name": "stdout",
     "output_type": "stream",
     "text": [
      "Saved\n"
     ]
    },
    {
     "name": "stderr",
     "output_type": "stream",
     "text": [
      "Downloading data:  63%|██████▎   | 58/92 [07:35<03:41,  6.53s/it]"
     ]
    },
    {
     "name": "stdout",
     "output_type": "stream",
     "text": [
      "Saved\n"
     ]
    },
    {
     "name": "stderr",
     "output_type": "stream",
     "text": [
      "Downloading data:  64%|██████▍   | 59/92 [07:43<03:46,  6.87s/it]"
     ]
    },
    {
     "name": "stdout",
     "output_type": "stream",
     "text": [
      "Saved\n"
     ]
    },
    {
     "name": "stderr",
     "output_type": "stream",
     "text": [
      "Downloading data:  65%|██████▌   | 60/92 [07:48<03:22,  6.32s/it]"
     ]
    },
    {
     "name": "stdout",
     "output_type": "stream",
     "text": [
      "Saved\n"
     ]
    },
    {
     "name": "stderr",
     "output_type": "stream",
     "text": [
      "Downloading data:  66%|██████▋   | 61/92 [07:53<03:01,  5.85s/it]"
     ]
    },
    {
     "name": "stdout",
     "output_type": "stream",
     "text": [
      "Saved\n"
     ]
    },
    {
     "name": "stderr",
     "output_type": "stream",
     "text": [
      "Downloading data:  67%|██████▋   | 62/92 [07:58<02:50,  5.68s/it]"
     ]
    },
    {
     "name": "stdout",
     "output_type": "stream",
     "text": [
      "Saved\n"
     ]
    },
    {
     "name": "stderr",
     "output_type": "stream",
     "text": [
      "Downloading data:  68%|██████▊   | 63/92 [08:05<02:55,  6.04s/it]"
     ]
    },
    {
     "name": "stdout",
     "output_type": "stream",
     "text": [
      "Saved\n"
     ]
    },
    {
     "name": "stderr",
     "output_type": "stream",
     "text": [
      "Downloading data:  70%|██████▉   | 64/92 [08:09<02:33,  5.49s/it]"
     ]
    },
    {
     "name": "stdout",
     "output_type": "stream",
     "text": [
      "Saved\n"
     ]
    },
    {
     "name": "stderr",
     "output_type": "stream",
     "text": [
      "Downloading data:  71%|███████   | 65/92 [08:14<02:23,  5.32s/it]"
     ]
    },
    {
     "name": "stdout",
     "output_type": "stream",
     "text": [
      "Saved\n"
     ]
    },
    {
     "name": "stderr",
     "output_type": "stream",
     "text": [
      "Downloading data:  72%|███████▏  | 66/92 [08:20<02:24,  5.54s/it]"
     ]
    },
    {
     "name": "stdout",
     "output_type": "stream",
     "text": [
      "Saved\n"
     ]
    },
    {
     "name": "stderr",
     "output_type": "stream",
     "text": [
      "Downloading data:  73%|███████▎  | 67/92 [08:26<02:23,  5.75s/it]"
     ]
    },
    {
     "name": "stdout",
     "output_type": "stream",
     "text": [
      "Saved\n"
     ]
    },
    {
     "name": "stderr",
     "output_type": "stream",
     "text": [
      "Downloading data:  74%|███████▍  | 68/92 [08:30<02:04,  5.19s/it]"
     ]
    },
    {
     "name": "stdout",
     "output_type": "stream",
     "text": [
      "Saved\n"
     ]
    },
    {
     "name": "stderr",
     "output_type": "stream",
     "text": [
      "Downloading data:  75%|███████▌  | 69/92 [08:35<01:55,  5.04s/it]"
     ]
    },
    {
     "name": "stdout",
     "output_type": "stream",
     "text": [
      "Saved\n"
     ]
    },
    {
     "name": "stderr",
     "output_type": "stream",
     "text": [
      "Downloading data:  76%|███████▌  | 70/92 [08:41<01:55,  5.23s/it]"
     ]
    },
    {
     "name": "stdout",
     "output_type": "stream",
     "text": [
      "Saved\n"
     ]
    },
    {
     "name": "stderr",
     "output_type": "stream",
     "text": [
      "Downloading data:  77%|███████▋  | 71/92 [08:46<01:51,  5.30s/it]"
     ]
    },
    {
     "name": "stdout",
     "output_type": "stream",
     "text": [
      "Saved\n",
      "Saved\n",
      "Saved\n",
      "Saved\n"
     ]
    },
    {
     "name": "stderr",
     "output_type": "stream",
     "text": [
      "Downloading data:  78%|███████▊  | 72/92 [09:05<03:05,  9.28s/it]"
     ]
    },
    {
     "name": "stdout",
     "output_type": "stream",
     "text": [
      "Saved\n",
      "Saved\n",
      "Saved\n",
      "Saved\n"
     ]
    },
    {
     "name": "stderr",
     "output_type": "stream",
     "text": [
      "Downloading data:  79%|███████▉  | 73/92 [09:21<03:34, 11.28s/it]"
     ]
    },
    {
     "name": "stdout",
     "output_type": "stream",
     "text": [
      "Saved\n",
      "Saved\n",
      "Saved\n",
      "Saved\n"
     ]
    },
    {
     "name": "stderr",
     "output_type": "stream",
     "text": [
      "Downloading data:  80%|████████  | 74/92 [09:42<04:17, 14.28s/it]"
     ]
    },
    {
     "name": "stdout",
     "output_type": "stream",
     "text": [
      "Saved\n",
      "Saved\n",
      "Saved\n",
      "Saved\n"
     ]
    },
    {
     "name": "stderr",
     "output_type": "stream",
     "text": [
      "Downloading data:  82%|████████▏ | 75/92 [10:06<04:51, 17.13s/it]"
     ]
    },
    {
     "name": "stdout",
     "output_type": "stream",
     "text": [
      "Saved\n",
      "Saved\n",
      "Saved\n",
      "Saved\n"
     ]
    },
    {
     "name": "stderr",
     "output_type": "stream",
     "text": [
      "Downloading data:  83%|████████▎ | 76/92 [10:24<04:38, 17.40s/it]"
     ]
    },
    {
     "name": "stdout",
     "output_type": "stream",
     "text": [
      "Saved\n",
      "Saved\n",
      "Saved\n",
      "Saved\n"
     ]
    },
    {
     "name": "stderr",
     "output_type": "stream",
     "text": [
      "Downloading data:  84%|████████▎ | 77/92 [10:44<04:35, 18.40s/it]"
     ]
    },
    {
     "name": "stdout",
     "output_type": "stream",
     "text": [
      "Saved\n",
      "Saved\n",
      "Saved\n",
      "Saved\n"
     ]
    },
    {
     "name": "stderr",
     "output_type": "stream",
     "text": [
      "Downloading data:  85%|████████▍ | 78/92 [11:11<04:50, 20.74s/it]"
     ]
    },
    {
     "name": "stdout",
     "output_type": "stream",
     "text": [
      "Saved\n",
      "Saved\n",
      "Saved\n",
      "Saved\n"
     ]
    },
    {
     "name": "stderr",
     "output_type": "stream",
     "text": [
      "Downloading data:  86%|████████▌ | 79/92 [11:35<04:43, 21.80s/it]"
     ]
    },
    {
     "name": "stdout",
     "output_type": "stream",
     "text": [
      "Saved\n",
      "Saved\n",
      "Saved\n",
      "Saved\n"
     ]
    },
    {
     "name": "stderr",
     "output_type": "stream",
     "text": [
      "Downloading data:  87%|████████▋ | 80/92 [11:53<04:09, 20.75s/it]"
     ]
    },
    {
     "name": "stdout",
     "output_type": "stream",
     "text": [
      "Saved\n",
      "Saved\n",
      "Saved\n",
      "Saved\n"
     ]
    },
    {
     "name": "stderr",
     "output_type": "stream",
     "text": [
      "Downloading data:  88%|████████▊ | 81/92 [12:15<03:52, 21.12s/it]"
     ]
    },
    {
     "name": "stdout",
     "output_type": "stream",
     "text": [
      "Saved\n"
     ]
    },
    {
     "name": "stderr",
     "output_type": "stream",
     "text": [
      "Downloading data:  90%|█████████ | 83/92 [12:22<01:46, 11.80s/it]"
     ]
    },
    {
     "name": "stdout",
     "output_type": "stream",
     "text": [
      "Saved\n",
      "No products found for 2020 autumn\n"
     ]
    },
    {
     "name": "stderr",
     "output_type": "stream",
     "text": [
      "Downloading data:  92%|█████████▏| 85/92 [12:22<00:40,  5.85s/it]"
     ]
    },
    {
     "name": "stdout",
     "output_type": "stream",
     "text": [
      "No products found for 2020 winter\n",
      "No products found for 2021 spring\n"
     ]
    },
    {
     "name": "stderr",
     "output_type": "stream",
     "text": [
      "Downloading data:  95%|█████████▍| 87/92 [12:22<00:14,  2.94s/it]"
     ]
    },
    {
     "name": "stdout",
     "output_type": "stream",
     "text": [
      "No products found for 2021 summer\n",
      "No products found for 2021 autumn\n"
     ]
    },
    {
     "name": "stderr",
     "output_type": "stream",
     "text": [
      "Downloading data:  97%|█████████▋| 89/92 [12:23<00:04,  1.50s/it]"
     ]
    },
    {
     "name": "stdout",
     "output_type": "stream",
     "text": [
      "No products found for 2021 winter\n",
      "No products found for 2022 spring\n"
     ]
    },
    {
     "name": "stderr",
     "output_type": "stream",
     "text": [
      "Downloading data:  99%|█████████▉| 91/92 [12:23<00:00,  1.25it/s]"
     ]
    },
    {
     "name": "stdout",
     "output_type": "stream",
     "text": [
      "No products found for 2022 summer\n",
      "No products found for 2022 autumn\n"
     ]
    },
    {
     "name": "stderr",
     "output_type": "stream",
     "text": [
      "Downloading data: 100%|██████████| 92/92 [12:23<00:00,  8.08s/it]"
     ]
    },
    {
     "name": "stdout",
     "output_type": "stream",
     "text": [
      "No products found for 2022 winter\n"
     ]
    },
    {
     "name": "stderr",
     "output_type": "stream",
     "text": [
      "\n"
     ]
    }
   ],
   "source": [
    "import datetime as dt\n",
    "import os\n",
    "from tqdm import tqdm\n",
    "\n",
    "# 你要下载的产品ID\n",
    "product_id = \"clms_global_gdmp_1km_v2_10daily_netcdf\"\n",
    "\n",
    "# 四季代表日期\n",
    "season_days = {\n",
    "    \"spring\": (3, 21),\n",
    "    \"summer\": (6, 21),\n",
    "    \"autumn\": (9, 23),\n",
    "    \"winter\": (12, 21)\n",
    "}\n",
    "\n",
    "# 下载根目录\n",
    "base_dir = r\"pre-process\\Gross_productivity\"  # 修改为你想保存的根目录\n",
    "os.makedirs(base_dir, exist_ok=True)\n",
    "\n",
    "# 创建年份和季节的组合列表用于进度条\n",
    "total_items = len(range(2000, 2023)) * len(season_days)\n",
    "progress_bar = tqdm(total=total_items, desc=\"Downloading data\")\n",
    "\n",
    "for year in range(2000, 2023):\n",
    "    for season, (month, day) in season_days.items():\n",
    "        try:\n",
    "            date = dt.date(year, month, day)\n",
    "            products = list(catalogue.get_products(\n",
    "                product_id,\n",
    "                start=date,\n",
    "                end=date\n",
    "            ))\n",
    "            if products:\n",
    "                # 直接下载到base_dir并重命名\n",
    "                for product in products:\n",
    "                    catalogue.download_product(product, base_dir)\n",
    "                    print(f\"Saved\")\n",
    "            else:\n",
    "                print(f\"No products found for {year} {season}\")\n",
    "        except Exception as e:\n",
    "            print(f\"Error for {year}-{season}: {e}\")\n",
    "        \n",
    "        progress_bar.update(1)\n",
    "\n",
    "progress_bar.close()"
   ]
  },
  {
   "cell_type": "code",
   "execution_count": 19,
   "metadata": {},
   "outputs": [
    {
     "name": "stdout",
     "output_type": "stream",
     "text": [
      "Product information:\n",
      "\n",
      "\n",
      "   Product title: \"Soil Water Index - Static Layers (raster 12.5 km), global, 10-daily – version 3\"\n",
      "   UID: \"93502460f78d4766af9f3a0399d8e78f\"\n",
      "   Product link: https://land.copernicus.eu/api/en/products/soil-moisture/soil-water-index-static-layers-v3-0-12-5-km\n",
      "\n",
      "\n",
      "Download option for \"Soil Water Index - Static Layers (raster 12.5 km), global, 10-daily – version 3\":\n"
     ]
    },
    {
     "data": {
      "text/plain": [
       "{'@id': '1577b614-2a1a-44aa-b207-27c5d979a59c',\n",
       " 'area': '',\n",
       " 'file': '',\n",
       " 'format': '',\n",
       " 'path': '',\n",
       " 'resolution': '',\n",
       " 'size': '',\n",
       " 'source': '',\n",
       " 'title': '',\n",
       " 'type': '',\n",
       " 'version': '',\n",
       " 'year': ''}"
      ]
     },
     "metadata": {},
     "output_type": "display_data"
    },
    {
     "name": "stdout",
     "output_type": "stream",
     "text": [
      "\n",
      "\n",
      "\n",
      "\n",
      "\n",
      "____________________________________________________________________________________________________\n",
      "Product information:\n",
      "\n",
      "\n",
      "   Product title: \"Water and Ice Cover 2025-present (raster 20 m, 60 m), Europe, daily\"\n",
      "   UID: \"d045aba91c174cfba7c280392df745f1\"\n",
      "   Product link: https://land.copernicus.eu/api/en/products/water-bodies/water-and-ice-cover-raster-20-m-60-m-europe-daily\n",
      "\n",
      "\n",
      "Download option for \"Water and Ice Cover 2025-present (raster 20 m, 60 m), Europe, daily\":\n"
     ]
    },
    {
     "data": {
      "text/plain": [
       "{'@id': '56773bd2-10cd-45d3-ab40-7ea9aa613f6e',\n",
       " 'area': '',\n",
       " 'file': '',\n",
       " 'format': '',\n",
       " 'path': '',\n",
       " 'resolution': '',\n",
       " 'size': '',\n",
       " 'source': '',\n",
       " 'title': '',\n",
       " 'type': '',\n",
       " 'version': '',\n",
       " 'year': ''}"
      ]
     },
     "metadata": {},
     "output_type": "display_data"
    },
    {
     "name": "stdout",
     "output_type": "stream",
     "text": [
      "\n",
      "\n",
      "\n",
      "\n",
      "\n",
      "____________________________________________________________________________________________________\n",
      "Product information:\n",
      "\n",
      "\n",
      "   Product title: \"Lake Ice Extent 2024-present (raster 250 m), Europe, daily – version  2\"\n",
      "   UID: \"3ee460dfc0eb48b09a3283bdcb913a50\"\n",
      "   Product link: https://land.copernicus.eu/api/en/products/water-bodies/lake-ice-extent-europe-v2-250m\n",
      "\n",
      "\n",
      "Download option for \"Lake Ice Extent 2024-present (raster 250 m), Europe, daily – version  2\":\n"
     ]
    },
    {
     "data": {
      "text/plain": [
       "{'@id': '3e5bfdc3-241c-4feb-a9bc-46772ff44204',\n",
       " 'area': '',\n",
       " 'file': '',\n",
       " 'format': '',\n",
       " 'path': '',\n",
       " 'resolution': '',\n",
       " 'size': '',\n",
       " 'source': '',\n",
       " 'title': '',\n",
       " 'type': '',\n",
       " 'version': '',\n",
       " 'year': ''}"
      ]
     },
     "metadata": {},
     "output_type": "display_data"
    },
    {
     "name": "stdout",
     "output_type": "stream",
     "text": [
      "\n",
      "\n",
      "\n",
      "\n",
      "\n",
      "____________________________________________________________________________________________________\n",
      "Product information:\n",
      "\n",
      "\n",
      "   Product title: \"Very High Resolution Image Mosaic 2021 True Colour (raster 2 m), Europe\"\n",
      "   UID: \"c0b301ebe1fa40da8117ca6f13240baa\"\n",
      "   Product link: https://land.copernicus.eu/api/en/products/european-image-mosaic/very-high-resolution-image-mosaic-2021-true-colour-2m\n",
      "\n",
      "\n",
      "Download option for \"Very High Resolution Image Mosaic 2021 True Colour (raster 2 m), Europe\":\n"
     ]
    },
    {
     "data": {
      "text/plain": [
       "{'@id': 'bc3d0068-198d-41de-820b-f3bf8c165354',\n",
       " 'area': '',\n",
       " 'file': '',\n",
       " 'format': '',\n",
       " 'path': '',\n",
       " 'resolution': '',\n",
       " 'size': '',\n",
       " 'source': '',\n",
       " 'title': '',\n",
       " 'type': '',\n",
       " 'version': '',\n",
       " 'year': ''}"
      ]
     },
     "metadata": {},
     "output_type": "display_data"
    },
    {
     "name": "stdout",
     "output_type": "stream",
     "text": [
      "\n",
      "\n",
      "\n",
      "\n",
      "\n",
      "____________________________________________________________________________________________________\n",
      "Product information:\n",
      "\n",
      "\n",
      "   Product title: \"Lake Water Quality 2024-present (raster 300 m), global, 10-daily – version 2\"\n",
      "   UID: \"9e8be500204945a48ce15fc8d1c57482\"\n",
      "   Product link: https://land.copernicus.eu/api/en/products/water-bodies/lake-water-quality-near-real-time-v2-0-300m\n",
      "\n",
      "\n",
      "Download option for \"Lake Water Quality 2024-present (raster 300 m), global, 10-daily – version 2\":\n"
     ]
    },
    {
     "data": {
      "text/plain": [
       "{'@id': '837e6e7e-379d-437a-a715-0660e914a473',\n",
       " 'area': '',\n",
       " 'file': '',\n",
       " 'format': '',\n",
       " 'path': '',\n",
       " 'resolution': '',\n",
       " 'size': '',\n",
       " 'source': '',\n",
       " 'title': '',\n",
       " 'type': '',\n",
       " 'version': '',\n",
       " 'year': ''}"
      ]
     },
     "metadata": {},
     "output_type": "display_data"
    },
    {
     "name": "stdout",
     "output_type": "stream",
     "text": [
      "\n",
      "\n",
      "\n",
      "\n",
      "\n",
      "____________________________________________________________________________________________________\n",
      "Product information:\n",
      "\n",
      "\n",
      "   Product title: \"European Ground Motion Service Basic 2019-2023 (vector), Europe, yearly\"\n",
      "   UID: \"00f7264e92d54a70b02bce9b315d7b32\"\n",
      "   Product link: https://land.copernicus.eu/api/en/products/european-ground-motion-service/egms-basic\n",
      "\n",
      "\n",
      "Download option for \"European Ground Motion Service Basic 2019-2023 (vector), Europe, yearly\":\n"
     ]
    },
    {
     "data": {
      "text/plain": [
       "{'@id': '71e57b6f-a3f6-4a06-8dcc-5f71d90e235a',\n",
       " 'area': '',\n",
       " 'file': '',\n",
       " 'format': '',\n",
       " 'path': '',\n",
       " 'resolution': '',\n",
       " 'size': '',\n",
       " 'source': '',\n",
       " 'title': '',\n",
       " 'type': '',\n",
       " 'version': '',\n",
       " 'year': ''}"
      ]
     },
     "metadata": {},
     "output_type": "display_data"
    },
    {
     "name": "stdout",
     "output_type": "stream",
     "text": [
      "\n",
      "\n",
      "\n",
      "\n",
      "\n",
      "____________________________________________________________________________________________________\n",
      "Product information:\n",
      "\n",
      "\n",
      "   Product title: \"CLCplus Backbone 2021 (raster 10 m), Europe, 3-yearly\"\n",
      "   UID: \"4d0d78ad472c45819aff1d9fa7af0461\"\n",
      "   Product link: https://land.copernicus.eu/api/en/products/clc-backbone/clc-backbone-2021\n",
      "\n",
      "\n",
      "Download option for \"CLCplus Backbone 2021 (raster 10 m), Europe, 3-yearly\":\n"
     ]
    },
    {
     "data": {
      "text/plain": [
       "{'@id': 'b813d203-d09b-4663-95f7-65dc6d53789e',\n",
       " 'area': 'Europe',\n",
       " 'file': 'CLMS_CLCplus_RASTER_2021',\n",
       " 'format': 'Geotiff',\n",
       " 'path': 'H:\\\\Corine_Land_Cover_Backbone\\\\Corine_Land_Cover_Backbone_CLCBB_2021\\\\CLC_BB_2021\\\\Data\\\\data-details\\\\raster\\\\CLMS_CLCplus_RASTER_2021.zip',\n",
       " 'resolution': '10 m',\n",
       " 'size': '7 GB',\n",
       " 'source': 'EEA',\n",
       " 'title': '',\n",
       " 'type': 'Raster',\n",
       " 'version': 'V1_1',\n",
       " 'year': ''}"
      ]
     },
     "metadata": {},
     "output_type": "display_data"
    },
    {
     "name": "stdout",
     "output_type": "stream",
     "text": [
      "\n",
      "\n",
      "\n",
      "\n",
      "\n",
      "____________________________________________________________________________________________________\n",
      "Product information:\n",
      "\n",
      "\n",
      "   Product title: \"Burnt Area 2023 - present (raster 300 m), global, daily – version 3.1\"\n",
      "   UID: \"6897d6fbb6a948f2819a836fe2341f48\"\n",
      "   Product link: https://land.copernicus.eu/api/en/products/vegetation/burnt-area-v3-1-daily-300m\n",
      "\n",
      "\n",
      "Download option for \"Burnt Area 2023 - present (raster 300 m), global, daily – version 3.1\":\n"
     ]
    },
    {
     "data": {
      "text/plain": [
       "{'@id': 'dab1166d-9cc9-48c2-9f0c-157a65a78f80',\n",
       " 'area': '',\n",
       " 'file': '',\n",
       " 'format': '',\n",
       " 'path': '',\n",
       " 'resolution': '',\n",
       " 'size': '',\n",
       " 'source': '',\n",
       " 'title': '',\n",
       " 'type': '',\n",
       " 'version': '',\n",
       " 'year': ''}"
      ]
     },
     "metadata": {},
     "output_type": "display_data"
    },
    {
     "name": "stdout",
     "output_type": "stream",
     "text": [
      "\n",
      "\n",
      "\n",
      "\n",
      "\n",
      "____________________________________________________________________________________________________\n",
      "Product information:\n",
      "\n",
      "\n",
      "   Product title: \"CLCplus Backbone 2018 (raster 10 m), Europe, 3-yearly\"\n",
      "   UID: \"1c3f3e078a844661bbe23db99bdc8e2c\"\n",
      "   Product link: https://land.copernicus.eu/api/en/products/clc-backbone/clc-backbone-2018\n",
      "\n",
      "\n",
      "Download option for \"CLCplus Backbone 2018 (raster 10 m), Europe, 3-yearly\":\n"
     ]
    },
    {
     "data": {
      "text/plain": [
       "{'@id': 'c3290e93-1463-4bed-93c9-6315b0059048',\n",
       " 'area': 'Europe',\n",
       " 'file': 'CLMS_CLCplus_RASTER_2018_010m_eu_03035_V1_1',\n",
       " 'format': 'Geotiff',\n",
       " 'path': 'H:\\\\Corine_Land_Cover_Backbone\\\\Corine_Land_Cover_Backbone_CLCBB_2018\\\\CLC_BB_2018\\\\Data\\\\data-details\\\\raster\\\\CLMS_CLCplus_RASTER_2018_010m_eu_03035_V1_1.zip',\n",
       " 'resolution': '10 m',\n",
       " 'size': '9 GB',\n",
       " 'source': 'EEA',\n",
       " 'title': '',\n",
       " 'type': 'Raster',\n",
       " 'version': 'V1_1',\n",
       " 'year': ''}"
      ]
     },
     "metadata": {},
     "output_type": "display_data"
    },
    {
     "name": "stdout",
     "output_type": "stream",
     "text": [
      "\n",
      "\n",
      "\n",
      "\n",
      "\n",
      "____________________________________________________________________________________________________\n",
      "Product information:\n",
      "\n",
      "\n",
      "   Product title: \"Season Maximum Value 2023-present (raster 300 m), global, yearly, version 1\"\n",
      "   UID: \"28a93a5edcce4b6a931dc53b1c3f1eab\"\n",
      "   Product link: https://land.copernicus.eu/api/en/products/vegetation/season-maximum-value-2023-raster-300m-global-yearly-version-1\n",
      "\n",
      "\n",
      "Download option for \"Season Maximum Value 2023-present (raster 300 m), global, yearly, version 1\":\n"
     ]
    },
    {
     "data": {
      "text/plain": [
       "{'@id': '7c40815c-3fa8-4a09-bea1-a2142d6a9a31',\n",
       " 'area': 'World',\n",
       " 'file': '(SEASON 1) c_gls_LSP300-MAXV-S1_202301010000_GLOBE_OLCI_V1.0.1.tiff',\n",
       " 'format': 'Geotiff',\n",
       " 'path': 'https://globalland.vito.be/download/geotiff/land_surface_phenology/lsp_300m_v1_yearly/2023/20230101/c_gls_LSP300-MAXV-S1_202301010000_GLOBE_OLCI_V1.0.1.tiff',\n",
       " 'resolution': '300 m',\n",
       " 'size': '2 GB',\n",
       " 'source': 'VITO_geotiff',\n",
       " 'type': 'Raster',\n",
       " 'version': '',\n",
       " 'year': '2023'}"
      ]
     },
     "metadata": {},
     "output_type": "display_data"
    },
    {
     "name": "stdout",
     "output_type": "stream",
     "text": [
      "\n",
      "\n",
      "\n",
      "Download option for \"Season Maximum Value 2023-present (raster 300 m), global, yearly, version 1\":\n"
     ]
    },
    {
     "data": {
      "text/plain": [
       "{'@id': 'cccdd6b5-cce2-4eb5-9b0d-dd543b077e3e',\n",
       " 'area': 'World',\n",
       " 'file': '(SEASON 2) c_gls_LSP300-MAXV-S2_202301010000_GLOBE_OLCI_V1.0.1.tiff',\n",
       " 'format': 'Geotiff',\n",
       " 'path': 'https://globalland.vito.be/download/geotiff/land_surface_phenology/lsp_300m_v1_yearly/2023/20230101/c_gls_LSP300-MAXV-S2_202301010000_GLOBE_OLCI_V1.0.1.tiff',\n",
       " 'resolution': '300 m',\n",
       " 'size': '110 MB',\n",
       " 'source': 'VITO_geotiff',\n",
       " 'type': 'Raster',\n",
       " 'version': '',\n",
       " 'year': '2023'}"
      ]
     },
     "metadata": {},
     "output_type": "display_data"
    },
    {
     "name": "stdout",
     "output_type": "stream",
     "text": [
      "\n",
      "\n",
      "\n",
      "Download option for \"Season Maximum Value 2023-present (raster 300 m), global, yearly, version 1\":\n"
     ]
    },
    {
     "data": {
      "text/plain": [
       "{'@id': '4149ee3c-d05b-4842-abe8-04ce9c6f9f0d',\n",
       " 'area': 'World',\n",
       " 'file': '(SEASON 1) c_gls_LSP300-MAXV-S1_202401010000_GLOBE_OLCI_V1.0.1.tiff',\n",
       " 'format': 'Geotiff',\n",
       " 'path': 'https://globalland.vito.be/download/geotiff/land_surface_phenology/lsp_300m_v1_yearly/2024/20240101/c_gls_LSP300-MAXV-S1_202401010000_GLOBE_OLCI_V1.0.1.tiff',\n",
       " 'resolution': '300 m',\n",
       " 'size': '2 GB',\n",
       " 'source': 'VITO_geotiff',\n",
       " 'type': 'Raster',\n",
       " 'version': '',\n",
       " 'year': '2024'}"
      ]
     },
     "metadata": {},
     "output_type": "display_data"
    },
    {
     "name": "stdout",
     "output_type": "stream",
     "text": [
      "\n",
      "\n",
      "\n",
      "Download option for \"Season Maximum Value 2023-present (raster 300 m), global, yearly, version 1\":\n"
     ]
    },
    {
     "data": {
      "text/plain": [
       "{'@id': 'eaab36e9-8a0c-4efc-9f27-0d94e138f367',\n",
       " 'area': 'World',\n",
       " 'file': '(SEASON 2) c_gls_LSP300-MAXV-S2_202401010000_GLOBE_OLCI_V1.0.1.tiff',\n",
       " 'format': 'Geotiff',\n",
       " 'path': 'https://globalland.vito.be/download/geotiff/land_surface_phenology/lsp_300m_v1_yearly/2024/20240101/c_gls_LSP300-MAXV-S2_202401010000_GLOBE_OLCI_V1.0.1.tiff',\n",
       " 'resolution': '300 m',\n",
       " 'size': '172 MB',\n",
       " 'source': 'VITO_geotiff',\n",
       " 'type': 'Raster',\n",
       " 'version': '',\n",
       " 'year': '2024'}"
      ]
     },
     "metadata": {},
     "output_type": "display_data"
    },
    {
     "name": "stdout",
     "output_type": "stream",
     "text": [
      "\n",
      "\n",
      "\n",
      "\n",
      "\n",
      "____________________________________________________________________________________________________\n",
      "Product information:\n",
      "\n",
      "\n",
      "   Product title: \"Slope of the Green-up Period 2023-present (raster 300 m), global, yearly, version 1\"\n",
      "   UID: \"832db625b44e46af8da33ead4525ae64\"\n",
      "   Product link: https://land.copernicus.eu/api/en/products/vegetation/slope_of_green-up-period-2023-raster-300m-global-yearly-version-1\n",
      "\n",
      "\n",
      "Download option for \"Slope of the Green-up Period 2023-present (raster 300 m), global, yearly, version 1\":\n"
     ]
    },
    {
     "data": {
      "text/plain": [
       "{'@id': '39b7e7bc-228d-4520-8268-bab19072b852',\n",
       " 'area': 'World',\n",
       " 'file': '(SEASON 1) c_gls_LSP300-LSLOPE-S1_202301010000_GLOBE_OLCI_V1.0.1.tiff',\n",
       " 'format': 'Geotiff',\n",
       " 'path': 'https://globalland.vito.be/download/geotiff/land_surface_phenology/lsp_300m_v1_yearly/2023/20230101/c_gls_LSP300-LSLOPE-S1_202301010000_GLOBE_OLCI_V1.0.1.tiff',\n",
       " 'resolution': '300 m',\n",
       " 'size': '1 GB',\n",
       " 'source': 'VITO_geotiff',\n",
       " 'type': 'Raster',\n",
       " 'version': '',\n",
       " 'year': '2023'}"
      ]
     },
     "metadata": {},
     "output_type": "display_data"
    },
    {
     "name": "stdout",
     "output_type": "stream",
     "text": [
      "\n",
      "\n",
      "\n",
      "Download option for \"Slope of the Green-up Period 2023-present (raster 300 m), global, yearly, version 1\":\n"
     ]
    },
    {
     "data": {
      "text/plain": [
       "{'@id': '67555468-dc55-43e6-8c56-e7e39bd2646d',\n",
       " 'area': 'World',\n",
       " 'file': '(SEASON 2) c_gls_LSP300-LSLOPE-S2_202301010000_GLOBE_OLCI_V1.0.1.tiff',\n",
       " 'format': 'Geotiff',\n",
       " 'path': 'https://globalland.vito.be/download/geotiff/land_surface_phenology/lsp_300m_v1_yearly/2023/20230101/c_gls_LSP300-LSLOPE-S2_202301010000_GLOBE_OLCI_V1.0.1.tiff',\n",
       " 'resolution': '300 m',\n",
       " 'size': '80 MB',\n",
       " 'source': 'VITO_geotiff',\n",
       " 'type': 'Raster',\n",
       " 'version': '',\n",
       " 'year': '2023'}"
      ]
     },
     "metadata": {},
     "output_type": "display_data"
    },
    {
     "name": "stdout",
     "output_type": "stream",
     "text": [
      "\n",
      "\n",
      "\n",
      "Download option for \"Slope of the Green-up Period 2023-present (raster 300 m), global, yearly, version 1\":\n"
     ]
    },
    {
     "data": {
      "text/plain": [
       "{'@id': '9abbbfd6-92cb-4966-bd8c-12b213a138cb',\n",
       " 'area': 'World',\n",
       " 'file': '(SEASON 1) c_gls_LSP300-LSLOPE-S1_202401010000_GLOBE_OLCI_V1.0.1.tiff',\n",
       " 'format': 'Geotiff',\n",
       " 'path': 'https://globalland.vito.be/download/geotiff/land_surface_phenology/lsp_300m_v1_yearly/2024/20240101/c_gls_LSP300-LSLOPE-S1_202401010000_GLOBE_OLCI_V1.0.1.tiff',\n",
       " 'resolution': '300 m',\n",
       " 'size': '1 GB',\n",
       " 'source': 'VITO_geotiff',\n",
       " 'type': 'Raster',\n",
       " 'version': '',\n",
       " 'year': '2024'}"
      ]
     },
     "metadata": {},
     "output_type": "display_data"
    },
    {
     "name": "stdout",
     "output_type": "stream",
     "text": [
      "\n",
      "\n",
      "\n",
      "Download option for \"Slope of the Green-up Period 2023-present (raster 300 m), global, yearly, version 1\":\n"
     ]
    },
    {
     "data": {
      "text/plain": [
       "{'@id': 'c9a6a230-3915-4f4c-a69d-cfb0b3088c95',\n",
       " 'area': 'World',\n",
       " 'file': '(SEASON 2) c_gls_LSP300-LSLOPE-S2_202401010000_GLOBE_OLCI_V1.0.1.tiff',\n",
       " 'format': 'Geotiff',\n",
       " 'path': 'https://globalland.vito.be/download/geotiff/land_surface_phenology/lsp_300m_v1_yearly/2024/20240101/c_gls_LSP300-LSLOPE-S2_202401010000_GLOBE_OLCI_V1.0.1.tiff',\n",
       " 'resolution': '300 m',\n",
       " 'size': '122 MB',\n",
       " 'source': 'VITO_geotiff',\n",
       " 'type': 'Raster',\n",
       " 'version': '',\n",
       " 'year': '2024'}"
      ]
     },
     "metadata": {},
     "output_type": "display_data"
    },
    {
     "name": "stdout",
     "output_type": "stream",
     "text": [
      "\n",
      "\n",
      "\n",
      "\n",
      "\n",
      "____________________________________________________________________________________________________\n",
      "Product information:\n",
      "\n",
      "\n",
      "   Product title: \"Slope of the Green-down Period 2023-present (raster 300 m), global, yearly, version 1\"\n",
      "   UID: \"98d1cbefc0f5491cbc5657263df330b1\"\n",
      "   Product link: https://land.copernicus.eu/api/en/products/vegetation/slope_of_green-down-period-2023-raster-300m-global-yearly-version-1\n",
      "\n",
      "\n",
      "Download option for \"Slope of the Green-down Period 2023-present (raster 300 m), global, yearly, version 1\":\n"
     ]
    },
    {
     "data": {
      "text/plain": [
       "{'@id': 'dc4c32a4-0f7c-4eb7-8e43-88b553c8fdfc',\n",
       " 'area': 'World',\n",
       " 'file': '(SEASON 1) c_gls_LSP300-RSLOPE-S1_202301010000_GLOBE_OLCI_V1.0.1.tiff',\n",
       " 'format': 'Geotiff',\n",
       " 'path': 'https://globalland.vito.be/download/geotiff/land_surface_phenology/lsp_300m_v1_yearly/2023/20230101/c_gls_LSP300-RSLOPE-S1_202301010000_GLOBE_OLCI_V1.0.1.tiff',\n",
       " 'resolution': '300 m',\n",
       " 'size': '1 GB',\n",
       " 'source': 'VITO_geotiff',\n",
       " 'type': 'Raster',\n",
       " 'version': '',\n",
       " 'year': '2023'}"
      ]
     },
     "metadata": {},
     "output_type": "display_data"
    },
    {
     "name": "stdout",
     "output_type": "stream",
     "text": [
      "\n",
      "\n",
      "\n",
      "Download option for \"Slope of the Green-down Period 2023-present (raster 300 m), global, yearly, version 1\":\n"
     ]
    },
    {
     "data": {
      "text/plain": [
       "{'@id': '1735491b-09fb-4278-bf1b-b432904c120a',\n",
       " 'area': 'World',\n",
       " 'file': '(SEASON 2) c_gls_LSP300-RSLOPE-S2_202301010000_GLOBE_OLCI_V1.0.1.tiff',\n",
       " 'format': 'Geotiff',\n",
       " 'path': 'https://globalland.vito.be/download/geotiff/land_surface_phenology/lsp_300m_v1_yearly/2023/20230101/c_gls_LSP300-RSLOPE-S2_202301010000_GLOBE_OLCI_V1.0.1.tiff',\n",
       " 'resolution': '300 m',\n",
       " 'size': '80 MB',\n",
       " 'source': 'VITO_geotiff',\n",
       " 'type': 'Raster',\n",
       " 'version': '',\n",
       " 'year': '2023'}"
      ]
     },
     "metadata": {},
     "output_type": "display_data"
    },
    {
     "name": "stdout",
     "output_type": "stream",
     "text": [
      "\n",
      "\n",
      "\n",
      "Download option for \"Slope of the Green-down Period 2023-present (raster 300 m), global, yearly, version 1\":\n"
     ]
    },
    {
     "data": {
      "text/plain": [
       "{'@id': 'f2ea4352-77a0-45f4-8754-b908785eb33c',\n",
       " 'area': 'World',\n",
       " 'file': '(SEASON 1) c_gls_LSP300-RSLOPE-S1_202401010000_GLOBE_OLCI_V1.0.1.tiff',\n",
       " 'format': 'Geotiff',\n",
       " 'path': 'https://globalland.vito.be/download/geotiff/land_surface_phenology/lsp_300m_v1_yearly/2024/20240101/c_gls_LSP300-RSLOPE-S1_202401010000_GLOBE_OLCI_V1.0.1.tiff',\n",
       " 'resolution': '300 m',\n",
       " 'size': '1 GB',\n",
       " 'source': 'VITO_geotiff',\n",
       " 'type': 'Raster',\n",
       " 'version': '',\n",
       " 'year': '2024'}"
      ]
     },
     "metadata": {},
     "output_type": "display_data"
    },
    {
     "name": "stdout",
     "output_type": "stream",
     "text": [
      "\n",
      "\n",
      "\n",
      "Download option for \"Slope of the Green-down Period 2023-present (raster 300 m), global, yearly, version 1\":\n"
     ]
    },
    {
     "data": {
      "text/plain": [
       "{'@id': 'fb63d125-480f-4f0f-b9a1-4a8772bad610',\n",
       " 'area': 'World',\n",
       " 'file': '(SEASON 2) c_gls_LSP300-RSLOPE-S2_202401010000_GLOBE_OLCI_V1.0.1.tiff',\n",
       " 'format': 'Geotiff',\n",
       " 'path': 'https://globalland.vito.be/download/geotiff/land_surface_phenology/lsp_300m_v1_yearly/2024/20240101/c_gls_LSP300-RSLOPE-S2_202401010000_GLOBE_OLCI_V1.0.1.tiff',\n",
       " 'resolution': '300 m',\n",
       " 'size': '117 MB',\n",
       " 'source': 'VITO_geotiff',\n",
       " 'type': 'Raster',\n",
       " 'version': '',\n",
       " 'year': '2024'}"
      ]
     },
     "metadata": {},
     "output_type": "display_data"
    },
    {
     "name": "stdout",
     "output_type": "stream",
     "text": [
      "\n",
      "\n",
      "\n",
      "\n",
      "\n",
      "____________________________________________________________________________________________________\n",
      "Product information:\n",
      "\n",
      "\n",
      "   Product title: \"Start-of-season Value 2023-present (raster 300 m), global, yearly, version 1\"\n",
      "   UID: \"7a7d182341294c4ca1c982527ed843f5\"\n",
      "   Product link: https://land.copernicus.eu/api/en/products/vegetation/start-of-season-value-2023-raster-300m-global-yearly-version-1\n",
      "\n",
      "\n",
      "Download option for \"Start-of-season Value 2023-present (raster 300 m), global, yearly, version 1\":\n"
     ]
    },
    {
     "data": {
      "text/plain": [
       "{'@id': 'e1f8b449-6f2b-439a-b5ae-cd4fa5771f41',\n",
       " 'area': 'World',\n",
       " 'file': '(SEASON 1) c_gls_LSP300-SOSV-S1_202301010000_GLOBE_OLCI_V1.0.1.tiff',\n",
       " 'format': 'Geotiff',\n",
       " 'path': 'https://globalland.vito.be/download/geotiff/land_surface_phenology/lsp_300m_v1_yearly/2023/20230101/c_gls_LSP300-SOSV-S1_202301010000_GLOBE_OLCI_V1.0.1.tiff',\n",
       " 'resolution': '300 m',\n",
       " 'size': '2 GB',\n",
       " 'source': 'VITO_geotiff',\n",
       " 'type': 'Raster',\n",
       " 'version': '',\n",
       " 'year': '2023'}"
      ]
     },
     "metadata": {},
     "output_type": "display_data"
    },
    {
     "name": "stdout",
     "output_type": "stream",
     "text": [
      "\n",
      "\n",
      "\n",
      "Download option for \"Start-of-season Value 2023-present (raster 300 m), global, yearly, version 1\":\n"
     ]
    },
    {
     "data": {
      "text/plain": [
       "{'@id': 'b88807f8-0250-4c97-9ddc-e8ab0a917006',\n",
       " 'area': 'World',\n",
       " 'file': '(SEASON 2) c_gls_LSP300-SOSV-S2_202301010000_GLOBE_OLCI_V1.0.1.tiff',\n",
       " 'format': 'Geotiff',\n",
       " 'path': 'https://globalland.vito.be/download/geotiff/land_surface_phenology/lsp_300m_v1_yearly/2023/20230101/c_gls_LSP300-SOSV-S2_202301010000_GLOBE_OLCI_V1.0.1.tiff',\n",
       " 'resolution': '300 m',\n",
       " 'size': '100 MB',\n",
       " 'source': 'VITO_geotiff',\n",
       " 'type': 'Raster',\n",
       " 'version': '',\n",
       " 'year': '2023'}"
      ]
     },
     "metadata": {},
     "output_type": "display_data"
    },
    {
     "name": "stdout",
     "output_type": "stream",
     "text": [
      "\n",
      "\n",
      "\n",
      "Download option for \"Start-of-season Value 2023-present (raster 300 m), global, yearly, version 1\":\n"
     ]
    },
    {
     "data": {
      "text/plain": [
       "{'@id': '20aa2bf3-4d40-40da-80cf-e18bde822c0e',\n",
       " 'area': 'World',\n",
       " 'file': '(SEASON 1) c_gls_LSP300-SOSV-S1_202401010000_GLOBE_OLCI_V1.0.1.tiff',\n",
       " 'format': 'Geotiff',\n",
       " 'path': 'https://globalland.vito.be/download/geotiff/land_surface_phenology/lsp_300m_v1_yearly/2024/20240101/c_gls_LSP300-SOSV-S1_202401010000_GLOBE_OLCI_V1.0.1.tiff',\n",
       " 'resolution': '300 m',\n",
       " 'size': '2 GB',\n",
       " 'source': 'VITO_geotiff',\n",
       " 'type': 'Raster',\n",
       " 'version': '',\n",
       " 'year': '2024'}"
      ]
     },
     "metadata": {},
     "output_type": "display_data"
    },
    {
     "name": "stdout",
     "output_type": "stream",
     "text": [
      "\n",
      "\n",
      "\n",
      "Download option for \"Start-of-season Value 2023-present (raster 300 m), global, yearly, version 1\":\n"
     ]
    },
    {
     "data": {
      "text/plain": [
       "{'@id': '21bebc5a-ef4e-4a88-8cd5-251b7b77b1a9',\n",
       " 'area': 'World',\n",
       " 'file': '(SEASON 2) c_gls_LSP300-SOSV-S2_202401010000_GLOBE_OLCI_V1.0.1.tiff',\n",
       " 'format': 'Geotiff',\n",
       " 'path': 'https://globalland.vito.be/download/geotiff/land_surface_phenology/lsp_300m_v1_yearly/2024/20240101/c_gls_LSP300-SOSV-S2_202401010000_GLOBE_OLCI_V1.0.1.tiff',\n",
       " 'resolution': '300 m',\n",
       " 'size': '161 MB',\n",
       " 'source': 'VITO_geotiff',\n",
       " 'type': 'Raster',\n",
       " 'version': '',\n",
       " 'year': '2024'}"
      ]
     },
     "metadata": {},
     "output_type": "display_data"
    },
    {
     "name": "stdout",
     "output_type": "stream",
     "text": [
      "\n",
      "\n",
      "\n",
      "\n",
      "\n",
      "____________________________________________________________________________________________________\n",
      "Product information:\n",
      "\n",
      "\n",
      "   Product title: \"Total Productivity 2023-present (raster 300 m), global, yearly, version 1\"\n",
      "   UID: \"cb40b7b09ce745a2805e0788f99932d2\"\n",
      "   Product link: https://land.copernicus.eu/api/en/products/vegetation/total-productivity-2023-raster-300m-global-yearly-version-1\n",
      "\n",
      "\n",
      "Download option for \"Total Productivity 2023-present (raster 300 m), global, yearly, version 1\":\n"
     ]
    },
    {
     "data": {
      "text/plain": [
       "{'@id': 'e6ad17e4-110f-4482-ad2d-46170d1c1703',\n",
       " 'area': 'World',\n",
       " 'file': '(SEASON 1) c_gls_LSP300-TPROD-S1_202301010000_GLOBE_OLCI_V1.0.1.tiff',\n",
       " 'format': 'Geotiff',\n",
       " 'path': 'https://globalland.vito.be/download/geotiff/land_surface_phenology/lsp_300m_v1_yearly/2023/20230101/c_gls_LSP300-TPROD-S1_202301010000_GLOBE_OLCI_V1.0.1.tiff',\n",
       " 'resolution': '300 m',\n",
       " 'size': '1,5 GB',\n",
       " 'source': 'VITO_geotiff',\n",
       " 'type': 'Raster',\n",
       " 'version': '',\n",
       " 'year': '2023'}"
      ]
     },
     "metadata": {},
     "output_type": "display_data"
    },
    {
     "name": "stdout",
     "output_type": "stream",
     "text": [
      "\n",
      "\n",
      "\n",
      "Download option for \"Total Productivity 2023-present (raster 300 m), global, yearly, version 1\":\n"
     ]
    },
    {
     "data": {
      "text/plain": [
       "{'@id': '40eea107-5dcf-48d7-9a47-f248095575e0',\n",
       " 'area': 'World',\n",
       " 'file': '(SEASON 2) c_gls_LSP300-TPROD-S2_202301010000_GLOBE_OLCI_V1.0.1.tiff',\n",
       " 'format': 'Geotiff',\n",
       " 'path': 'https://globalland.vito.be/download/geotiff/land_surface_phenology/lsp_300m_v1_yearly/2023/20230101/c_gls_LSP300-TPROD-S2_202301010000_GLOBE_OLCI_V1.0.1.tiff',\n",
       " 'resolution': '300 m',\n",
       " 'size': '90 MB',\n",
       " 'source': 'VITO_geotiff',\n",
       " 'type': 'Raster',\n",
       " 'version': '',\n",
       " 'year': '2023'}"
      ]
     },
     "metadata": {},
     "output_type": "display_data"
    },
    {
     "name": "stdout",
     "output_type": "stream",
     "text": [
      "\n",
      "\n",
      "\n",
      "Download option for \"Total Productivity 2023-present (raster 300 m), global, yearly, version 1\":\n"
     ]
    },
    {
     "data": {
      "text/plain": [
       "{'@id': '739a8d47-f914-4559-8ab0-95aa24d00fdf',\n",
       " 'area': 'World',\n",
       " 'file': '(SEASON 1) c_gls_LSP300-TPROD-S1_202401010000_GLOBE_OLCI_V1.0.1.tiff',\n",
       " 'format': 'Geotiff',\n",
       " 'path': 'https://globalland.vito.be/download/geotiff/land_surface_phenology/lsp_300m_v1_yearly/2024/20240101/c_gls_LSP300-TPROD-S1_202401010000_GLOBE_OLCI_V1.0.1.tiff',\n",
       " 'resolution': '300 m',\n",
       " 'size': '1,5 GB',\n",
       " 'source': 'VITO_geotiff',\n",
       " 'type': 'Raster',\n",
       " 'version': '',\n",
       " 'year': '2024'}"
      ]
     },
     "metadata": {},
     "output_type": "display_data"
    },
    {
     "name": "stdout",
     "output_type": "stream",
     "text": [
      "\n",
      "\n",
      "\n",
      "Download option for \"Total Productivity 2023-present (raster 300 m), global, yearly, version 1\":\n"
     ]
    },
    {
     "data": {
      "text/plain": [
       "{'@id': '71da649a-7534-40a7-8223-b2cdd73861c1',\n",
       " 'area': 'World',\n",
       " 'file': '(SEASON 2) c_gls_LSP300-TPROD-S2_202401010000_GLOBE_OLCI_V1.0.1.tiff',\n",
       " 'format': 'Geotiff',\n",
       " 'path': 'https://globalland.vito.be/download/geotiff/land_surface_phenology/lsp_300m_v1_yearly/2024/20240101/c_gls_LSP300-TPROD-S2_202401010000_GLOBE_OLCI_V1.0.1.tiff',\n",
       " 'resolution': '300 m',\n",
       " 'size': '145 MB',\n",
       " 'source': 'VITO_geotiff',\n",
       " 'type': 'Raster',\n",
       " 'version': '',\n",
       " 'year': '2024'}"
      ]
     },
     "metadata": {},
     "output_type": "display_data"
    },
    {
     "name": "stdout",
     "output_type": "stream",
     "text": [
      "\n",
      "\n",
      "\n",
      "\n",
      "\n",
      "____________________________________________________________________________________________________\n",
      "Product information:\n",
      "\n",
      "\n",
      "   Product title: \"Season Minimum Value 2023-present (raster 300 m), global, yearly, version 1\"\n",
      "   UID: \"43dbbad7ac834152aa59c25032e45144\"\n",
      "   Product link: https://land.copernicus.eu/api/en/products/vegetation/season-minimum-value-2023-raster-300m-global-yearly-version-1\n",
      "\n",
      "\n",
      "Download option for \"Season Minimum Value 2023-present (raster 300 m), global, yearly, version 1\":\n"
     ]
    },
    {
     "data": {
      "text/plain": [
       "{'@id': '42e3a274-59e3-41c5-9e24-41c8eeb1676a',\n",
       " 'area': 'World',\n",
       " 'file': '(SEASON 1) c_gls_LSP300-MINV-S1_202301010000_GLOBE_OLCI_V1.0.1.tiff',\n",
       " 'format': 'Geotiff',\n",
       " 'path': 'https://globalland.vito.be/download/geotiff/land_surface_phenology/lsp_300m_v1_yearly/2023/20230101/c_gls_LSP300-MINV-S1_202301010000_GLOBE_OLCI_V1.0.1.tiff',\n",
       " 'resolution': '300 m',\n",
       " 'size': '1 GB',\n",
       " 'source': 'VITO_geotiff',\n",
       " 'type': 'Raster',\n",
       " 'version': '',\n",
       " 'year': '2023'}"
      ]
     },
     "metadata": {},
     "output_type": "display_data"
    },
    {
     "name": "stdout",
     "output_type": "stream",
     "text": [
      "\n",
      "\n",
      "\n",
      "Download option for \"Season Minimum Value 2023-present (raster 300 m), global, yearly, version 1\":\n"
     ]
    },
    {
     "data": {
      "text/plain": [
       "{'@id': '3c2bdb6d-15d1-4d8b-8b57-936b892f5f21',\n",
       " 'area': 'World',\n",
       " 'file': '(SEASON 2) c_gls_LSP300-MINV-S2_202301010000_GLOBE_OLCI_V1.0.1.tiff',\n",
       " 'format': 'Geotiff',\n",
       " 'path': 'https://globalland.vito.be/download/geotiff/land_surface_phenology/lsp_300m_v1_yearly/2023/20230101/c_gls_LSP300-MINV-S2_202301010000_GLOBE_OLCI_V1.0.1.tiff',\n",
       " 'resolution': '300 m',\n",
       " 'size': '90 MB',\n",
       " 'source': 'VITO_geotiff',\n",
       " 'type': 'Raster',\n",
       " 'version': '',\n",
       " 'year': '2023'}"
      ]
     },
     "metadata": {},
     "output_type": "display_data"
    },
    {
     "name": "stdout",
     "output_type": "stream",
     "text": [
      "\n",
      "\n",
      "\n",
      "Download option for \"Season Minimum Value 2023-present (raster 300 m), global, yearly, version 1\":\n"
     ]
    },
    {
     "data": {
      "text/plain": [
       "{'@id': 'c944e1aa-1bf7-4e10-8c37-6e051d78343d',\n",
       " 'area': 'World',\n",
       " 'file': '(SEASON 1) c_gls_LSP300-MINV-S1_202401010000_GLOBE_OLCI_V1.0.1.tiff',\n",
       " 'format': 'Geotiff',\n",
       " 'path': 'https://globalland.vito.be/download/geotiff/land_surface_phenology/lsp_300m_v1_yearly/2024/20240101/c_gls_LSP300-MINV-S1_202401010000_GLOBE_OLCI_V1.0.1.tiff',\n",
       " 'resolution': '300 m',\n",
       " 'size': '1 GB',\n",
       " 'source': 'VITO_geotiff',\n",
       " 'type': 'Raster',\n",
       " 'version': '',\n",
       " 'year': '2024'}"
      ]
     },
     "metadata": {},
     "output_type": "display_data"
    },
    {
     "name": "stdout",
     "output_type": "stream",
     "text": [
      "\n",
      "\n",
      "\n",
      "Download option for \"Season Minimum Value 2023-present (raster 300 m), global, yearly, version 1\":\n"
     ]
    },
    {
     "data": {
      "text/plain": [
       "{'@id': '8f23a579-5782-4e06-8ba1-ffc36923b97d',\n",
       " 'area': 'World',\n",
       " 'file': '(SEASON 2) c_gls_LSP300-MINV-S2_202401010000_GLOBE_OLCI_V1.0.1.tiff',\n",
       " 'format': 'Geotiff',\n",
       " 'path': 'https://globalland.vito.be/download/geotiff/land_surface_phenology/lsp_300m_v1_yearly/2024/20240101/c_gls_LSP300-MINV-S2_202401010000_GLOBE_OLCI_V1.0.1.tiff',\n",
       " 'resolution': '300 m',\n",
       " 'size': '145 MB',\n",
       " 'source': 'VITO_geotiff',\n",
       " 'type': 'Raster',\n",
       " 'version': '',\n",
       " 'year': '2024'}"
      ]
     },
     "metadata": {},
     "output_type": "display_data"
    },
    {
     "name": "stdout",
     "output_type": "stream",
     "text": [
      "\n",
      "\n",
      "\n",
      "\n",
      "\n",
      "____________________________________________________________________________________________________\n",
      "Product information:\n",
      "\n",
      "\n",
      "   Product title: \"Season Length 2023-present (raster 300 m), global, yearly, version 1\"\n",
      "   UID: \"5da40dac469e44649c36c11e95883ac5\"\n",
      "   Product link: https://land.copernicus.eu/api/en/products/vegetation/season-length-2023-raster-300m-global-yearly-version-1\n",
      "\n",
      "\n",
      "Download option for \"Season Length 2023-present (raster 300 m), global, yearly, version 1\":\n"
     ]
    },
    {
     "data": {
      "text/plain": [
       "{'@id': '376c62c4-e0e3-40ce-a29c-d205183123f5',\n",
       " 'area': 'World',\n",
       " 'file': '(SEASON 1) c_gls_LSP300-LENGTH-S1_202301010000_GLOBE_OLCI_V1.0.1.tiff',\n",
       " 'format': 'Geotiff',\n",
       " 'path': 'https://globalland.vito.be/download/geotiff/land_surface_phenology/lsp_300m_v1_yearly/2023/20230101/c_gls_LSP300-LENGTH-S1_202301010000_GLOBE_OLCI_V1.0.1.tiff',\n",
       " 'resolution': '300 m',\n",
       " 'size': '1,5 GB',\n",
       " 'source': 'VITO_geotiff',\n",
       " 'type': 'Raster',\n",
       " 'version': '',\n",
       " 'year': '2023'}"
      ]
     },
     "metadata": {},
     "output_type": "display_data"
    },
    {
     "name": "stdout",
     "output_type": "stream",
     "text": [
      "\n",
      "\n",
      "\n",
      "Download option for \"Season Length 2023-present (raster 300 m), global, yearly, version 1\":\n"
     ]
    },
    {
     "data": {
      "text/plain": [
       "{'@id': 'aff45bf9-e5ae-45b4-bfc5-d4184e5f54c2',\n",
       " 'area': 'World',\n",
       " 'file': '(SEASON 2) c_gls_LSP300-LENGTH-S2_202301010000_GLOBE_OLCI_V1.0.1.tiff',\n",
       " 'format': 'Geotiff',\n",
       " 'path': 'https://globalland.vito.be/download/geotiff/land_surface_phenology/lsp_300m_v1_yearly/2023/20230101/c_gls_LSP300-LENGTH-S2_202301010000_GLOBE_OLCI_V1.0.1.tiff',\n",
       " 'resolution': '300 m',\n",
       " 'size': '90 MB',\n",
       " 'source': 'VITO_geotiff',\n",
       " 'type': 'Raster',\n",
       " 'version': '',\n",
       " 'year': '2023'}"
      ]
     },
     "metadata": {},
     "output_type": "display_data"
    },
    {
     "name": "stdout",
     "output_type": "stream",
     "text": [
      "\n",
      "\n",
      "\n",
      "Download option for \"Season Length 2023-present (raster 300 m), global, yearly, version 1\":\n"
     ]
    },
    {
     "data": {
      "text/plain": [
       "{'@id': 'de5d1925-535d-442d-bc08-dd8e2dd5c303',\n",
       " 'area': 'World',\n",
       " 'file': '(SEASON 1) c_gls_LSP300-LENGTH-S1_202401010000_GLOBE_OLCI_V1.0.1.tiff',\n",
       " 'format': 'Geotiff',\n",
       " 'path': 'https://globalland.vito.be/download/geotiff/land_surface_phenology/lsp_300m_v1_yearly/2024/20240101/c_gls_LSP300-LENGTH-S1_202401010000_GLOBE_OLCI_V1.0.1.tiff',\n",
       " 'resolution': '300 m',\n",
       " 'size': '1,5 GB',\n",
       " 'source': 'VITO_geotiff',\n",
       " 'type': 'Raster',\n",
       " 'version': '',\n",
       " 'year': '2024'}"
      ]
     },
     "metadata": {},
     "output_type": "display_data"
    },
    {
     "name": "stdout",
     "output_type": "stream",
     "text": [
      "\n",
      "\n",
      "\n",
      "Download option for \"Season Length 2023-present (raster 300 m), global, yearly, version 1\":\n"
     ]
    },
    {
     "data": {
      "text/plain": [
       "{'@id': 'ec8161db-43b4-4a8f-8cdc-7d2dc6718e8a',\n",
       " 'area': 'World',\n",
       " 'file': '(SEASON 2) c_gls_LSP300-LENGTH-S2_202401010000_GLOBE_OLCI_V1.0.1.tiff',\n",
       " 'format': 'Geotiff',\n",
       " 'path': 'https://globalland.vito.be/download/geotiff/land_surface_phenology/lsp_300m_v1_yearly/2024/20240101/c_gls_LSP300-LENGTH-S2_202401010000_GLOBE_OLCI_V1.0.1.tiff',\n",
       " 'resolution': '300 m',\n",
       " 'size': '138 MB',\n",
       " 'source': 'VITO_geotiff',\n",
       " 'type': 'Raster',\n",
       " 'version': '',\n",
       " 'year': '2024'}"
      ]
     },
     "metadata": {},
     "output_type": "display_data"
    },
    {
     "name": "stdout",
     "output_type": "stream",
     "text": [
      "\n",
      "\n",
      "\n",
      "\n",
      "\n",
      "____________________________________________________________________________________________________\n",
      "Product information:\n",
      "\n",
      "\n",
      "   Product title: \"Season Amplitude 2023-present (raster 300 m), global, yearly, version 1\"\n",
      "   UID: \"d75fa8cc26c34d509ef927266e39e308\"\n",
      "   Product link: https://land.copernicus.eu/api/en/products/vegetation/season-amplitude-value-2023-raster-300m-global-yearly-version-1\n",
      "\n",
      "\n",
      "Download option for \"Season Amplitude 2023-present (raster 300 m), global, yearly, version 1\":\n"
     ]
    },
    {
     "data": {
      "text/plain": [
       "{'@id': '59f63455-e987-4e0a-bec5-201a940d9125',\n",
       " 'area': 'World',\n",
       " 'file': '(SEASON 1) c_gls_LSP300-AMPL-S1_202301010000_GLOBE_OLCI_V1.0.1.tiff',\n",
       " 'format': 'Geotiff',\n",
       " 'path': 'https://globalland.vito.be/download/geotiff/land_surface_phenology/lsp_300m_v1_yearly/2023/20230101/c_gls_LSP300-AMPL-S1_202301010000_GLOBE_OLCI_V1.0.1.tiff',\n",
       " 'resolution': '300 m',\n",
       " 'size': '2 GB',\n",
       " 'source': 'VITO_geotiff',\n",
       " 'type': 'Raster',\n",
       " 'version': '',\n",
       " 'year': '2023'}"
      ]
     },
     "metadata": {},
     "output_type": "display_data"
    },
    {
     "name": "stdout",
     "output_type": "stream",
     "text": [
      "\n",
      "\n",
      "\n",
      "Download option for \"Season Amplitude 2023-present (raster 300 m), global, yearly, version 1\":\n"
     ]
    },
    {
     "data": {
      "text/plain": [
       "{'@id': '96774bf6-9bea-4a33-b453-1471fa5f4045',\n",
       " 'area': 'World',\n",
       " 'file': '(SEASON 2) c_gls_LSP300-AMPL-S2_202301010000_GLOBE_OLCI_V1.0.1.tiff',\n",
       " 'format': 'Geotiff',\n",
       " 'path': 'https://globalland.vito.be/download/geotiff/land_surface_phenology/lsp_300m_v1_yearly/2023/20230101/c_gls_LSP300-AMPL-S2_202301010000_GLOBE_OLCI_V1.0.1.tiff',\n",
       " 'resolution': '300 m',\n",
       " 'size': '110 MB',\n",
       " 'source': 'VITO_geotiff',\n",
       " 'type': 'Raster',\n",
       " 'version': '',\n",
       " 'year': '2023'}"
      ]
     },
     "metadata": {},
     "output_type": "display_data"
    },
    {
     "name": "stdout",
     "output_type": "stream",
     "text": [
      "\n",
      "\n",
      "\n",
      "Download option for \"Season Amplitude 2023-present (raster 300 m), global, yearly, version 1\":\n"
     ]
    },
    {
     "data": {
      "text/plain": [
       "{'@id': '675738fb-0916-46db-aa37-d995817e0dfa',\n",
       " 'area': 'World',\n",
       " 'file': '(SEASON 1) c_gls_LSP300-AMPL-S1_202401010000_GLOBE_OLCI_V1.0.1.tiff',\n",
       " 'format': 'Geotiff',\n",
       " 'path': 'https://globalland.vito.be/download/geotiff/land_surface_phenology/lsp_300m_v1_yearly/2024/20240101/c_gls_LSP300-AMPL-S1_202401010000_GLOBE_OLCI_V1.0.1.tiff',\n",
       " 'resolution': '300 m',\n",
       " 'size': '2 GB',\n",
       " 'source': 'VITO_geotiff',\n",
       " 'type': 'Raster',\n",
       " 'version': '',\n",
       " 'year': '2024'}"
      ]
     },
     "metadata": {},
     "output_type": "display_data"
    },
    {
     "name": "stdout",
     "output_type": "stream",
     "text": [
      "\n",
      "\n",
      "\n",
      "Download option for \"Season Amplitude 2023-present (raster 300 m), global, yearly, version 1\":\n"
     ]
    },
    {
     "data": {
      "text/plain": [
       "{'@id': '3ff2f73c-5429-4a2d-a74e-715881a22f5a',\n",
       " 'area': 'World',\n",
       " 'file': '(SEASON 2) c_gls_LSP300-AMPL-S2_202401010000_GLOBE_OLCI_V1.0.1.tiff',\n",
       " 'format': 'Geotiff',\n",
       " 'path': 'https://globalland.vito.be/download/geotiff/land_surface_phenology/lsp_300m_v1_yearly/2024/20240101/c_gls_LSP300-AMPL-S2_202401010000_GLOBE_OLCI_V1.0.1.tiff',\n",
       " 'resolution': '300 m',\n",
       " 'size': '172 MB',\n",
       " 'source': 'VITO_geotiff',\n",
       " 'type': 'Raster',\n",
       " 'version': '',\n",
       " 'year': '2024'}"
      ]
     },
     "metadata": {},
     "output_type": "display_data"
    },
    {
     "name": "stdout",
     "output_type": "stream",
     "text": [
      "\n",
      "\n",
      "\n",
      "\n",
      "\n",
      "____________________________________________________________________________________________________\n",
      "Product information:\n",
      "\n",
      "\n",
      "   Product title: \"Forest Type 2015 (raster 20 m and 100 m), Europe, 3-yearly\"\n",
      "   UID: \"c53f82d466354da09de7c7e4ca44b030\"\n",
      "   Product link: https://land.copernicus.eu/api/en/products/high-resolution-layer-forests-and-tree-cover/forest-type-2015\n",
      "\n",
      "\n",
      "Download option for \"Forest Type 2015 (raster 20 m and 100 m), Europe, 3-yearly\":\n"
     ]
    },
    {
     "data": {
      "text/plain": [
       "{'@id': 'd09e3605-92d8-4e6a-a401-220e2e4581e9',\n",
       " 'area': 'Europe',\n",
       " 'file': 'FTY_2015_100m_eu_03035_d02_Full',\n",
       " 'format': 'Geotiff',\n",
       " 'path': 'H:\\\\High_Resolution_Layers\\\\High_Resolution_Layers\\\\High_Resolution_Layer(HRL)_Forest_Type\\\\HRL_Forest_Type(FTY)_2015\\\\Data\\\\data-details\\\\raster\\\\FTY_2015_100m\\\\FTY_2015_100m_eu_03035_d02_Full.zip',\n",
       " 'resolution': '100 m',\n",
       " 'size': '110 MB',\n",
       " 'source': 'EEA',\n",
       " 'title': '',\n",
       " 'type': 'Raster',\n",
       " 'version': 'd02',\n",
       " 'year': ''}"
      ]
     },
     "metadata": {},
     "output_type": "display_data"
    },
    {
     "name": "stdout",
     "output_type": "stream",
     "text": [
      "\n",
      "\n",
      "\n",
      "Download option for \"Forest Type 2015 (raster 20 m and 100 m), Europe, 3-yearly\":\n"
     ]
    },
    {
     "data": {
      "text/plain": [
       "{'@id': 'd808fa74-eb78-4248-a52c-35bcdc3e76d1',\n",
       " 'area': 'Europe',\n",
       " 'file': 'FTY_2015_020m_eu_03035_d04_Full',\n",
       " 'format': 'Geotiff',\n",
       " 'path': 'H:\\\\High_Resolution_Layers\\\\High_Resolution_Layers\\\\High_Resolution_Layer(HRL)_Forest_Type\\\\HRL_Forest_Type(FTY)_2015\\\\Data\\\\data-details\\\\raster\\\\FTY_2015_020m\\\\FTY_2015_020m_eu_03035_d04_Full.zip',\n",
       " 'resolution': '20 m',\n",
       " 'size': '1 GB',\n",
       " 'source': 'EEA',\n",
       " 'title': '',\n",
       " 'type': 'Raster',\n",
       " 'version': 'd04',\n",
       " 'year': ''}"
      ]
     },
     "metadata": {},
     "output_type": "display_data"
    },
    {
     "name": "stdout",
     "output_type": "stream",
     "text": [
      "\n",
      "\n",
      "\n",
      "Download option for \"Forest Type 2015 (raster 20 m and 100 m), Europe, 3-yearly\":\n"
     ]
    },
    {
     "data": {
      "text/plain": [
       "{'@id': '36463eaf-656c-4623-ac56-494e08709ea6',\n",
       " 'area': 'E00N20',\n",
       " 'file': 'FTY_2015_020m_eu_03035_d04_E00N20',\n",
       " 'format': 'Geotiff',\n",
       " 'path': 'H:\\\\High_Resolution_Layers\\\\High_Resolution_Layers\\\\High_Resolution_Layer(HRL)_Forest_Type\\\\HRL_Forest_Type(FTY)_2015\\\\Data\\\\data-details\\\\raster\\\\FTY_2015_020m\\\\FTY_2015_020m_eu_03035_d04_E00N20.zip',\n",
       " 'resolution': '20 m',\n",
       " 'size': '239 KB',\n",
       " 'source': 'EEA',\n",
       " 'title': '',\n",
       " 'type': 'Raster',\n",
       " 'version': 'd04',\n",
       " 'year': ''}"
      ]
     },
     "metadata": {},
     "output_type": "display_data"
    },
    {
     "name": "stdout",
     "output_type": "stream",
     "text": [
      "\n",
      "\n",
      "\n",
      "Download option for \"Forest Type 2015 (raster 20 m and 100 m), Europe, 3-yearly\":\n"
     ]
    },
    {
     "data": {
      "text/plain": [
       "{'@id': 'bd71f137-7aac-42e8-96e3-5caf252c45c4',\n",
       " 'area': 'E10N00',\n",
       " 'file': 'FTY_2015_020m_eu_03035_d04_E10N00',\n",
       " 'format': 'Geotiff',\n",
       " 'path': 'H:\\\\High_Resolution_Layers\\\\High_Resolution_Layers\\\\High_Resolution_Layer(HRL)_Forest_Type\\\\HRL_Forest_Type(FTY)_2015\\\\Data\\\\data-details\\\\raster\\\\FTY_2015_020m\\\\FTY_2015_020m_eu_03035_d04_E10N00.zip',\n",
       " 'resolution': '20 m',\n",
       " 'size': '434 KB',\n",
       " 'source': 'EEA',\n",
       " 'title': '',\n",
       " 'type': 'Raster',\n",
       " 'version': 'd04',\n",
       " 'year': ''}"
      ]
     },
     "metadata": {},
     "output_type": "display_data"
    },
    {
     "name": "stdout",
     "output_type": "stream",
     "text": [
      "\n",
      "\n",
      "\n",
      "Download option for \"Forest Type 2015 (raster 20 m and 100 m), Europe, 3-yearly\":\n"
     ]
    },
    {
     "data": {
      "text/plain": [
       "{'@id': '8af83d46-6a9f-42a5-a25d-48865b6f38d8',\n",
       " 'area': 'E10N10',\n",
       " 'file': 'FTY_2015_020m_eu_03035_d04_E10N10',\n",
       " 'format': 'Geotiff',\n",
       " 'path': 'H:\\\\High_Resolution_Layers\\\\High_Resolution_Layers\\\\High_Resolution_Layer(HRL)_Forest_Type\\\\HRL_Forest_Type(FTY)_2015\\\\Data\\\\data-details\\\\raster\\\\FTY_2015_020m\\\\FTY_2015_020m_eu_03035_d04_E10N10.zip',\n",
       " 'resolution': '20 m',\n",
       " 'size': '2 MB',\n",
       " 'source': 'EEA',\n",
       " 'title': '',\n",
       " 'type': 'Raster',\n",
       " 'version': 'd04',\n",
       " 'year': ''}"
      ]
     },
     "metadata": {},
     "output_type": "display_data"
    },
    {
     "name": "stdout",
     "output_type": "stream",
     "text": [
      "\n",
      "\n",
      "\n",
      "Download option for \"Forest Type 2015 (raster 20 m and 100 m), Europe, 3-yearly\":\n"
     ]
    },
    {
     "data": {
      "text/plain": [
       "{'@id': 'c7cd28e5-5958-4815-9234-237c28c3cb17',\n",
       " 'area': 'E10N20',\n",
       " 'file': 'FTY_2015_020m_eu_03035_d04_E10N20',\n",
       " 'format': 'Geotiff',\n",
       " 'path': 'H:\\\\High_Resolution_Layers\\\\High_Resolution_Layers\\\\High_Resolution_Layer(HRL)_Forest_Type\\\\HRL_Forest_Type(FTY)_2015\\\\Data\\\\data-details\\\\raster\\\\FTY_2015_020m\\\\FTY_2015_020m_eu_03035_d04_E10N20.zip',\n",
       " 'resolution': '20 m',\n",
       " 'size': '2 MB',\n",
       " 'source': 'EEA',\n",
       " 'title': '',\n",
       " 'type': 'Raster',\n",
       " 'version': 'd04',\n",
       " 'year': ''}"
      ]
     },
     "metadata": {},
     "output_type": "display_data"
    },
    {
     "name": "stdout",
     "output_type": "stream",
     "text": [
      "\n",
      "\n",
      "\n",
      "Download option for \"Forest Type 2015 (raster 20 m and 100 m), Europe, 3-yearly\":\n"
     ]
    },
    {
     "data": {
      "text/plain": [
       "{'@id': 'a471a9f9-b4c7-42ac-872a-475bd3601c14',\n",
       " 'area': 'E20N10',\n",
       " 'file': 'FTY_2015_020m_eu_03035_d04_E20N10',\n",
       " 'format': 'Geotiff',\n",
       " 'path': 'H:\\\\High_Resolution_Layers\\\\High_Resolution_Layers\\\\High_Resolution_Layer(HRL)_Forest_Type\\\\HRL_Forest_Type(FTY)_2015\\\\Data\\\\data-details\\\\raster\\\\FTY_2015_020m\\\\FTY_2015_020m_eu_03035_d04_E20N10.zip',\n",
       " 'resolution': '20 m',\n",
       " 'size': '24 MB',\n",
       " 'source': 'EEA',\n",
       " 'title': '',\n",
       " 'type': 'Raster',\n",
       " 'version': 'd04',\n",
       " 'year': ''}"
      ]
     },
     "metadata": {},
     "output_type": "display_data"
    },
    {
     "name": "stdout",
     "output_type": "stream",
     "text": [
      "\n",
      "\n",
      "\n",
      "Download option for \"Forest Type 2015 (raster 20 m and 100 m), Europe, 3-yearly\":\n"
     ]
    },
    {
     "data": {
      "text/plain": [
       "{'@id': 'fab0e28e-6b24-466f-9445-272ae060d81e',\n",
       " 'area': 'E20N20',\n",
       " 'file': 'FTY_2015_020m_eu_03035_d04_E20N20',\n",
       " 'format': 'Geotiff',\n",
       " 'path': 'H:\\\\High_Resolution_Layers\\\\High_Resolution_Layers\\\\High_Resolution_Layer(HRL)_Forest_Type\\\\HRL_Forest_Type(FTY)_2015\\\\Data\\\\data-details\\\\raster\\\\FTY_2015_020m\\\\FTY_2015_020m_eu_03035_d04_E20N20.zip',\n",
       " 'resolution': '20 m',\n",
       " 'size': '34 MB',\n",
       " 'source': 'EEA',\n",
       " 'title': '',\n",
       " 'type': 'Raster',\n",
       " 'version': 'd04',\n",
       " 'year': ''}"
      ]
     },
     "metadata": {},
     "output_type": "display_data"
    },
    {
     "name": "stdout",
     "output_type": "stream",
     "text": [
      "\n",
      "\n",
      "\n",
      "Download option for \"Forest Type 2015 (raster 20 m and 100 m), Europe, 3-yearly\":\n"
     ]
    },
    {
     "data": {
      "text/plain": [
       "{'@id': '9baf3db5-50a4-4614-9b86-bbabee9b6bfd',\n",
       " 'area': 'E20N30',\n",
       " 'file': 'FTY_2015_020m_eu_03035_d04_E20N30',\n",
       " 'format': 'Geotiff',\n",
       " 'path': 'H:\\\\High_Resolution_Layers\\\\High_Resolution_Layers\\\\High_Resolution_Layer(HRL)_Forest_Type\\\\HRL_Forest_Type(FTY)_2015\\\\Data\\\\data-details\\\\raster\\\\FTY_2015_020m\\\\FTY_2015_020m_eu_03035_d04_E20N30.zip',\n",
       " 'resolution': '20 m',\n",
       " 'size': '2 MB',\n",
       " 'source': 'EEA',\n",
       " 'title': '',\n",
       " 'type': 'Raster',\n",
       " 'version': 'd04',\n",
       " 'year': ''}"
      ]
     },
     "metadata": {},
     "output_type": "display_data"
    },
    {
     "name": "stdout",
     "output_type": "stream",
     "text": [
      "\n",
      "\n",
      "\n",
      "Download option for \"Forest Type 2015 (raster 20 m and 100 m), Europe, 3-yearly\":\n"
     ]
    },
    {
     "data": {
      "text/plain": [
       "{'@id': 'fa9e336a-9f18-4d95-ae52-080dab60a68b',\n",
       " 'area': 'E20N40',\n",
       " 'file': 'FTY_2015_020m_eu_03035_d04_E20N40',\n",
       " 'format': 'Geotiff',\n",
       " 'path': 'H:\\\\High_Resolution_Layers\\\\High_Resolution_Layers\\\\High_Resolution_Layer(HRL)_Forest_Type\\\\HRL_Forest_Type(FTY)_2015\\\\Data\\\\data-details\\\\raster\\\\FTY_2015_020m\\\\FTY_2015_020m_eu_03035_d04_E20N40.zip',\n",
       " 'resolution': '20 m',\n",
       " 'size': '2 MB',\n",
       " 'source': 'EEA',\n",
       " 'title': '',\n",
       " 'type': 'Raster',\n",
       " 'version': 'd04',\n",
       " 'year': ''}"
      ]
     },
     "metadata": {},
     "output_type": "display_data"
    },
    {
     "name": "stdout",
     "output_type": "stream",
     "text": [
      "\n",
      "\n",
      "\n",
      "Download option for \"Forest Type 2015 (raster 20 m and 100 m), Europe, 3-yearly\":\n"
     ]
    },
    {
     "data": {
      "text/plain": [
       "{'@id': 'd5d8e72f-2934-4823-9d44-91d4edc9dc56',\n",
       " 'area': 'E20N50',\n",
       " 'file': 'FTY_2015_020m_eu_03035_d04_E20N50',\n",
       " 'format': 'Geotiff',\n",
       " 'path': 'H:\\\\High_Resolution_Layers\\\\High_Resolution_Layers\\\\High_Resolution_Layer(HRL)_Forest_Type\\\\HRL_Forest_Type(FTY)_2015\\\\Data\\\\data-details\\\\raster\\\\FTY_2015_020m\\\\FTY_2015_020m_eu_03035_d04_E20N50.zip',\n",
       " 'resolution': '20 m',\n",
       " 'size': '1 MB',\n",
       " 'source': 'EEA',\n",
       " 'title': '',\n",
       " 'type': 'Raster',\n",
       " 'version': 'd04',\n",
       " 'year': ''}"
      ]
     },
     "metadata": {},
     "output_type": "display_data"
    },
    {
     "name": "stdout",
     "output_type": "stream",
     "text": [
      "\n",
      "\n",
      "\n",
      "Download option for \"Forest Type 2015 (raster 20 m and 100 m), Europe, 3-yearly\":\n"
     ]
    },
    {
     "data": {
      "text/plain": [
       "{'@id': '24858394-2c37-4599-b4a9-a4993bc05e52',\n",
       " 'area': 'E30N10',\n",
       " 'file': 'FTY_2015_020m_eu_03035_d04_E30N10',\n",
       " 'format': 'Geotiff',\n",
       " 'path': 'H:\\\\High_Resolution_Layers\\\\High_Resolution_Layers\\\\High_Resolution_Layer(HRL)_Forest_Type\\\\HRL_Forest_Type(FTY)_2015\\\\Data\\\\data-details\\\\raster\\\\FTY_2015_020m\\\\FTY_2015_020m_eu_03035_d04_E30N10.zip',\n",
       " 'resolution': '20 m',\n",
       " 'size': '38 MB',\n",
       " 'source': 'EEA',\n",
       " 'title': '',\n",
       " 'type': 'Raster',\n",
       " 'version': 'd04',\n",
       " 'year': ''}"
      ]
     },
     "metadata": {},
     "output_type": "display_data"
    },
    {
     "name": "stdout",
     "output_type": "stream",
     "text": [
      "\n",
      "\n",
      "\n",
      "Download option for \"Forest Type 2015 (raster 20 m and 100 m), Europe, 3-yearly\":\n"
     ]
    },
    {
     "data": {
      "text/plain": [
       "{'@id': '1fea8bfa-cd15-4471-ab52-940328f36e70',\n",
       " 'area': 'E30N20',\n",
       " 'file': 'FTY_2015_020m_eu_03035_d04_E30N20',\n",
       " 'format': 'Geotiff',\n",
       " 'path': 'H:\\\\High_Resolution_Layers\\\\High_Resolution_Layers\\\\High_Resolution_Layer(HRL)_Forest_Type\\\\HRL_Forest_Type(FTY)_2015\\\\Data\\\\data-details\\\\raster\\\\FTY_2015_020m\\\\FTY_2015_020m_eu_03035_d04_E30N20.zip',\n",
       " 'resolution': '20 m',\n",
       " 'size': '146 MB',\n",
       " 'source': 'EEA',\n",
       " 'title': '',\n",
       " 'type': 'Raster',\n",
       " 'version': 'd04',\n",
       " 'year': ''}"
      ]
     },
     "metadata": {},
     "output_type": "display_data"
    },
    {
     "name": "stdout",
     "output_type": "stream",
     "text": [
      "\n",
      "\n",
      "\n",
      "Download option for \"Forest Type 2015 (raster 20 m and 100 m), Europe, 3-yearly\":\n"
     ]
    },
    {
     "data": {
      "text/plain": [
       "{'@id': '3db05a1d-ec6f-432d-9a47-75fccea3c6ae',\n",
       " 'area': 'E30N30',\n",
       " 'file': 'FTY_2015_020m_eu_03035_d04_E30N30',\n",
       " 'format': 'Geotiff',\n",
       " 'path': 'H:\\\\High_Resolution_Layers\\\\High_Resolution_Layers\\\\High_Resolution_Layer(HRL)_Forest_Type\\\\HRL_Forest_Type(FTY)_2015\\\\Data\\\\data-details\\\\raster\\\\FTY_2015_020m\\\\FTY_2015_020m_eu_03035_d04_E30N30.zip',\n",
       " 'resolution': '20 m',\n",
       " 'size': '57 MB',\n",
       " 'source': 'EEA',\n",
       " 'title': '',\n",
       " 'type': 'Raster',\n",
       " 'version': 'd04',\n",
       " 'year': ''}"
      ]
     },
     "metadata": {},
     "output_type": "display_data"
    },
    {
     "name": "stdout",
     "output_type": "stream",
     "text": [
      "\n",
      "\n",
      "\n",
      "Download option for \"Forest Type 2015 (raster 20 m and 100 m), Europe, 3-yearly\":\n"
     ]
    },
    {
     "data": {
      "text/plain": [
       "{'@id': 'f15659c6-b02f-48a5-b886-c36d0496d643',\n",
       " 'area': 'E30N40',\n",
       " 'file': 'FTY_2015_020m_eu_03035_d04_E30N40',\n",
       " 'format': 'Geotiff',\n",
       " 'path': 'H:\\\\High_Resolution_Layers\\\\High_Resolution_Layers\\\\High_Resolution_Layer(HRL)_Forest_Type\\\\HRL_Forest_Type(FTY)_2015\\\\Data\\\\data-details\\\\raster\\\\FTY_2015_020m\\\\FTY_2015_020m_eu_03035_d04_E30N40.zip',\n",
       " 'resolution': '20 m',\n",
       " 'size': '2 MB',\n",
       " 'source': 'EEA',\n",
       " 'title': '',\n",
       " 'type': 'Raster',\n",
       " 'version': 'd04',\n",
       " 'year': ''}"
      ]
     },
     "metadata": {},
     "output_type": "display_data"
    },
    {
     "name": "stdout",
     "output_type": "stream",
     "text": [
      "\n",
      "\n",
      "\n",
      "Download option for \"Forest Type 2015 (raster 20 m and 100 m), Europe, 3-yearly\":\n"
     ]
    },
    {
     "data": {
      "text/plain": [
       "{'@id': 'a8a48e05-a5fd-4f50-965c-e441cbbc78cf',\n",
       " 'area': 'E30N50',\n",
       " 'file': 'FTY_2015_020m_eu_03035_d04_E30N50',\n",
       " 'format': 'Geotiff',\n",
       " 'path': 'H:\\\\High_Resolution_Layers\\\\High_Resolution_Layers\\\\High_Resolution_Layer(HRL)_Forest_Type\\\\HRL_Forest_Type(FTY)_2015\\\\Data\\\\data-details\\\\raster\\\\FTY_2015_020m\\\\FTY_2015_020m_eu_03035_d04_E30N50.zip',\n",
       " 'resolution': '20 m',\n",
       " 'size': '1 MB',\n",
       " 'source': 'EEA',\n",
       " 'title': '',\n",
       " 'type': 'Raster',\n",
       " 'version': 'd04',\n",
       " 'year': ''}"
      ]
     },
     "metadata": {},
     "output_type": "display_data"
    },
    {
     "name": "stdout",
     "output_type": "stream",
     "text": [
      "\n",
      "\n",
      "\n",
      "Download option for \"Forest Type 2015 (raster 20 m and 100 m), Europe, 3-yearly\":\n"
     ]
    },
    {
     "data": {
      "text/plain": [
       "{'@id': '0651812a-b3fb-4e35-914b-1a98b036eabf',\n",
       " 'area': 'E40N10',\n",
       " 'file': 'FTY_2015_020m_eu_03035_d04_E40N10',\n",
       " 'format': 'Geotiff',\n",
       " 'path': 'H:\\\\High_Resolution_Layers\\\\High_Resolution_Layers\\\\High_Resolution_Layer(HRL)_Forest_Type\\\\HRL_Forest_Type(FTY)_2015\\\\Data\\\\data-details\\\\raster\\\\FTY_2015_020m\\\\FTY_2015_020m_eu_03035_d04_E40N10.zip',\n",
       " 'resolution': '20 m',\n",
       " 'size': '20 MB',\n",
       " 'source': 'EEA',\n",
       " 'title': '',\n",
       " 'type': 'Raster',\n",
       " 'version': 'd04',\n",
       " 'year': ''}"
      ]
     },
     "metadata": {},
     "output_type": "display_data"
    },
    {
     "name": "stdout",
     "output_type": "stream",
     "text": [
      "\n",
      "\n",
      "\n",
      "Download option for \"Forest Type 2015 (raster 20 m and 100 m), Europe, 3-yearly\":\n"
     ]
    },
    {
     "data": {
      "text/plain": [
       "{'@id': '3fe25135-0c75-4561-bab3-231926c47880',\n",
       " 'area': 'E40N20',\n",
       " 'file': 'FTY_2015_020m_eu_03035_d04_E40N20',\n",
       " 'format': 'Geotiff',\n",
       " 'path': 'H:\\\\High_Resolution_Layers\\\\High_Resolution_Layers\\\\High_Resolution_Layer(HRL)_Forest_Type\\\\HRL_Forest_Type(FTY)_2015\\\\Data\\\\data-details\\\\raster\\\\FTY_2015_020m\\\\FTY_2015_020m_eu_03035_d04_E40N20.zip',\n",
       " 'resolution': '20 m',\n",
       " 'size': '187 MB',\n",
       " 'source': 'EEA',\n",
       " 'title': '',\n",
       " 'type': 'Raster',\n",
       " 'version': 'd04',\n",
       " 'year': ''}"
      ]
     },
     "metadata": {},
     "output_type": "display_data"
    },
    {
     "name": "stdout",
     "output_type": "stream",
     "text": [
      "\n",
      "\n",
      "\n",
      "Download option for \"Forest Type 2015 (raster 20 m and 100 m), Europe, 3-yearly\":\n"
     ]
    },
    {
     "data": {
      "text/plain": [
       "{'@id': '2a32ddd6-2fba-4f64-a28e-2f516a5555f2',\n",
       " 'area': 'E40N30',\n",
       " 'file': 'FTY_2015_020m_eu_03035_d04_E40N30',\n",
       " 'format': 'Geotiff',\n",
       " 'path': 'H:\\\\High_Resolution_Layers\\\\High_Resolution_Layers\\\\High_Resolution_Layer(HRL)_Forest_Type\\\\HRL_Forest_Type(FTY)_2015\\\\Data\\\\data-details\\\\raster\\\\FTY_2015_020m\\\\FTY_2015_020m_eu_03035_d04_E40N30.zip',\n",
       " 'resolution': '20 m',\n",
       " 'size': '153 MB',\n",
       " 'source': 'EEA',\n",
       " 'title': '',\n",
       " 'type': 'Raster',\n",
       " 'version': 'd04',\n",
       " 'year': ''}"
      ]
     },
     "metadata": {},
     "output_type": "display_data"
    },
    {
     "name": "stdout",
     "output_type": "stream",
     "text": [
      "\n",
      "\n",
      "\n",
      "Download option for \"Forest Type 2015 (raster 20 m and 100 m), Europe, 3-yearly\":\n"
     ]
    },
    {
     "data": {
      "text/plain": [
       "{'@id': 'd700ddbc-cb42-4dea-9638-82df1b55f2bd',\n",
       " 'area': 'E40N40',\n",
       " 'file': 'FTY_2015_020m_eu_03035_d04_E40N40',\n",
       " 'format': 'Geotiff',\n",
       " 'path': 'H:\\\\High_Resolution_Layers\\\\High_Resolution_Layers\\\\High_Resolution_Layer(HRL)_Forest_Type\\\\HRL_Forest_Type(FTY)_2015\\\\Data\\\\data-details\\\\raster\\\\FTY_2015_020m\\\\FTY_2015_020m_eu_03035_d04_E40N40.zip',\n",
       " 'resolution': '20 m',\n",
       " 'size': '196 MB',\n",
       " 'source': 'EEA',\n",
       " 'title': '',\n",
       " 'type': 'Raster',\n",
       " 'version': 'd04',\n",
       " 'year': ''}"
      ]
     },
     "metadata": {},
     "output_type": "display_data"
    },
    {
     "name": "stdout",
     "output_type": "stream",
     "text": [
      "\n",
      "\n",
      "\n",
      "Download option for \"Forest Type 2015 (raster 20 m and 100 m), Europe, 3-yearly\":\n"
     ]
    },
    {
     "data": {
      "text/plain": [
       "{'@id': '968b74e8-24d0-4b60-9081-739c140ff095',\n",
       " 'area': 'E40N50',\n",
       " 'file': 'FTY_2015_020m_eu_03035_d04_E40N50',\n",
       " 'format': 'Geotiff',\n",
       " 'path': 'H:\\\\High_Resolution_Layers\\\\High_Resolution_Layers\\\\High_Resolution_Layer(HRL)_Forest_Type\\\\HRL_Forest_Type(FTY)_2015\\\\Data\\\\data-details\\\\raster\\\\FTY_2015_020m\\\\FTY_2015_020m_eu_03035_d04_E40N50.zip',\n",
       " 'resolution': '20 m',\n",
       " 'size': '29 MB',\n",
       " 'source': 'EEA',\n",
       " 'title': '',\n",
       " 'type': 'Raster',\n",
       " 'version': 'd04',\n",
       " 'year': ''}"
      ]
     },
     "metadata": {},
     "output_type": "display_data"
    },
    {
     "name": "stdout",
     "output_type": "stream",
     "text": [
      "\n",
      "\n",
      "\n",
      "Download option for \"Forest Type 2015 (raster 20 m and 100 m), Europe, 3-yearly\":\n"
     ]
    },
    {
     "data": {
      "text/plain": [
       "{'@id': 'f2469337-7ad3-4464-9ab4-36813b2782eb',\n",
       " 'area': 'E50N10',\n",
       " 'file': 'FTY_2015_020m_eu_03035_d04_E50N10',\n",
       " 'format': 'Geotiff',\n",
       " 'path': 'H:\\\\High_Resolution_Layers\\\\High_Resolution_Layers\\\\High_Resolution_Layer(HRL)_Forest_Type\\\\HRL_Forest_Type(FTY)_2015\\\\Data\\\\data-details\\\\raster\\\\FTY_2015_020m\\\\FTY_2015_020m_eu_03035_d04_E50N10.zip',\n",
       " 'resolution': '20 m',\n",
       " 'size': '46 MB',\n",
       " 'source': 'EEA',\n",
       " 'title': '',\n",
       " 'type': 'Raster',\n",
       " 'version': 'd04',\n",
       " 'year': ''}"
      ]
     },
     "metadata": {},
     "output_type": "display_data"
    },
    {
     "name": "stdout",
     "output_type": "stream",
     "text": [
      "\n",
      "\n",
      "\n",
      "Download option for \"Forest Type 2015 (raster 20 m and 100 m), Europe, 3-yearly\":\n"
     ]
    },
    {
     "data": {
      "text/plain": [
       "{'@id': '7288d3fd-e104-43cc-b0bc-7f45ce4906eb',\n",
       " 'area': 'E50N20',\n",
       " 'file': 'FTY_2015_020m_eu_03035_d04_E50N20',\n",
       " 'format': 'Geotiff',\n",
       " 'path': 'H:\\\\High_Resolution_Layers\\\\High_Resolution_Layers\\\\High_Resolution_Layer(HRL)_Forest_Type\\\\HRL_Forest_Type(FTY)_2015\\\\Data\\\\data-details\\\\raster\\\\FTY_2015_020m\\\\FTY_2015_020m_eu_03035_d04_E50N20.zip',\n",
       " 'resolution': '20 m',\n",
       " 'size': '128 MB',\n",
       " 'source': 'EEA',\n",
       " 'title': '',\n",
       " 'type': 'Raster',\n",
       " 'version': 'd04',\n",
       " 'year': ''}"
      ]
     },
     "metadata": {},
     "output_type": "display_data"
    },
    {
     "name": "stdout",
     "output_type": "stream",
     "text": [
      "\n",
      "\n",
      "\n",
      "Download option for \"Forest Type 2015 (raster 20 m and 100 m), Europe, 3-yearly\":\n"
     ]
    },
    {
     "data": {
      "text/plain": [
       "{'@id': '42fad760-c8fb-41de-8737-cd0b19795359',\n",
       " 'area': 'E50N30',\n",
       " 'file': 'FTY_2015_020m_eu_03035_d04_E50N30',\n",
       " 'format': 'Geotiff',\n",
       " 'path': 'H:\\\\High_Resolution_Layers\\\\High_Resolution_Layers\\\\High_Resolution_Layer(HRL)_Forest_Type\\\\HRL_Forest_Type(FTY)_2015\\\\Data\\\\data-details\\\\raster\\\\FTY_2015_020m\\\\FTY_2015_020m_eu_03035_d04_E50N30.zip',\n",
       " 'resolution': '20 m',\n",
       " 'size': '72 MB',\n",
       " 'source': 'EEA',\n",
       " 'title': '',\n",
       " 'type': 'Raster',\n",
       " 'version': 'd04',\n",
       " 'year': ''}"
      ]
     },
     "metadata": {},
     "output_type": "display_data"
    },
    {
     "name": "stdout",
     "output_type": "stream",
     "text": [
      "\n",
      "\n",
      "\n",
      "Download option for \"Forest Type 2015 (raster 20 m and 100 m), Europe, 3-yearly\":\n"
     ]
    },
    {
     "data": {
      "text/plain": [
       "{'@id': 'dbb07e11-a64c-4363-a999-1b8d60ee387f',\n",
       " 'area': 'E50N40',\n",
       " 'file': 'FTY_2015_020m_eu_03035_d04_E50N40',\n",
       " 'format': 'Geotiff',\n",
       " 'path': 'H:\\\\High_Resolution_Layers\\\\High_Resolution_Layers\\\\High_Resolution_Layer(HRL)_Forest_Type\\\\HRL_Forest_Type(FTY)_2015\\\\Data\\\\data-details\\\\raster\\\\FTY_2015_020m\\\\FTY_2015_020m_eu_03035_d04_E50N40.zip',\n",
       " 'resolution': '20 m',\n",
       " 'size': '97 MB',\n",
       " 'source': 'EEA',\n",
       " 'title': '',\n",
       " 'type': 'Raster',\n",
       " 'version': 'd04',\n",
       " 'year': ''}"
      ]
     },
     "metadata": {},
     "output_type": "display_data"
    },
    {
     "name": "stdout",
     "output_type": "stream",
     "text": [
      "\n",
      "\n",
      "\n",
      "Download option for \"Forest Type 2015 (raster 20 m and 100 m), Europe, 3-yearly\":\n"
     ]
    },
    {
     "data": {
      "text/plain": [
       "{'@id': 'd4ca9405-1137-418b-936a-e03863c1850d',\n",
       " 'area': 'E50N50',\n",
       " 'file': 'FTY_2015_020m_eu_03035_d04_E50N50',\n",
       " 'format': 'Geotiff',\n",
       " 'path': 'H:\\\\High_Resolution_Layers\\\\High_Resolution_Layers\\\\High_Resolution_Layer(HRL)_Forest_Type\\\\HRL_Forest_Type(FTY)_2015\\\\Data\\\\data-details\\\\raster\\\\FTY_2015_020m\\\\FTY_2015_020m_eu_03035_d04_E50N50.zip',\n",
       " 'resolution': '20 m',\n",
       " 'size': '12 MB',\n",
       " 'source': 'EEA',\n",
       " 'title': '',\n",
       " 'type': 'Raster',\n",
       " 'version': 'd04',\n",
       " 'year': ''}"
      ]
     },
     "metadata": {},
     "output_type": "display_data"
    },
    {
     "name": "stdout",
     "output_type": "stream",
     "text": [
      "\n",
      "\n",
      "\n",
      "Download option for \"Forest Type 2015 (raster 20 m and 100 m), Europe, 3-yearly\":\n"
     ]
    },
    {
     "data": {
      "text/plain": [
       "{'@id': 'c36166be-a106-494d-900f-ab9d2099f456',\n",
       " 'area': 'E60N10',\n",
       " 'file': 'FTY_2015_020m_eu_03035_d04_E60N10',\n",
       " 'format': 'Geotiff',\n",
       " 'path': 'H:\\\\High_Resolution_Layers\\\\High_Resolution_Layers\\\\High_Resolution_Layer(HRL)_Forest_Type\\\\HRL_Forest_Type(FTY)_2015\\\\Data\\\\data-details\\\\raster\\\\FTY_2015_020m\\\\FTY_2015_020m_eu_03035_d04_E60N10.zip',\n",
       " 'resolution': '20 m',\n",
       " 'size': '32 MB',\n",
       " 'source': 'EEA',\n",
       " 'title': '',\n",
       " 'type': 'Raster',\n",
       " 'version': 'd04',\n",
       " 'year': ''}"
      ]
     },
     "metadata": {},
     "output_type": "display_data"
    },
    {
     "name": "stdout",
     "output_type": "stream",
     "text": [
      "\n",
      "\n",
      "\n",
      "Download option for \"Forest Type 2015 (raster 20 m and 100 m), Europe, 3-yearly\":\n"
     ]
    },
    {
     "data": {
      "text/plain": [
       "{'@id': '96c43bfa-c6dc-43cd-85a5-a213dcdeef77',\n",
       " 'area': 'E60N20',\n",
       " 'file': 'FTY_2015_020m_eu_03035_d04_E60N20',\n",
       " 'format': 'Geotiff',\n",
       " 'path': 'H:\\\\High_Resolution_Layers\\\\High_Resolution_Layers\\\\High_Resolution_Layer(HRL)_Forest_Type\\\\HRL_Forest_Type(FTY)_2015\\\\Data\\\\data-details\\\\raster\\\\FTY_2015_020m\\\\FTY_2015_020m_eu_03035_d04_E60N20.zip',\n",
       " 'resolution': '20 m',\n",
       " 'size': '65 MB',\n",
       " 'source': 'EEA',\n",
       " 'title': '',\n",
       " 'type': 'Raster',\n",
       " 'version': 'd04',\n",
       " 'year': ''}"
      ]
     },
     "metadata": {},
     "output_type": "display_data"
    },
    {
     "name": "stdout",
     "output_type": "stream",
     "text": [
      "\n",
      "\n",
      "\n",
      "Download option for \"Forest Type 2015 (raster 20 m and 100 m), Europe, 3-yearly\":\n"
     ]
    },
    {
     "data": {
      "text/plain": [
       "{'@id': 'cf6759dd-61ed-41db-92c1-02f6fbc478b4',\n",
       " 'area': 'E70N20',\n",
       " 'file': 'FTY_2015_020m_eu_03035_d04_E70N20',\n",
       " 'format': 'Geotiff',\n",
       " 'path': 'H:\\\\High_Resolution_Layers\\\\High_Resolution_Layers\\\\High_Resolution_Layer(HRL)_Forest_Type\\\\HRL_Forest_Type(FTY)_2015\\\\Data\\\\data-details\\\\raster\\\\FTY_2015_020m\\\\FTY_2015_020m_eu_03035_d04_E70N20.zip',\n",
       " 'resolution': '20 m',\n",
       " 'size': '5 MB',\n",
       " 'source': 'EEA',\n",
       " 'title': '',\n",
       " 'type': 'Raster',\n",
       " 'version': 'd04',\n",
       " 'year': ''}"
      ]
     },
     "metadata": {},
     "output_type": "display_data"
    },
    {
     "name": "stdout",
     "output_type": "stream",
     "text": [
      "\n",
      "\n",
      "\n",
      "Download option for \"Forest Type 2015 (raster 20 m and 100 m), Europe, 3-yearly\":\n"
     ]
    },
    {
     "data": {
      "text/plain": [
       "{'@id': '7032352c-7e07-4c87-9ce6-043ba6c18e30',\n",
       " 'area': 'E00N20',\n",
       " 'file': 'FTY_2015_100m_eu_03035_d02_E00N20',\n",
       " 'format': 'Geotiff',\n",
       " 'path': 'H:\\\\High_Resolution_Layers\\\\High_Resolution_Layers\\\\High_Resolution_Layer(HRL)_Forest_Type\\\\HRL_Forest_Type(FTY)_2015\\\\Data\\\\data-details\\\\raster\\\\FTY_2015_100m\\\\FTY_2015_100m_eu_03035_d02_E00N20.zip',\n",
       " 'resolution': '100 m',\n",
       " 'size': '48 KB',\n",
       " 'source': 'EEA',\n",
       " 'title': '',\n",
       " 'type': 'Raster',\n",
       " 'version': 'd02',\n",
       " 'year': ''}"
      ]
     },
     "metadata": {},
     "output_type": "display_data"
    },
    {
     "name": "stdout",
     "output_type": "stream",
     "text": [
      "\n",
      "\n",
      "\n",
      "Download option for \"Forest Type 2015 (raster 20 m and 100 m), Europe, 3-yearly\":\n"
     ]
    },
    {
     "data": {
      "text/plain": [
       "{'@id': '4972a960-3732-4048-9961-153b80080de5',\n",
       " 'area': 'E10N00',\n",
       " 'file': 'FTY_2015_100m_eu_03035_d02_E10N00',\n",
       " 'format': 'Geotiff',\n",
       " 'path': 'H:\\\\High_Resolution_Layers\\\\High_Resolution_Layers\\\\High_Resolution_Layer(HRL)_Forest_Type\\\\HRL_Forest_Type(FTY)_2015\\\\Data\\\\data-details\\\\raster\\\\FTY_2015_100m\\\\FTY_2015_100m_eu_03035_d02_E10N00.zip',\n",
       " 'resolution': '100 m',\n",
       " 'size': '68 KB',\n",
       " 'source': 'EEA',\n",
       " 'title': '',\n",
       " 'type': 'Raster',\n",
       " 'version': 'd02',\n",
       " 'year': ''}"
      ]
     },
     "metadata": {},
     "output_type": "display_data"
    },
    {
     "name": "stdout",
     "output_type": "stream",
     "text": [
      "\n",
      "\n",
      "\n",
      "Download option for \"Forest Type 2015 (raster 20 m and 100 m), Europe, 3-yearly\":\n"
     ]
    },
    {
     "data": {
      "text/plain": [
       "{'@id': 'cc4fa456-2dc2-46d0-b13d-c47a5b361560',\n",
       " 'area': 'E10N10',\n",
       " 'file': 'FTY_2015_100m_eu_03035_d02_E10N10',\n",
       " 'format': 'Geotiff',\n",
       " 'path': 'H:\\\\High_Resolution_Layers\\\\High_Resolution_Layers\\\\High_Resolution_Layer(HRL)_Forest_Type\\\\HRL_Forest_Type(FTY)_2015\\\\Data\\\\data-details\\\\raster\\\\FTY_2015_100m\\\\FTY_2015_100m_eu_03035_d02_E10N10.zip',\n",
       " 'resolution': '100 m',\n",
       " 'size': '189 KB',\n",
       " 'source': 'EEA',\n",
       " 'title': '',\n",
       " 'type': 'Raster',\n",
       " 'version': 'd02',\n",
       " 'year': ''}"
      ]
     },
     "metadata": {},
     "output_type": "display_data"
    },
    {
     "name": "stdout",
     "output_type": "stream",
     "text": [
      "\n",
      "\n",
      "\n",
      "Download option for \"Forest Type 2015 (raster 20 m and 100 m), Europe, 3-yearly\":\n"
     ]
    },
    {
     "data": {
      "text/plain": [
       "{'@id': '55e37dac-f3a8-417b-a231-5749fcb0533a',\n",
       " 'area': 'E10N20',\n",
       " 'file': 'FTY_2015_100m_eu_03035_d02_E10N20',\n",
       " 'format': 'Geotiff',\n",
       " 'path': 'H:\\\\High_Resolution_Layers\\\\High_Resolution_Layers\\\\High_Resolution_Layer(HRL)_Forest_Type\\\\HRL_Forest_Type(FTY)_2015\\\\Data\\\\data-details\\\\raster\\\\FTY_2015_100m\\\\FTY_2015_100m_eu_03035_d02_E10N20.zip',\n",
       " 'resolution': '100 m',\n",
       " 'size': '168 KB',\n",
       " 'source': 'EEA',\n",
       " 'title': '',\n",
       " 'type': 'Raster',\n",
       " 'version': 'd02',\n",
       " 'year': ''}"
      ]
     },
     "metadata": {},
     "output_type": "display_data"
    },
    {
     "name": "stdout",
     "output_type": "stream",
     "text": [
      "\n",
      "\n",
      "\n",
      "Download option for \"Forest Type 2015 (raster 20 m and 100 m), Europe, 3-yearly\":\n"
     ]
    },
    {
     "data": {
      "text/plain": [
       "{'@id': 'e0673baa-75ed-41c5-a8ef-c499367c074f',\n",
       " 'area': 'E20N10',\n",
       " 'file': 'FTY_2015_100m_eu_03035_d02_E20N10',\n",
       " 'format': 'Geotiff',\n",
       " 'path': 'H:\\\\High_Resolution_Layers\\\\High_Resolution_Layers\\\\High_Resolution_Layer(HRL)_Forest_Type\\\\HRL_Forest_Type(FTY)_2015\\\\Data\\\\data-details\\\\raster\\\\FTY_2015_100m\\\\FTY_2015_100m_eu_03035_d02_E20N10.zip',\n",
       " 'resolution': '100 m',\n",
       " 'size': '2 MB',\n",
       " 'source': 'EEA',\n",
       " 'title': '',\n",
       " 'type': 'Raster',\n",
       " 'version': 'd02',\n",
       " 'year': ''}"
      ]
     },
     "metadata": {},
     "output_type": "display_data"
    },
    {
     "name": "stdout",
     "output_type": "stream",
     "text": [
      "\n",
      "\n",
      "\n",
      "Download option for \"Forest Type 2015 (raster 20 m and 100 m), Europe, 3-yearly\":\n"
     ]
    },
    {
     "data": {
      "text/plain": [
       "{'@id': '97312860-27ab-482b-b35f-fa1efcdf89ce',\n",
       " 'area': 'E20N20',\n",
       " 'file': 'FTY_2015_100m_eu_03035_d02_E20N20',\n",
       " 'format': 'Geotiff',\n",
       " 'path': 'H:\\\\High_Resolution_Layers\\\\High_Resolution_Layers\\\\High_Resolution_Layer(HRL)_Forest_Type\\\\HRL_Forest_Type(FTY)_2015\\\\Data\\\\data-details\\\\raster\\\\FTY_2015_100m\\\\FTY_2015_100m_eu_03035_d02_E20N20.zip',\n",
       " 'resolution': '100 m',\n",
       " 'size': '2 MB',\n",
       " 'source': 'EEA',\n",
       " 'title': '',\n",
       " 'type': 'Raster',\n",
       " 'version': 'd02',\n",
       " 'year': ''}"
      ]
     },
     "metadata": {},
     "output_type": "display_data"
    },
    {
     "name": "stdout",
     "output_type": "stream",
     "text": [
      "\n",
      "\n",
      "\n",
      "Download option for \"Forest Type 2015 (raster 20 m and 100 m), Europe, 3-yearly\":\n"
     ]
    },
    {
     "data": {
      "text/plain": [
       "{'@id': '3781cd09-fe83-4758-a921-3c049baf7cd6',\n",
       " 'area': 'E20N30',\n",
       " 'file': 'FTY_2015_100m_eu_03035_d02_E20N30',\n",
       " 'format': 'Geotiff',\n",
       " 'path': 'H:\\\\High_Resolution_Layers\\\\High_Resolution_Layers\\\\High_Resolution_Layer(HRL)_Forest_Type\\\\HRL_Forest_Type(FTY)_2015\\\\Data\\\\data-details\\\\raster\\\\FTY_2015_100m\\\\FTY_2015_100m_eu_03035_d02_E20N30.zip',\n",
       " 'resolution': '100 m',\n",
       " 'size': '157 KB',\n",
       " 'source': 'EEA',\n",
       " 'title': '',\n",
       " 'type': 'Raster',\n",
       " 'version': 'd02',\n",
       " 'year': ''}"
      ]
     },
     "metadata": {},
     "output_type": "display_data"
    },
    {
     "name": "stdout",
     "output_type": "stream",
     "text": [
      "\n",
      "\n",
      "\n",
      "Download option for \"Forest Type 2015 (raster 20 m and 100 m), Europe, 3-yearly\":\n"
     ]
    },
    {
     "data": {
      "text/plain": [
       "{'@id': '4a828a01-c7e7-4478-81da-c311f90e5317',\n",
       " 'area': 'E20N40',\n",
       " 'file': 'FTY_2015_100m_eu_03035_d02_E20N40',\n",
       " 'format': 'Geotiff',\n",
       " 'path': 'H:\\\\High_Resolution_Layers\\\\High_Resolution_Layers\\\\High_Resolution_Layer(HRL)_Forest_Type\\\\HRL_Forest_Type(FTY)_2015\\\\Data\\\\data-details\\\\raster\\\\FTY_2015_100m\\\\FTY_2015_100m_eu_03035_d02_E20N40.zip',\n",
       " 'resolution': '100 m',\n",
       " 'size': '150 KB',\n",
       " 'source': 'EEA',\n",
       " 'title': '',\n",
       " 'type': 'Raster',\n",
       " 'version': 'd02',\n",
       " 'year': ''}"
      ]
     },
     "metadata": {},
     "output_type": "display_data"
    },
    {
     "name": "stdout",
     "output_type": "stream",
     "text": [
      "\n",
      "\n",
      "\n",
      "Download option for \"Forest Type 2015 (raster 20 m and 100 m), Europe, 3-yearly\":\n"
     ]
    },
    {
     "data": {
      "text/plain": [
       "{'@id': 'dea4aa58-39f6-4a6e-938e-3e7277223f54',\n",
       " 'area': 'E20N50',\n",
       " 'file': 'FTY_2015_100m_eu_03035_d02_E20N50',\n",
       " 'format': 'Geotiff',\n",
       " 'path': 'H:\\\\High_Resolution_Layers\\\\High_Resolution_Layers\\\\High_Resolution_Layer(HRL)_Forest_Type\\\\HRL_Forest_Type(FTY)_2015\\\\Data\\\\data-details\\\\raster\\\\FTY_2015_100m\\\\FTY_2015_100m_eu_03035_d02_E20N50.zip',\n",
       " 'resolution': '100 m',\n",
       " 'size': '127 KB',\n",
       " 'source': 'EEA',\n",
       " 'title': '',\n",
       " 'type': 'Raster',\n",
       " 'version': 'd02',\n",
       " 'year': ''}"
      ]
     },
     "metadata": {},
     "output_type": "display_data"
    },
    {
     "name": "stdout",
     "output_type": "stream",
     "text": [
      "\n",
      "\n",
      "\n",
      "Download option for \"Forest Type 2015 (raster 20 m and 100 m), Europe, 3-yearly\":\n"
     ]
    },
    {
     "data": {
      "text/plain": [
       "{'@id': 'ba54effc-abc1-441c-a9d0-717540dcdf08',\n",
       " 'area': 'E30N10',\n",
       " 'file': 'FTY_2015_100m_eu_03035_d02_E30N10',\n",
       " 'format': 'Geotiff',\n",
       " 'path': 'H:\\\\High_Resolution_Layers\\\\High_Resolution_Layers\\\\High_Resolution_Layer(HRL)_Forest_Type\\\\HRL_Forest_Type(FTY)_2015\\\\Data\\\\data-details\\\\raster\\\\FTY_2015_100m\\\\FTY_2015_100m_eu_03035_d02_E30N10.zip',\n",
       " 'resolution': '100 m',\n",
       " 'size': '2 MB',\n",
       " 'source': 'EEA',\n",
       " 'title': '',\n",
       " 'type': 'Raster',\n",
       " 'version': 'd02',\n",
       " 'year': ''}"
      ]
     },
     "metadata": {},
     "output_type": "display_data"
    },
    {
     "name": "stdout",
     "output_type": "stream",
     "text": [
      "\n",
      "\n",
      "\n",
      "Download option for \"Forest Type 2015 (raster 20 m and 100 m), Europe, 3-yearly\":\n"
     ]
    },
    {
     "data": {
      "text/plain": [
       "{'@id': 'bc419e52-39e1-45e2-b33b-6d4c508975c1',\n",
       " 'area': 'E30N20',\n",
       " 'file': 'FTY_2015_100m_eu_03035_d02_E30N20',\n",
       " 'format': 'Geotiff',\n",
       " 'path': 'H:\\\\High_Resolution_Layers\\\\High_Resolution_Layers\\\\High_Resolution_Layer(HRL)_Forest_Type\\\\HRL_Forest_Type(FTY)_2015\\\\Data\\\\data-details\\\\raster\\\\FTY_2015_100m\\\\FTY_2015_100m_eu_03035_d02_E30N20.zip',\n",
       " 'resolution': '100 m',\n",
       " 'size': '11 MB',\n",
       " 'source': 'EEA',\n",
       " 'title': '',\n",
       " 'type': 'Raster',\n",
       " 'version': 'd02',\n",
       " 'year': ''}"
      ]
     },
     "metadata": {},
     "output_type": "display_data"
    },
    {
     "name": "stdout",
     "output_type": "stream",
     "text": [
      "\n",
      "\n",
      "\n",
      "Download option for \"Forest Type 2015 (raster 20 m and 100 m), Europe, 3-yearly\":\n"
     ]
    },
    {
     "data": {
      "text/plain": [
       "{'@id': 'c9f171e4-043a-4f07-b9d0-cde59df76ffc',\n",
       " 'area': 'E30N30',\n",
       " 'file': 'FTY_2015_100m_eu_03035_d02_E30N30',\n",
       " 'format': 'Geotiff',\n",
       " 'path': 'H:\\\\High_Resolution_Layers\\\\High_Resolution_Layers\\\\High_Resolution_Layer(HRL)_Forest_Type\\\\HRL_Forest_Type(FTY)_2015\\\\Data\\\\data-details\\\\raster\\\\FTY_2015_100m\\\\FTY_2015_100m_eu_03035_d02_E30N30.zip',\n",
       " 'resolution': '100 m',\n",
       " 'size': '4 MB',\n",
       " 'source': 'EEA',\n",
       " 'title': '',\n",
       " 'type': 'Raster',\n",
       " 'version': 'd02',\n",
       " 'year': ''}"
      ]
     },
     "metadata": {},
     "output_type": "display_data"
    },
    {
     "name": "stdout",
     "output_type": "stream",
     "text": [
      "\n",
      "\n",
      "\n",
      "Download option for \"Forest Type 2015 (raster 20 m and 100 m), Europe, 3-yearly\":\n"
     ]
    },
    {
     "data": {
      "text/plain": [
       "{'@id': '7e20742e-bd87-4411-8d97-834434e370de',\n",
       " 'area': 'E30N40',\n",
       " 'file': 'FTY_2015_100m_eu_03035_d02_E30N40',\n",
       " 'format': 'Geotiff',\n",
       " 'path': 'H:\\\\High_Resolution_Layers\\\\High_Resolution_Layers\\\\High_Resolution_Layer(HRL)_Forest_Type\\\\HRL_Forest_Type(FTY)_2015\\\\Data\\\\data-details\\\\raster\\\\FTY_2015_100m\\\\FTY_2015_100m_eu_03035_d02_E30N40.zip',\n",
       " 'resolution': '100 m',\n",
       " 'size': '230 KB',\n",
       " 'source': 'EEA',\n",
       " 'title': '',\n",
       " 'type': 'Raster',\n",
       " 'version': 'd02',\n",
       " 'year': ''}"
      ]
     },
     "metadata": {},
     "output_type": "display_data"
    },
    {
     "name": "stdout",
     "output_type": "stream",
     "text": [
      "\n",
      "\n",
      "\n",
      "Download option for \"Forest Type 2015 (raster 20 m and 100 m), Europe, 3-yearly\":\n"
     ]
    },
    {
     "data": {
      "text/plain": [
       "{'@id': 'a3f9d82a-74f7-4acc-a29a-dabd2297da1d',\n",
       " 'area': 'E30N50',\n",
       " 'file': 'FTY_2015_100m_eu_03035_d02_E30N50',\n",
       " 'format': 'Geotiff',\n",
       " 'path': 'H:\\\\High_Resolution_Layers\\\\High_Resolution_Layers\\\\High_Resolution_Layer(HRL)_Forest_Type\\\\HRL_Forest_Type(FTY)_2015\\\\Data\\\\data-details\\\\raster\\\\FTY_2015_100m\\\\FTY_2015_100m_eu_03035_d02_E30N50.zip',\n",
       " 'resolution': '100 m',\n",
       " 'size': '86 KB',\n",
       " 'source': 'EEA',\n",
       " 'title': '',\n",
       " 'type': 'Raster',\n",
       " 'version': 'd02',\n",
       " 'year': ''}"
      ]
     },
     "metadata": {},
     "output_type": "display_data"
    },
    {
     "name": "stdout",
     "output_type": "stream",
     "text": [
      "\n",
      "\n",
      "\n",
      "Download option for \"Forest Type 2015 (raster 20 m and 100 m), Europe, 3-yearly\":\n"
     ]
    },
    {
     "data": {
      "text/plain": [
       "{'@id': '400e18c2-1134-434d-9980-05b71576449e',\n",
       " 'area': 'E40N10',\n",
       " 'file': 'FTY_2015_100m_eu_03035_d02_E40N10',\n",
       " 'format': 'Geotiff',\n",
       " 'path': 'H:\\\\High_Resolution_Layers\\\\High_Resolution_Layers\\\\High_Resolution_Layer(HRL)_Forest_Type\\\\HRL_Forest_Type(FTY)_2015\\\\Data\\\\data-details\\\\raster\\\\FTY_2015_100m\\\\FTY_2015_100m_eu_03035_d02_E40N10.zip',\n",
       " 'resolution': '100 m',\n",
       " 'size': '1 MB',\n",
       " 'source': 'EEA',\n",
       " 'title': '',\n",
       " 'type': 'Raster',\n",
       " 'version': 'd02',\n",
       " 'year': ''}"
      ]
     },
     "metadata": {},
     "output_type": "display_data"
    },
    {
     "name": "stdout",
     "output_type": "stream",
     "text": [
      "\n",
      "\n",
      "\n",
      "Download option for \"Forest Type 2015 (raster 20 m and 100 m), Europe, 3-yearly\":\n"
     ]
    },
    {
     "data": {
      "text/plain": [
       "{'@id': '270e2866-6f55-41d0-bf00-34c1dd76b898',\n",
       " 'area': 'E40N20',\n",
       " 'file': 'FTY_2015_100m_eu_03035_d02_E40N20',\n",
       " 'format': 'Geotiff',\n",
       " 'path': 'H:\\\\High_Resolution_Layers\\\\High_Resolution_Layers\\\\High_Resolution_Layer(HRL)_Forest_Type\\\\HRL_Forest_Type(FTY)_2015\\\\Data\\\\data-details\\\\raster\\\\FTY_2015_100m\\\\FTY_2015_100m_eu_03035_d02_E40N20.zip',\n",
       " 'resolution': '100 m',\n",
       " 'size': '14 MB',\n",
       " 'source': 'EEA',\n",
       " 'title': '',\n",
       " 'type': 'Raster',\n",
       " 'version': 'd02',\n",
       " 'year': ''}"
      ]
     },
     "metadata": {},
     "output_type": "display_data"
    },
    {
     "name": "stdout",
     "output_type": "stream",
     "text": [
      "\n",
      "\n",
      "\n",
      "Download option for \"Forest Type 2015 (raster 20 m and 100 m), Europe, 3-yearly\":\n"
     ]
    },
    {
     "data": {
      "text/plain": [
       "{'@id': '2ee36c2c-a30e-4ee0-9c5f-436be1f61308',\n",
       " 'area': 'E40N30',\n",
       " 'file': 'FTY_2015_100m_eu_03035_d02_E40N30',\n",
       " 'format': 'Geotiff',\n",
       " 'path': 'H:\\\\High_Resolution_Layers\\\\High_Resolution_Layers\\\\High_Resolution_Layer(HRL)_Forest_Type\\\\HRL_Forest_Type(FTY)_2015\\\\Data\\\\data-details\\\\raster\\\\FTY_2015_100m\\\\FTY_2015_100m_eu_03035_d02_E40N30.zip',\n",
       " 'resolution': '100 m',\n",
       " 'size': '12 MB',\n",
       " 'source': 'EEA',\n",
       " 'title': '',\n",
       " 'type': 'Raster',\n",
       " 'version': 'd02',\n",
       " 'year': ''}"
      ]
     },
     "metadata": {},
     "output_type": "display_data"
    },
    {
     "name": "stdout",
     "output_type": "stream",
     "text": [
      "\n",
      "\n",
      "\n",
      "Download option for \"Forest Type 2015 (raster 20 m and 100 m), Europe, 3-yearly\":\n"
     ]
    },
    {
     "data": {
      "text/plain": [
       "{'@id': '179b947a-28fb-45b7-a6fc-a741521d8fbb',\n",
       " 'area': 'E40N40',\n",
       " 'file': 'FTY_2015_100m_eu_03035_d02_E40N40',\n",
       " 'format': 'Geotiff',\n",
       " 'path': 'H:\\\\High_Resolution_Layers\\\\High_Resolution_Layers\\\\High_Resolution_Layer(HRL)_Forest_Type\\\\HRL_Forest_Type(FTY)_2015\\\\Data\\\\data-details\\\\raster\\\\FTY_2015_100m\\\\FTY_2015_100m_eu_03035_d02_E40N40.zip',\n",
       " 'resolution': '100 m',\n",
       " 'size': '15 MB',\n",
       " 'source': 'EEA',\n",
       " 'title': '',\n",
       " 'type': 'Raster',\n",
       " 'version': 'd02',\n",
       " 'year': ''}"
      ]
     },
     "metadata": {},
     "output_type": "display_data"
    },
    {
     "name": "stdout",
     "output_type": "stream",
     "text": [
      "\n",
      "\n",
      "\n",
      "Download option for \"Forest Type 2015 (raster 20 m and 100 m), Europe, 3-yearly\":\n"
     ]
    },
    {
     "data": {
      "text/plain": [
       "{'@id': 'ce5e9bf8-0e4a-410a-8f5f-f8cd0abb0200',\n",
       " 'area': 'E40N50',\n",
       " 'file': 'FTY_2015_100m_eu_03035_d02_E40N50',\n",
       " 'format': 'Geotiff',\n",
       " 'path': 'H:\\\\High_Resolution_Layers\\\\High_Resolution_Layers\\\\High_Resolution_Layer(HRL)_Forest_Type\\\\HRL_Forest_Type(FTY)_2015\\\\Data\\\\data-details\\\\raster\\\\FTY_2015_100m\\\\FTY_2015_100m_eu_03035_d02_E40N50.zip',\n",
       " 'resolution': '100 m',\n",
       " 'size': '2 MB',\n",
       " 'source': 'EEA',\n",
       " 'title': '',\n",
       " 'type': 'Raster',\n",
       " 'version': 'd02',\n",
       " 'year': ''}"
      ]
     },
     "metadata": {},
     "output_type": "display_data"
    },
    {
     "name": "stdout",
     "output_type": "stream",
     "text": [
      "\n",
      "\n",
      "\n",
      "Download option for \"Forest Type 2015 (raster 20 m and 100 m), Europe, 3-yearly\":\n"
     ]
    },
    {
     "data": {
      "text/plain": [
       "{'@id': 'be9b5231-4edb-4366-97df-a8260b074ed0',\n",
       " 'area': 'E50N10',\n",
       " 'file': 'FTY_2015_100m_eu_03035_d02_E50N10',\n",
       " 'format': 'Geotiff',\n",
       " 'path': 'H:\\\\High_Resolution_Layers\\\\High_Resolution_Layers\\\\High_Resolution_Layer(HRL)_Forest_Type\\\\HRL_Forest_Type(FTY)_2015\\\\Data\\\\data-details\\\\raster\\\\FTY_2015_100m\\\\FTY_2015_100m_eu_03035_d02_E50N10.zip',\n",
       " 'resolution': '100 m',\n",
       " 'size': '3 MB',\n",
       " 'source': 'EEA',\n",
       " 'title': '',\n",
       " 'type': 'Raster',\n",
       " 'version': 'd02',\n",
       " 'year': ''}"
      ]
     },
     "metadata": {},
     "output_type": "display_data"
    },
    {
     "name": "stdout",
     "output_type": "stream",
     "text": [
      "\n",
      "\n",
      "\n",
      "Download option for \"Forest Type 2015 (raster 20 m and 100 m), Europe, 3-yearly\":\n"
     ]
    },
    {
     "data": {
      "text/plain": [
       "{'@id': '4cf0e15c-a14b-4c2c-80c8-75a18de32c7b',\n",
       " 'area': 'E50N20',\n",
       " 'file': 'FTY_2015_100m_eu_03035_d02_E50N20',\n",
       " 'format': 'Geotiff',\n",
       " 'path': 'H:\\\\High_Resolution_Layers\\\\High_Resolution_Layers\\\\High_Resolution_Layer(HRL)_Forest_Type\\\\HRL_Forest_Type(FTY)_2015\\\\Data\\\\data-details\\\\raster\\\\FTY_2015_100m\\\\FTY_2015_100m_eu_03035_d02_E50N20.zip',\n",
       " 'resolution': '100 m',\n",
       " 'size': '10 MB',\n",
       " 'source': 'EEA',\n",
       " 'title': '',\n",
       " 'type': 'Raster',\n",
       " 'version': 'd02',\n",
       " 'year': ''}"
      ]
     },
     "metadata": {},
     "output_type": "display_data"
    },
    {
     "name": "stdout",
     "output_type": "stream",
     "text": [
      "\n",
      "\n",
      "\n",
      "Download option for \"Forest Type 2015 (raster 20 m and 100 m), Europe, 3-yearly\":\n"
     ]
    },
    {
     "data": {
      "text/plain": [
       "{'@id': 'e22cdfbd-ec4b-4de8-a756-9212eb21d534',\n",
       " 'area': 'E50N30',\n",
       " 'file': 'FTY_2015_100m_eu_03035_d02_E50N30',\n",
       " 'format': 'Geotiff',\n",
       " 'path': 'H:\\\\High_Resolution_Layers\\\\High_Resolution_Layers\\\\High_Resolution_Layer(HRL)_Forest_Type\\\\HRL_Forest_Type(FTY)_2015\\\\Data\\\\data-details\\\\raster\\\\FTY_2015_100m\\\\FTY_2015_100m_eu_03035_d02_E50N30.zip',\n",
       " 'resolution': '100 m',\n",
       " 'size': '6 MB',\n",
       " 'source': 'EEA',\n",
       " 'title': '',\n",
       " 'type': 'Raster',\n",
       " 'version': 'd02',\n",
       " 'year': ''}"
      ]
     },
     "metadata": {},
     "output_type": "display_data"
    },
    {
     "name": "stdout",
     "output_type": "stream",
     "text": [
      "\n",
      "\n",
      "\n",
      "Download option for \"Forest Type 2015 (raster 20 m and 100 m), Europe, 3-yearly\":\n"
     ]
    },
    {
     "data": {
      "text/plain": [
       "{'@id': '124663bc-3ebd-46ac-8d94-e805953e9357',\n",
       " 'area': 'E50N40',\n",
       " 'file': 'FTY_2015_100m_eu_03035_d02_E50N40',\n",
       " 'format': 'Geotiff',\n",
       " 'path': 'H:\\\\High_Resolution_Layers\\\\High_Resolution_Layers\\\\High_Resolution_Layer(HRL)_Forest_Type\\\\HRL_Forest_Type(FTY)_2015\\\\Data\\\\data-details\\\\raster\\\\FTY_2015_100m\\\\FTY_2015_100m_eu_03035_d02_E50N40.zip',\n",
       " 'resolution': '100 m',\n",
       " 'size': '8 MB',\n",
       " 'source': 'EEA',\n",
       " 'title': '',\n",
       " 'type': 'Raster',\n",
       " 'version': 'd02',\n",
       " 'year': ''}"
      ]
     },
     "metadata": {},
     "output_type": "display_data"
    },
    {
     "name": "stdout",
     "output_type": "stream",
     "text": [
      "\n",
      "\n",
      "\n",
      "Download option for \"Forest Type 2015 (raster 20 m and 100 m), Europe, 3-yearly\":\n"
     ]
    },
    {
     "data": {
      "text/plain": [
       "{'@id': 'e6882d29-8506-4c25-a482-20f1f1cb4b34',\n",
       " 'area': 'E50N50',\n",
       " 'file': 'FTY_2015_100m_eu_03035_d02_E50N50',\n",
       " 'format': 'Geotiff',\n",
       " 'path': 'H:\\\\High_Resolution_Layers\\\\High_Resolution_Layers\\\\High_Resolution_Layer(HRL)_Forest_Type\\\\HRL_Forest_Type(FTY)_2015\\\\Data\\\\data-details\\\\raster\\\\FTY_2015_100m\\\\FTY_2015_100m_eu_03035_d02_E50N50.zip',\n",
       " 'resolution': '100 m',\n",
       " 'size': '1 MB',\n",
       " 'source': 'EEA',\n",
       " 'title': '',\n",
       " 'type': 'Raster',\n",
       " 'version': 'd02',\n",
       " 'year': ''}"
      ]
     },
     "metadata": {},
     "output_type": "display_data"
    },
    {
     "name": "stdout",
     "output_type": "stream",
     "text": [
      "\n",
      "\n",
      "\n",
      "Download option for \"Forest Type 2015 (raster 20 m and 100 m), Europe, 3-yearly\":\n"
     ]
    },
    {
     "data": {
      "text/plain": [
       "{'@id': 'a2ac4e3e-b7af-4f48-91a1-872660799705',\n",
       " 'area': 'E60N10',\n",
       " 'file': 'FTY_2015_100m_eu_03035_d02_E60N10',\n",
       " 'format': 'Geotiff',\n",
       " 'path': 'H:\\\\High_Resolution_Layers\\\\High_Resolution_Layers\\\\High_Resolution_Layer(HRL)_Forest_Type\\\\HRL_Forest_Type(FTY)_2015\\\\Data\\\\data-details\\\\raster\\\\FTY_2015_100m\\\\FTY_2015_100m_eu_03035_d02_E60N10.zip',\n",
       " 'resolution': '100 m',\n",
       " 'size': '2 MB',\n",
       " 'source': 'EEA',\n",
       " 'title': '',\n",
       " 'type': 'Raster',\n",
       " 'version': 'd02',\n",
       " 'year': ''}"
      ]
     },
     "metadata": {},
     "output_type": "display_data"
    },
    {
     "name": "stdout",
     "output_type": "stream",
     "text": [
      "\n",
      "\n",
      "\n",
      "Download option for \"Forest Type 2015 (raster 20 m and 100 m), Europe, 3-yearly\":\n"
     ]
    },
    {
     "data": {
      "text/plain": [
       "{'@id': 'fa397078-81df-4498-89d3-85de423c8aca',\n",
       " 'area': 'E60N20',\n",
       " 'file': 'FTY_2015_100m_eu_03035_d02_E60N20',\n",
       " 'format': 'Geotiff',\n",
       " 'path': 'H:\\\\High_Resolution_Layers\\\\High_Resolution_Layers\\\\High_Resolution_Layer(HRL)_Forest_Type\\\\HRL_Forest_Type(FTY)_2015\\\\Data\\\\data-details\\\\raster\\\\FTY_2015_100m\\\\FTY_2015_100m_eu_03035_d02_E60N20.zip',\n",
       " 'resolution': '100 m',\n",
       " 'size': '5 MB',\n",
       " 'source': 'EEA',\n",
       " 'title': '',\n",
       " 'type': 'Raster',\n",
       " 'version': 'd02',\n",
       " 'year': ''}"
      ]
     },
     "metadata": {},
     "output_type": "display_data"
    },
    {
     "name": "stdout",
     "output_type": "stream",
     "text": [
      "\n",
      "\n",
      "\n",
      "Download option for \"Forest Type 2015 (raster 20 m and 100 m), Europe, 3-yearly\":\n"
     ]
    },
    {
     "data": {
      "text/plain": [
       "{'@id': '3e0f2949-6491-4bcd-b115-81a2ddc365e9',\n",
       " 'area': 'E70N20',\n",
       " 'file': 'FTY_2015_100m_eu_03035_d02_E70N20',\n",
       " 'format': 'Geotiff',\n",
       " 'path': 'H:\\\\High_Resolution_Layers\\\\High_Resolution_Layers\\\\High_Resolution_Layer(HRL)_Forest_Type\\\\HRL_Forest_Type(FTY)_2015\\\\Data\\\\data-details\\\\raster\\\\FTY_2015_100m\\\\FTY_2015_100m_eu_03035_d02_E70N20.zip',\n",
       " 'resolution': '100 m',\n",
       " 'size': '363 KB',\n",
       " 'source': 'EEA',\n",
       " 'title': '',\n",
       " 'type': 'Raster',\n",
       " 'version': 'd02',\n",
       " 'year': ''}"
      ]
     },
     "metadata": {},
     "output_type": "display_data"
    },
    {
     "name": "stdout",
     "output_type": "stream",
     "text": [
      "\n",
      "\n",
      "\n",
      "\n",
      "\n",
      "____________________________________________________________________________________________________\n",
      "Product information:\n",
      "\n",
      "\n",
      "   Product title: \"Forest Type 2012 (raster 20 m and 100 m), Europe, 3-yearly\"\n",
      "   UID: \"6606864bf28345438b7fc091ddb0a445\"\n",
      "   Product link: https://land.copernicus.eu/api/en/products/high-resolution-layer-forests-and-tree-cover/forest-type-2012\n",
      "\n",
      "\n",
      "Download option for \"Forest Type 2012 (raster 20 m and 100 m), Europe, 3-yearly\":\n"
     ]
    },
    {
     "data": {
      "text/plain": [
       "{'@id': 'b29631a1-ae8c-42f9-8206-f10bb752ee52',\n",
       " 'area': 'Europe',\n",
       " 'file': 'FTY_2012_100m_eu_03035_d02_Full',\n",
       " 'format': 'Geotiff',\n",
       " 'path': 'H:\\\\High_Resolution_Layers\\\\High_Resolution_Layers\\\\High_Resolution_Layer(HRL)_Forest_Type\\\\HRL_Forest_Type(FTY)_2012\\\\Data\\\\data-details\\\\raster\\\\FTY_2012_100m\\\\FTY_2012_100m_eu_03035_d02_Full.zip',\n",
       " 'resolution': '100 m',\n",
       " 'size': '103 MB',\n",
       " 'source': 'EEA',\n",
       " 'title': '',\n",
       " 'type': 'Raster',\n",
       " 'version': 'd02',\n",
       " 'year': ''}"
      ]
     },
     "metadata": {},
     "output_type": "display_data"
    },
    {
     "name": "stdout",
     "output_type": "stream",
     "text": [
      "\n",
      "\n",
      "\n",
      "Download option for \"Forest Type 2012 (raster 20 m and 100 m), Europe, 3-yearly\":\n"
     ]
    },
    {
     "data": {
      "text/plain": [
       "{'@id': '64afc17c-c33a-4821-b485-be7b7585d01d',\n",
       " 'area': 'Europe',\n",
       " 'file': 'FTY_2012_020m_eu_03035_d02_Full',\n",
       " 'format': 'Geotiff',\n",
       " 'path': 'H:\\\\High_Resolution_Layers\\\\High_Resolution_Layers\\\\High_Resolution_Layer(HRL)_Forest_Type\\\\HRL_Forest_Type(FTY)_2012\\\\Data\\\\data-details\\\\raster\\\\FTY_2012_020m\\\\FTY_2012_020m_eu_03035_d02_Full.zip',\n",
       " 'resolution': '20 m',\n",
       " 'size': '1 GB',\n",
       " 'source': 'EEA',\n",
       " 'title': '',\n",
       " 'type': 'Raster',\n",
       " 'version': 'd02',\n",
       " 'year': ''}"
      ]
     },
     "metadata": {},
     "output_type": "display_data"
    },
    {
     "name": "stdout",
     "output_type": "stream",
     "text": [
      "\n",
      "\n",
      "\n",
      "Download option for \"Forest Type 2012 (raster 20 m and 100 m), Europe, 3-yearly\":\n"
     ]
    },
    {
     "data": {
      "text/plain": [
       "{'@id': 'b4f12124-8bbd-4588-adb1-7e13357bbb46',\n",
       " 'area': 'E00N20',\n",
       " 'file': 'FTY_2012_020m_eu_03035_d02_E00N20',\n",
       " 'format': 'Geotiff',\n",
       " 'path': 'H:\\\\High_Resolution_Layers\\\\High_Resolution_Layers\\\\High_Resolution_Layer(HRL)_Forest_Type\\\\HRL_Forest_Type(FTY)_2012\\\\Data\\\\data-details\\\\raster\\\\FTY_2012_020m\\\\FTY_2012_020m_eu_03035_d02_E00N20.zip',\n",
       " 'resolution': '20 m',\n",
       " 'size': '242 KB',\n",
       " 'source': 'EEA',\n",
       " 'title': '',\n",
       " 'type': 'Raster',\n",
       " 'version': 'd02',\n",
       " 'year': ''}"
      ]
     },
     "metadata": {},
     "output_type": "display_data"
    },
    {
     "name": "stdout",
     "output_type": "stream",
     "text": [
      "\n",
      "\n",
      "\n",
      "Download option for \"Forest Type 2012 (raster 20 m and 100 m), Europe, 3-yearly\":\n"
     ]
    },
    {
     "data": {
      "text/plain": [
       "{'@id': 'fed0d24b-50f1-4cf7-a0c6-992dc87e1713',\n",
       " 'area': 'E10N00',\n",
       " 'file': 'FTY_2012_020m_eu_03035_d02_E10N00',\n",
       " 'format': 'Geotiff',\n",
       " 'path': 'H:\\\\High_Resolution_Layers\\\\High_Resolution_Layers\\\\High_Resolution_Layer(HRL)_Forest_Type\\\\HRL_Forest_Type(FTY)_2012\\\\Data\\\\data-details\\\\raster\\\\FTY_2012_020m\\\\FTY_2012_020m_eu_03035_d02_E10N00.zip',\n",
       " 'resolution': '20 m',\n",
       " 'size': '415 KB',\n",
       " 'source': 'EEA',\n",
       " 'title': '',\n",
       " 'type': 'Raster',\n",
       " 'version': 'd02',\n",
       " 'year': ''}"
      ]
     },
     "metadata": {},
     "output_type": "display_data"
    },
    {
     "name": "stdout",
     "output_type": "stream",
     "text": [
      "\n",
      "\n",
      "\n",
      "Download option for \"Forest Type 2012 (raster 20 m and 100 m), Europe, 3-yearly\":\n"
     ]
    },
    {
     "data": {
      "text/plain": [
       "{'@id': '037d5066-af29-4d4b-840f-c6be04c5bc4a',\n",
       " 'area': 'E10N10',\n",
       " 'file': 'FTY_2012_020m_eu_03035_d02_E10N10',\n",
       " 'format': 'Geotiff',\n",
       " 'path': 'H:\\\\High_Resolution_Layers\\\\High_Resolution_Layers\\\\High_Resolution_Layer(HRL)_Forest_Type\\\\HRL_Forest_Type(FTY)_2012\\\\Data\\\\data-details\\\\raster\\\\FTY_2012_020m\\\\FTY_2012_020m_eu_03035_d02_E10N10.zip',\n",
       " 'resolution': '20 m',\n",
       " 'size': '2 MB',\n",
       " 'source': 'EEA',\n",
       " 'title': '',\n",
       " 'type': 'Raster',\n",
       " 'version': 'd02',\n",
       " 'year': ''}"
      ]
     },
     "metadata": {},
     "output_type": "display_data"
    },
    {
     "name": "stdout",
     "output_type": "stream",
     "text": [
      "\n",
      "\n",
      "\n",
      "Download option for \"Forest Type 2012 (raster 20 m and 100 m), Europe, 3-yearly\":\n"
     ]
    },
    {
     "data": {
      "text/plain": [
       "{'@id': '1afef35a-d9e9-4c95-8963-6f774e874947',\n",
       " 'area': 'E10N20',\n",
       " 'file': 'FTY_2012_020m_eu_03035_d02_E10N20',\n",
       " 'format': 'Geotiff',\n",
       " 'path': 'H:\\\\High_Resolution_Layers\\\\High_Resolution_Layers\\\\High_Resolution_Layer(HRL)_Forest_Type\\\\HRL_Forest_Type(FTY)_2012\\\\Data\\\\data-details\\\\raster\\\\FTY_2012_020m\\\\FTY_2012_020m_eu_03035_d02_E10N20.zip',\n",
       " 'resolution': '20 m',\n",
       " 'size': '2 MB',\n",
       " 'source': 'EEA',\n",
       " 'title': '',\n",
       " 'type': 'Raster',\n",
       " 'version': 'd02',\n",
       " 'year': ''}"
      ]
     },
     "metadata": {},
     "output_type": "display_data"
    },
    {
     "name": "stdout",
     "output_type": "stream",
     "text": [
      "\n",
      "\n",
      "\n",
      "Download option for \"Forest Type 2012 (raster 20 m and 100 m), Europe, 3-yearly\":\n"
     ]
    },
    {
     "data": {
      "text/plain": [
       "{'@id': '89344d6f-7892-48fc-a580-d6f6482895d4',\n",
       " 'area': 'E20N10',\n",
       " 'file': 'FTY_2012_020m_eu_03035_d02_E20N10',\n",
       " 'format': 'Geotiff',\n",
       " 'path': 'H:\\\\High_Resolution_Layers\\\\High_Resolution_Layers\\\\High_Resolution_Layer(HRL)_Forest_Type\\\\HRL_Forest_Type(FTY)_2012\\\\Data\\\\data-details\\\\raster\\\\FTY_2012_020m\\\\FTY_2012_020m_eu_03035_d02_E20N10.zip',\n",
       " 'resolution': '20 m',\n",
       " 'size': '24 MB',\n",
       " 'source': 'EEA',\n",
       " 'title': '',\n",
       " 'type': 'Raster',\n",
       " 'version': 'd02',\n",
       " 'year': ''}"
      ]
     },
     "metadata": {},
     "output_type": "display_data"
    },
    {
     "name": "stdout",
     "output_type": "stream",
     "text": [
      "\n",
      "\n",
      "\n",
      "Download option for \"Forest Type 2012 (raster 20 m and 100 m), Europe, 3-yearly\":\n"
     ]
    },
    {
     "data": {
      "text/plain": [
       "{'@id': '84a8a6f0-9cfc-478d-a0a2-116485096326',\n",
       " 'area': 'E20N20',\n",
       " 'file': 'FTY_2012_020m_eu_03035_d02_E20N20',\n",
       " 'format': 'Geotiff',\n",
       " 'path': 'H:\\\\High_Resolution_Layers\\\\High_Resolution_Layers\\\\High_Resolution_Layer(HRL)_Forest_Type\\\\HRL_Forest_Type(FTY)_2012\\\\Data\\\\data-details\\\\raster\\\\FTY_2012_020m\\\\FTY_2012_020m_eu_03035_d02_E20N20.zip',\n",
       " 'resolution': '20 m',\n",
       " 'size': '34 MB',\n",
       " 'source': 'EEA',\n",
       " 'title': '',\n",
       " 'type': 'Raster',\n",
       " 'version': 'd02',\n",
       " 'year': ''}"
      ]
     },
     "metadata": {},
     "output_type": "display_data"
    },
    {
     "name": "stdout",
     "output_type": "stream",
     "text": [
      "\n",
      "\n",
      "\n",
      "Download option for \"Forest Type 2012 (raster 20 m and 100 m), Europe, 3-yearly\":\n"
     ]
    },
    {
     "data": {
      "text/plain": [
       "{'@id': 'ddf07e67-9cbd-4287-871a-ab1b4ca7a0ac',\n",
       " 'area': 'E20N30',\n",
       " 'file': 'FTY_2012_020m_eu_03035_d02_E20N30',\n",
       " 'format': 'Geotiff',\n",
       " 'path': 'H:\\\\High_Resolution_Layers\\\\High_Resolution_Layers\\\\High_Resolution_Layer(HRL)_Forest_Type\\\\HRL_Forest_Type(FTY)_2012\\\\Data\\\\data-details\\\\raster\\\\FTY_2012_020m\\\\FTY_2012_020m_eu_03035_d02_E20N30.zip',\n",
       " 'resolution': '20 m',\n",
       " 'size': '2 MB',\n",
       " 'source': 'EEA',\n",
       " 'title': '',\n",
       " 'type': 'Raster',\n",
       " 'version': 'd02',\n",
       " 'year': ''}"
      ]
     },
     "metadata": {},
     "output_type": "display_data"
    },
    {
     "name": "stdout",
     "output_type": "stream",
     "text": [
      "\n",
      "\n",
      "\n",
      "Download option for \"Forest Type 2012 (raster 20 m and 100 m), Europe, 3-yearly\":\n"
     ]
    },
    {
     "data": {
      "text/plain": [
       "{'@id': 'b937b083-3c39-4001-a83b-d41af76bcd58',\n",
       " 'area': 'E20N40',\n",
       " 'file': 'FTY_2012_020m_eu_03035_d02_E20N40',\n",
       " 'format': 'Geotiff',\n",
       " 'path': 'H:\\\\High_Resolution_Layers\\\\High_Resolution_Layers\\\\High_Resolution_Layer(HRL)_Forest_Type\\\\HRL_Forest_Type(FTY)_2012\\\\Data\\\\data-details\\\\raster\\\\FTY_2012_020m\\\\FTY_2012_020m_eu_03035_d02_E20N40.zip',\n",
       " 'resolution': '20 m',\n",
       " 'size': '2 MB',\n",
       " 'source': 'EEA',\n",
       " 'title': '',\n",
       " 'type': 'Raster',\n",
       " 'version': 'd02',\n",
       " 'year': ''}"
      ]
     },
     "metadata": {},
     "output_type": "display_data"
    },
    {
     "name": "stdout",
     "output_type": "stream",
     "text": [
      "\n",
      "\n",
      "\n",
      "Download option for \"Forest Type 2012 (raster 20 m and 100 m), Europe, 3-yearly\":\n"
     ]
    },
    {
     "data": {
      "text/plain": [
       "{'@id': 'e469c570-db30-4473-aef2-b4779f16f44b',\n",
       " 'area': 'E20N50',\n",
       " 'file': 'FTY_2012_020m_eu_03035_d02_E20N50',\n",
       " 'format': 'Geotiff',\n",
       " 'path': 'H:\\\\High_Resolution_Layers\\\\High_Resolution_Layers\\\\High_Resolution_Layer(HRL)_Forest_Type\\\\HRL_Forest_Type(FTY)_2012\\\\Data\\\\data-details\\\\raster\\\\FTY_2012_020m\\\\FTY_2012_020m_eu_03035_d02_E20N50.zip',\n",
       " 'resolution': '20 m',\n",
       " 'size': '1 MB',\n",
       " 'source': 'EEA',\n",
       " 'title': '',\n",
       " 'type': 'Raster',\n",
       " 'version': 'd02',\n",
       " 'year': ''}"
      ]
     },
     "metadata": {},
     "output_type": "display_data"
    },
    {
     "name": "stdout",
     "output_type": "stream",
     "text": [
      "\n",
      "\n",
      "\n",
      "Download option for \"Forest Type 2012 (raster 20 m and 100 m), Europe, 3-yearly\":\n"
     ]
    },
    {
     "data": {
      "text/plain": [
       "{'@id': '503caeac-7d56-46f2-9233-371058be8d2a',\n",
       " 'area': 'E30N10',\n",
       " 'file': 'FTY_2012_020m_eu_03035_d02_E30N10',\n",
       " 'format': 'Geotiff',\n",
       " 'path': 'H:\\\\High_Resolution_Layers\\\\High_Resolution_Layers\\\\High_Resolution_Layer(HRL)_Forest_Type\\\\HRL_Forest_Type(FTY)_2012\\\\Data\\\\data-details\\\\raster\\\\FTY_2012_020m\\\\FTY_2012_020m_eu_03035_d02_E30N10.zip',\n",
       " 'resolution': '20 m',\n",
       " 'size': '40 MB',\n",
       " 'source': 'EEA',\n",
       " 'title': '',\n",
       " 'type': 'Raster',\n",
       " 'version': 'd02',\n",
       " 'year': ''}"
      ]
     },
     "metadata": {},
     "output_type": "display_data"
    },
    {
     "name": "stdout",
     "output_type": "stream",
     "text": [
      "\n",
      "\n",
      "\n",
      "Download option for \"Forest Type 2012 (raster 20 m and 100 m), Europe, 3-yearly\":\n"
     ]
    },
    {
     "data": {
      "text/plain": [
       "{'@id': '5455ccd0-67fb-4405-8c78-148775b49629',\n",
       " 'area': 'E30N20',\n",
       " 'file': 'FTY_2012_020m_eu_03035_d02_E30N20',\n",
       " 'format': 'Geotiff',\n",
       " 'path': 'H:\\\\High_Resolution_Layers\\\\High_Resolution_Layers\\\\High_Resolution_Layer(HRL)_Forest_Type\\\\HRL_Forest_Type(FTY)_2012\\\\Data\\\\data-details\\\\raster\\\\FTY_2012_020m\\\\FTY_2012_020m_eu_03035_d02_E30N20.zip',\n",
       " 'resolution': '20 m',\n",
       " 'size': '128 MB',\n",
       " 'source': 'EEA',\n",
       " 'title': '',\n",
       " 'type': 'Raster',\n",
       " 'version': 'd02',\n",
       " 'year': ''}"
      ]
     },
     "metadata": {},
     "output_type": "display_data"
    },
    {
     "name": "stdout",
     "output_type": "stream",
     "text": [
      "\n",
      "\n",
      "\n",
      "Download option for \"Forest Type 2012 (raster 20 m and 100 m), Europe, 3-yearly\":\n"
     ]
    },
    {
     "data": {
      "text/plain": [
       "{'@id': '43b5a7cd-09b6-4ebf-b9ed-8be616bd0306',\n",
       " 'area': 'E30N30',\n",
       " 'file': 'FTY_2012_020m_eu_03035_d02_E30N30',\n",
       " 'format': 'Geotiff',\n",
       " 'path': 'H:\\\\High_Resolution_Layers\\\\High_Resolution_Layers\\\\High_Resolution_Layer(HRL)_Forest_Type\\\\HRL_Forest_Type(FTY)_2012\\\\Data\\\\data-details\\\\raster\\\\FTY_2012_020m\\\\FTY_2012_020m_eu_03035_d02_E30N30.zip',\n",
       " 'resolution': '20 m',\n",
       " 'size': '48 MB',\n",
       " 'source': 'EEA',\n",
       " 'title': '',\n",
       " 'type': 'Raster',\n",
       " 'version': 'd02',\n",
       " 'year': ''}"
      ]
     },
     "metadata": {},
     "output_type": "display_data"
    },
    {
     "name": "stdout",
     "output_type": "stream",
     "text": [
      "\n",
      "\n",
      "\n",
      "Download option for \"Forest Type 2012 (raster 20 m and 100 m), Europe, 3-yearly\":\n"
     ]
    },
    {
     "data": {
      "text/plain": [
       "{'@id': '04e51a2b-dcb3-4ca8-84ef-8aa3427cf155',\n",
       " 'area': 'E30N40',\n",
       " 'file': 'FTY_2012_020m_eu_03035_d02_E30N40',\n",
       " 'format': 'Geotiff',\n",
       " 'path': 'H:\\\\High_Resolution_Layers\\\\High_Resolution_Layers\\\\High_Resolution_Layer(HRL)_Forest_Type\\\\HRL_Forest_Type(FTY)_2012\\\\Data\\\\data-details\\\\raster\\\\FTY_2012_020m\\\\FTY_2012_020m_eu_03035_d02_E30N40.zip',\n",
       " 'resolution': '20 m',\n",
       " 'size': '3 MB',\n",
       " 'source': 'EEA',\n",
       " 'title': '',\n",
       " 'type': 'Raster',\n",
       " 'version': 'd02',\n",
       " 'year': ''}"
      ]
     },
     "metadata": {},
     "output_type": "display_data"
    },
    {
     "name": "stdout",
     "output_type": "stream",
     "text": [
      "\n",
      "\n",
      "\n",
      "Download option for \"Forest Type 2012 (raster 20 m and 100 m), Europe, 3-yearly\":\n"
     ]
    },
    {
     "data": {
      "text/plain": [
       "{'@id': 'eeb76469-3d0b-4877-a849-2537cf456d2e',\n",
       " 'area': 'E30N50',\n",
       " 'file': 'FTY_2012_020m_eu_03035_d02_E30N50',\n",
       " 'format': 'Geotiff',\n",
       " 'path': 'H:\\\\High_Resolution_Layers\\\\High_Resolution_Layers\\\\High_Resolution_Layer(HRL)_Forest_Type\\\\HRL_Forest_Type(FTY)_2012\\\\Data\\\\data-details\\\\raster\\\\FTY_2012_020m\\\\FTY_2012_020m_eu_03035_d02_E30N50.zip',\n",
       " 'resolution': '20 m',\n",
       " 'size': '1 MB',\n",
       " 'source': 'EEA',\n",
       " 'title': '',\n",
       " 'type': 'Raster',\n",
       " 'version': 'd02',\n",
       " 'year': ''}"
      ]
     },
     "metadata": {},
     "output_type": "display_data"
    },
    {
     "name": "stdout",
     "output_type": "stream",
     "text": [
      "\n",
      "\n",
      "\n",
      "Download option for \"Forest Type 2012 (raster 20 m and 100 m), Europe, 3-yearly\":\n"
     ]
    },
    {
     "data": {
      "text/plain": [
       "{'@id': 'e6c5ee2e-1344-421f-84af-cb03ad6dd85d',\n",
       " 'area': 'E40N10',\n",
       " 'file': 'FTY_2012_020m_eu_03035_d02_E40N10',\n",
       " 'format': 'Geotiff',\n",
       " 'path': 'H:\\\\High_Resolution_Layers\\\\High_Resolution_Layers\\\\High_Resolution_Layer(HRL)_Forest_Type\\\\HRL_Forest_Type(FTY)_2012\\\\Data\\\\data-details\\\\raster\\\\FTY_2012_020m\\\\FTY_2012_020m_eu_03035_d02_E40N10.zip',\n",
       " 'resolution': '20 m',\n",
       " 'size': '20 MB',\n",
       " 'source': 'EEA',\n",
       " 'title': '',\n",
       " 'type': 'Raster',\n",
       " 'version': 'd02',\n",
       " 'year': ''}"
      ]
     },
     "metadata": {},
     "output_type": "display_data"
    },
    {
     "name": "stdout",
     "output_type": "stream",
     "text": [
      "\n",
      "\n",
      "\n",
      "Download option for \"Forest Type 2012 (raster 20 m and 100 m), Europe, 3-yearly\":\n"
     ]
    },
    {
     "data": {
      "text/plain": [
       "{'@id': '53b9cb0c-4919-4494-987a-97eecdded405',\n",
       " 'area': 'E40N20',\n",
       " 'file': 'FTY_2012_020m_eu_03035_d02_E40N20',\n",
       " 'format': 'Geotiff',\n",
       " 'path': 'H:\\\\High_Resolution_Layers\\\\High_Resolution_Layers\\\\High_Resolution_Layer(HRL)_Forest_Type\\\\HRL_Forest_Type(FTY)_2012\\\\Data\\\\data-details\\\\raster\\\\FTY_2012_020m\\\\FTY_2012_020m_eu_03035_d02_E40N20.zip',\n",
       " 'resolution': '20 m',\n",
       " 'size': '174 MB',\n",
       " 'source': 'EEA',\n",
       " 'title': '',\n",
       " 'type': 'Raster',\n",
       " 'version': 'd02',\n",
       " 'year': ''}"
      ]
     },
     "metadata": {},
     "output_type": "display_data"
    },
    {
     "name": "stdout",
     "output_type": "stream",
     "text": [
      "\n",
      "\n",
      "\n",
      "Download option for \"Forest Type 2012 (raster 20 m and 100 m), Europe, 3-yearly\":\n"
     ]
    },
    {
     "data": {
      "text/plain": [
       "{'@id': '51d57cda-1440-458a-8e6d-9c0221475a6b',\n",
       " 'area': 'E40N30',\n",
       " 'file': 'FTY_2012_020m_eu_03035_d02_E40N30',\n",
       " 'format': 'Geotiff',\n",
       " 'path': 'H:\\\\High_Resolution_Layers\\\\High_Resolution_Layers\\\\High_Resolution_Layer(HRL)_Forest_Type\\\\HRL_Forest_Type(FTY)_2012\\\\Data\\\\data-details\\\\raster\\\\FTY_2012_020m\\\\FTY_2012_020m_eu_03035_d02_E40N30.zip',\n",
       " 'resolution': '20 m',\n",
       " 'size': '143 MB',\n",
       " 'source': 'EEA',\n",
       " 'title': '',\n",
       " 'type': 'Raster',\n",
       " 'version': 'd02',\n",
       " 'year': ''}"
      ]
     },
     "metadata": {},
     "output_type": "display_data"
    },
    {
     "name": "stdout",
     "output_type": "stream",
     "text": [
      "\n",
      "\n",
      "\n",
      "Download option for \"Forest Type 2012 (raster 20 m and 100 m), Europe, 3-yearly\":\n"
     ]
    },
    {
     "data": {
      "text/plain": [
       "{'@id': 'b1270c8a-ae30-4454-a530-21cadca09a05',\n",
       " 'area': 'E40N40',\n",
       " 'file': 'FTY_2012_020m_eu_03035_d02_E40N40',\n",
       " 'format': 'Geotiff',\n",
       " 'path': 'H:\\\\High_Resolution_Layers\\\\High_Resolution_Layers\\\\High_Resolution_Layer(HRL)_Forest_Type\\\\HRL_Forest_Type(FTY)_2012\\\\Data\\\\data-details\\\\raster\\\\FTY_2012_020m\\\\FTY_2012_020m_eu_03035_d02_E40N40.zip',\n",
       " 'resolution': '20 m',\n",
       " 'size': '185 MB',\n",
       " 'source': 'EEA',\n",
       " 'title': '',\n",
       " 'type': 'Raster',\n",
       " 'version': 'd02',\n",
       " 'year': ''}"
      ]
     },
     "metadata": {},
     "output_type": "display_data"
    },
    {
     "name": "stdout",
     "output_type": "stream",
     "text": [
      "\n",
      "\n",
      "\n",
      "Download option for \"Forest Type 2012 (raster 20 m and 100 m), Europe, 3-yearly\":\n"
     ]
    },
    {
     "data": {
      "text/plain": [
       "{'@id': '61656790-75bc-4310-9113-ac1a42a7841f',\n",
       " 'area': 'E40N50',\n",
       " 'file': 'FTY_2012_020m_eu_03035_d02_E40N50',\n",
       " 'format': 'Geotiff',\n",
       " 'path': 'H:\\\\High_Resolution_Layers\\\\High_Resolution_Layers\\\\High_Resolution_Layer(HRL)_Forest_Type\\\\HRL_Forest_Type(FTY)_2012\\\\Data\\\\data-details\\\\raster\\\\FTY_2012_020m\\\\FTY_2012_020m_eu_03035_d02_E40N50.zip',\n",
       " 'resolution': '20 m',\n",
       " 'size': '27 MB',\n",
       " 'source': 'EEA',\n",
       " 'title': '',\n",
       " 'type': 'Raster',\n",
       " 'version': 'd02',\n",
       " 'year': ''}"
      ]
     },
     "metadata": {},
     "output_type": "display_data"
    },
    {
     "name": "stdout",
     "output_type": "stream",
     "text": [
      "\n",
      "\n",
      "\n",
      "Download option for \"Forest Type 2012 (raster 20 m and 100 m), Europe, 3-yearly\":\n"
     ]
    },
    {
     "data": {
      "text/plain": [
       "{'@id': '06c3a81e-2354-48a4-899f-e080f58dd13e',\n",
       " 'area': 'E50N10',\n",
       " 'file': 'FTY_2012_020m_eu_03035_d02_E50N10',\n",
       " 'format': 'Geotiff',\n",
       " 'path': 'H:\\\\High_Resolution_Layers\\\\High_Resolution_Layers\\\\High_Resolution_Layer(HRL)_Forest_Type\\\\HRL_Forest_Type(FTY)_2012\\\\Data\\\\data-details\\\\raster\\\\FTY_2012_020m\\\\FTY_2012_020m_eu_03035_d02_E50N10.zip',\n",
       " 'resolution': '20 m',\n",
       " 'size': '44 MB',\n",
       " 'source': 'EEA',\n",
       " 'title': '',\n",
       " 'type': 'Raster',\n",
       " 'version': 'd02',\n",
       " 'year': ''}"
      ]
     },
     "metadata": {},
     "output_type": "display_data"
    },
    {
     "name": "stdout",
     "output_type": "stream",
     "text": [
      "\n",
      "\n",
      "\n",
      "Download option for \"Forest Type 2012 (raster 20 m and 100 m), Europe, 3-yearly\":\n"
     ]
    },
    {
     "data": {
      "text/plain": [
       "{'@id': 'b86baf97-67a3-4dc6-810c-912e56f8cf2f',\n",
       " 'area': 'E50N20',\n",
       " 'file': 'FTY_2012_020m_eu_03035_d02_E50N20',\n",
       " 'format': 'Geotiff',\n",
       " 'path': 'H:\\\\High_Resolution_Layers\\\\High_Resolution_Layers\\\\High_Resolution_Layer(HRL)_Forest_Type\\\\HRL_Forest_Type(FTY)_2012\\\\Data\\\\data-details\\\\raster\\\\FTY_2012_020m\\\\FTY_2012_020m_eu_03035_d02_E50N20.zip',\n",
       " 'resolution': '20 m',\n",
       " 'size': '119 MB',\n",
       " 'source': 'EEA',\n",
       " 'title': '',\n",
       " 'type': 'Raster',\n",
       " 'version': 'd02',\n",
       " 'year': ''}"
      ]
     },
     "metadata": {},
     "output_type": "display_data"
    },
    {
     "name": "stdout",
     "output_type": "stream",
     "text": [
      "\n",
      "\n",
      "\n",
      "Download option for \"Forest Type 2012 (raster 20 m and 100 m), Europe, 3-yearly\":\n"
     ]
    },
    {
     "data": {
      "text/plain": [
       "{'@id': 'ae0edd91-f408-4433-97a0-403cccb1c4f5',\n",
       " 'area': 'E50N30',\n",
       " 'file': 'FTY_2012_020m_eu_03035_d02_E50N30',\n",
       " 'format': 'Geotiff',\n",
       " 'path': 'H:\\\\High_Resolution_Layers\\\\High_Resolution_Layers\\\\High_Resolution_Layer(HRL)_Forest_Type\\\\HRL_Forest_Type(FTY)_2012\\\\Data\\\\data-details\\\\raster\\\\FTY_2012_020m\\\\FTY_2012_020m_eu_03035_d02_E50N30.zip',\n",
       " 'resolution': '20 m',\n",
       " 'size': '68 MB',\n",
       " 'source': 'EEA',\n",
       " 'title': '',\n",
       " 'type': 'Raster',\n",
       " 'version': 'd02',\n",
       " 'year': ''}"
      ]
     },
     "metadata": {},
     "output_type": "display_data"
    },
    {
     "name": "stdout",
     "output_type": "stream",
     "text": [
      "\n",
      "\n",
      "\n",
      "Download option for \"Forest Type 2012 (raster 20 m and 100 m), Europe, 3-yearly\":\n"
     ]
    },
    {
     "data": {
      "text/plain": [
       "{'@id': '2d4ffc4c-4f7e-46c4-9200-f73427aa845c',\n",
       " 'area': 'E50N40',\n",
       " 'file': 'FTY_2012_020m_eu_03035_d02_E50N40',\n",
       " 'format': 'Geotiff',\n",
       " 'path': 'H:\\\\High_Resolution_Layers\\\\High_Resolution_Layers\\\\High_Resolution_Layer(HRL)_Forest_Type\\\\HRL_Forest_Type(FTY)_2012\\\\Data\\\\data-details\\\\raster\\\\FTY_2012_020m\\\\FTY_2012_020m_eu_03035_d02_E50N40.zip',\n",
       " 'resolution': '20 m',\n",
       " 'size': '88 MB',\n",
       " 'source': 'EEA',\n",
       " 'title': '',\n",
       " 'type': 'Raster',\n",
       " 'version': 'd02',\n",
       " 'year': ''}"
      ]
     },
     "metadata": {},
     "output_type": "display_data"
    },
    {
     "name": "stdout",
     "output_type": "stream",
     "text": [
      "\n",
      "\n",
      "\n",
      "Download option for \"Forest Type 2012 (raster 20 m and 100 m), Europe, 3-yearly\":\n"
     ]
    },
    {
     "data": {
      "text/plain": [
       "{'@id': 'ccc2a62b-8856-4e7c-9fcb-e79e6af6c68d',\n",
       " 'area': 'E50N50',\n",
       " 'file': 'FTY_2012_020m_eu_03035_d02_E50N50',\n",
       " 'format': 'Geotiff',\n",
       " 'path': 'H:\\\\High_Resolution_Layers\\\\High_Resolution_Layers\\\\High_Resolution_Layer(HRL)_Forest_Type\\\\HRL_Forest_Type(FTY)_2012\\\\Data\\\\data-details\\\\raster\\\\FTY_2012_020m\\\\FTY_2012_020m_eu_03035_d02_E50N50.zip',\n",
       " 'resolution': '20 m',\n",
       " 'size': '10 MB',\n",
       " 'source': 'EEA',\n",
       " 'title': '',\n",
       " 'type': 'Raster',\n",
       " 'version': 'd02',\n",
       " 'year': ''}"
      ]
     },
     "metadata": {},
     "output_type": "display_data"
    },
    {
     "name": "stdout",
     "output_type": "stream",
     "text": [
      "\n",
      "\n",
      "\n",
      "Download option for \"Forest Type 2012 (raster 20 m and 100 m), Europe, 3-yearly\":\n"
     ]
    },
    {
     "data": {
      "text/plain": [
       "{'@id': 'e8794728-d102-426f-94ab-057b7f27a464',\n",
       " 'area': 'E60N10',\n",
       " 'file': 'FTY_2012_020m_eu_03035_d02_E60N10',\n",
       " 'format': 'Geotiff',\n",
       " 'path': 'H:\\\\High_Resolution_Layers\\\\High_Resolution_Layers\\\\High_Resolution_Layer(HRL)_Forest_Type\\\\HRL_Forest_Type(FTY)_2012\\\\Data\\\\data-details\\\\raster\\\\FTY_2012_020m\\\\FTY_2012_020m_eu_03035_d02_E60N10.zip',\n",
       " 'resolution': '20 m',\n",
       " 'size': '31 MB',\n",
       " 'source': 'EEA',\n",
       " 'title': '',\n",
       " 'type': 'Raster',\n",
       " 'version': 'd02',\n",
       " 'year': ''}"
      ]
     },
     "metadata": {},
     "output_type": "display_data"
    },
    {
     "name": "stdout",
     "output_type": "stream",
     "text": [
      "\n",
      "\n",
      "\n",
      "Download option for \"Forest Type 2012 (raster 20 m and 100 m), Europe, 3-yearly\":\n"
     ]
    },
    {
     "data": {
      "text/plain": [
       "{'@id': '1a27e1d4-6038-4b5b-a67d-8e92abe87f95',\n",
       " 'area': 'E60N20',\n",
       " 'file': 'FTY_2012_020m_eu_03035_d02_E60N20',\n",
       " 'format': 'Geotiff',\n",
       " 'path': 'H:\\\\High_Resolution_Layers\\\\High_Resolution_Layers\\\\High_Resolution_Layer(HRL)_Forest_Type\\\\HRL_Forest_Type(FTY)_2012\\\\Data\\\\data-details\\\\raster\\\\FTY_2012_020m\\\\FTY_2012_020m_eu_03035_d02_E60N20.zip',\n",
       " 'resolution': '20 m',\n",
       " 'size': '60 MB',\n",
       " 'source': 'EEA',\n",
       " 'title': '',\n",
       " 'type': 'Raster',\n",
       " 'version': 'd02',\n",
       " 'year': ''}"
      ]
     },
     "metadata": {},
     "output_type": "display_data"
    },
    {
     "name": "stdout",
     "output_type": "stream",
     "text": [
      "\n",
      "\n",
      "\n",
      "Download option for \"Forest Type 2012 (raster 20 m and 100 m), Europe, 3-yearly\":\n"
     ]
    },
    {
     "data": {
      "text/plain": [
       "{'@id': 'ba6ee741-545d-4258-a307-35c63e368329',\n",
       " 'area': 'E70N20',\n",
       " 'file': 'FTY_2012_020m_eu_03035_d02_E70N20',\n",
       " 'format': 'Geotiff',\n",
       " 'path': 'H:\\\\High_Resolution_Layers\\\\High_Resolution_Layers\\\\High_Resolution_Layer(HRL)_Forest_Type\\\\HRL_Forest_Type(FTY)_2012\\\\Data\\\\data-details\\\\raster\\\\FTY_2012_020m\\\\FTY_2012_020m_eu_03035_d02_E70N20.zip',\n",
       " 'resolution': '20 m',\n",
       " 'size': '5 MB',\n",
       " 'source': 'EEA',\n",
       " 'title': '',\n",
       " 'type': 'Raster',\n",
       " 'version': 'd02',\n",
       " 'year': ''}"
      ]
     },
     "metadata": {},
     "output_type": "display_data"
    },
    {
     "name": "stdout",
     "output_type": "stream",
     "text": [
      "\n",
      "\n",
      "\n",
      "Download option for \"Forest Type 2012 (raster 20 m and 100 m), Europe, 3-yearly\":\n"
     ]
    },
    {
     "data": {
      "text/plain": [
       "{'@id': 'c4260205-6462-40ca-b2a2-55755591ce79',\n",
       " 'area': 'E00N20',\n",
       " 'file': 'FTY_2012_100m_eu_03035_d02_E00N20',\n",
       " 'format': 'Geotiff',\n",
       " 'path': 'H:\\\\High_Resolution_Layers\\\\High_Resolution_Layers\\\\High_Resolution_Layer(HRL)_Forest_Type\\\\HRL_Forest_Type(FTY)_2012\\\\Data\\\\data-details\\\\raster\\\\FTY_2012_100m\\\\FTY_2012_100m_eu_03035_d02_E00N20.zip',\n",
       " 'resolution': '100 m',\n",
       " 'size': '48 KB',\n",
       " 'source': 'EEA',\n",
       " 'title': '',\n",
       " 'type': 'Raster',\n",
       " 'version': 'd02',\n",
       " 'year': ''}"
      ]
     },
     "metadata": {},
     "output_type": "display_data"
    },
    {
     "name": "stdout",
     "output_type": "stream",
     "text": [
      "\n",
      "\n",
      "\n",
      "Download option for \"Forest Type 2012 (raster 20 m and 100 m), Europe, 3-yearly\":\n"
     ]
    },
    {
     "data": {
      "text/plain": [
       "{'@id': 'c6b28807-528c-428c-8b61-bdf4878db196',\n",
       " 'area': 'E10N00',\n",
       " 'file': 'FTY_2012_100m_eu_03035_d02_E10N00',\n",
       " 'format': 'Geotiff',\n",
       " 'path': 'H:\\\\High_Resolution_Layers\\\\High_Resolution_Layers\\\\High_Resolution_Layer(HRL)_Forest_Type\\\\HRL_Forest_Type(FTY)_2012\\\\Data\\\\data-details\\\\raster\\\\FTY_2012_100m\\\\FTY_2012_100m_eu_03035_d02_E10N00.zip',\n",
       " 'resolution': '100 m',\n",
       " 'size': '68 KB',\n",
       " 'source': 'EEA',\n",
       " 'title': '',\n",
       " 'type': 'Raster',\n",
       " 'version': 'd02',\n",
       " 'year': ''}"
      ]
     },
     "metadata": {},
     "output_type": "display_data"
    },
    {
     "name": "stdout",
     "output_type": "stream",
     "text": [
      "\n",
      "\n",
      "\n",
      "Download option for \"Forest Type 2012 (raster 20 m and 100 m), Europe, 3-yearly\":\n"
     ]
    },
    {
     "data": {
      "text/plain": [
       "{'@id': 'f60e3820-c49c-43e1-ba33-548b2272831a',\n",
       " 'area': 'E10N10',\n",
       " 'file': 'FTY_2012_100m_eu_03035_d02_E10N10',\n",
       " 'format': 'Geotiff',\n",
       " 'path': 'H:\\\\High_Resolution_Layers\\\\High_Resolution_Layers\\\\High_Resolution_Layer(HRL)_Forest_Type\\\\HRL_Forest_Type(FTY)_2012\\\\Data\\\\data-details\\\\raster\\\\FTY_2012_100m\\\\FTY_2012_100m_eu_03035_d02_E10N10.zip',\n",
       " 'resolution': '100 m',\n",
       " 'size': '185 KB',\n",
       " 'source': 'EEA',\n",
       " 'title': '',\n",
       " 'type': 'Raster',\n",
       " 'version': 'd02',\n",
       " 'year': ''}"
      ]
     },
     "metadata": {},
     "output_type": "display_data"
    },
    {
     "name": "stdout",
     "output_type": "stream",
     "text": [
      "\n",
      "\n",
      "\n",
      "Download option for \"Forest Type 2012 (raster 20 m and 100 m), Europe, 3-yearly\":\n"
     ]
    },
    {
     "data": {
      "text/plain": [
       "{'@id': 'b83c3ffd-3f2c-4156-a9e2-e4177217aa61',\n",
       " 'area': 'E10N20',\n",
       " 'file': 'FTY_2012_100m_eu_03035_d02_E10N20',\n",
       " 'format': 'Geotiff',\n",
       " 'path': 'H:\\\\High_Resolution_Layers\\\\High_Resolution_Layers\\\\High_Resolution_Layer(HRL)_Forest_Type\\\\HRL_Forest_Type(FTY)_2012\\\\Data\\\\data-details\\\\raster\\\\FTY_2012_100m\\\\FTY_2012_100m_eu_03035_d02_E10N20.zip',\n",
       " 'resolution': '100 m',\n",
       " 'size': '165 KB',\n",
       " 'source': 'EEA',\n",
       " 'title': '',\n",
       " 'type': 'Raster',\n",
       " 'version': 'd02',\n",
       " 'year': ''}"
      ]
     },
     "metadata": {},
     "output_type": "display_data"
    },
    {
     "name": "stdout",
     "output_type": "stream",
     "text": [
      "\n",
      "\n",
      "\n",
      "Download option for \"Forest Type 2012 (raster 20 m and 100 m), Europe, 3-yearly\":\n"
     ]
    },
    {
     "data": {
      "text/plain": [
       "{'@id': 'ac1d1210-0c0e-4b1e-8fcd-e02599456d4c',\n",
       " 'area': 'E20N10',\n",
       " 'file': 'FTY_2012_100m_eu_03035_d02_E20N10',\n",
       " 'format': 'Geotiff',\n",
       " 'path': 'H:\\\\High_Resolution_Layers\\\\High_Resolution_Layers\\\\High_Resolution_Layer(HRL)_Forest_Type\\\\HRL_Forest_Type(FTY)_2012\\\\Data\\\\data-details\\\\raster\\\\FTY_2012_100m\\\\FTY_2012_100m_eu_03035_d02_E20N10.zip',\n",
       " 'resolution': '100 m',\n",
       " 'size': '2 MB',\n",
       " 'source': 'EEA',\n",
       " 'title': '',\n",
       " 'type': 'Raster',\n",
       " 'version': 'd02',\n",
       " 'year': ''}"
      ]
     },
     "metadata": {},
     "output_type": "display_data"
    },
    {
     "name": "stdout",
     "output_type": "stream",
     "text": [
      "\n",
      "\n",
      "\n",
      "Download option for \"Forest Type 2012 (raster 20 m and 100 m), Europe, 3-yearly\":\n"
     ]
    },
    {
     "data": {
      "text/plain": [
       "{'@id': '8a823452-a642-4c73-a4bc-f8e26fe37f63',\n",
       " 'area': 'E20N20',\n",
       " 'file': 'FTY_2012_100m_eu_03035_d02_E20N20',\n",
       " 'format': 'Geotiff',\n",
       " 'path': 'H:\\\\High_Resolution_Layers\\\\High_Resolution_Layers\\\\High_Resolution_Layer(HRL)_Forest_Type\\\\HRL_Forest_Type(FTY)_2012\\\\Data\\\\data-details\\\\raster\\\\FTY_2012_100m\\\\FTY_2012_100m_eu_03035_d02_E20N20.zip',\n",
       " 'resolution': '100 m',\n",
       " 'size': '3 MB',\n",
       " 'source': 'EEA',\n",
       " 'title': '',\n",
       " 'type': 'Raster',\n",
       " 'version': 'd02',\n",
       " 'year': ''}"
      ]
     },
     "metadata": {},
     "output_type": "display_data"
    },
    {
     "name": "stdout",
     "output_type": "stream",
     "text": [
      "\n",
      "\n",
      "\n",
      "Download option for \"Forest Type 2012 (raster 20 m and 100 m), Europe, 3-yearly\":\n"
     ]
    },
    {
     "data": {
      "text/plain": [
       "{'@id': 'cc3932a9-8719-4525-b130-6018e7725798',\n",
       " 'area': 'E20N30',\n",
       " 'file': 'FTY_2012_100m_eu_03035_d02_E20N30',\n",
       " 'format': 'Geotiff',\n",
       " 'path': 'H:\\\\High_Resolution_Layers\\\\High_Resolution_Layers\\\\High_Resolution_Layer(HRL)_Forest_Type\\\\HRL_Forest_Type(FTY)_2012\\\\Data\\\\data-details\\\\raster\\\\FTY_2012_100m\\\\FTY_2012_100m_eu_03035_d02_E20N30.zip',\n",
       " 'resolution': '100 m',\n",
       " 'size': '160 KB',\n",
       " 'source': 'EEA',\n",
       " 'title': '',\n",
       " 'type': 'Raster',\n",
       " 'version': 'd02',\n",
       " 'year': ''}"
      ]
     },
     "metadata": {},
     "output_type": "display_data"
    },
    {
     "name": "stdout",
     "output_type": "stream",
     "text": [
      "\n",
      "\n",
      "\n",
      "Download option for \"Forest Type 2012 (raster 20 m and 100 m), Europe, 3-yearly\":\n"
     ]
    },
    {
     "data": {
      "text/plain": [
       "{'@id': '47414d1a-3d1e-4deb-9e05-29b7cfc9bee8',\n",
       " 'area': 'E20N40',\n",
       " 'file': 'FTY_2012_100m_eu_03035_d02_E20N40',\n",
       " 'format': 'Geotiff',\n",
       " 'path': 'H:\\\\High_Resolution_Layers\\\\High_Resolution_Layers\\\\High_Resolution_Layer(HRL)_Forest_Type\\\\HRL_Forest_Type(FTY)_2012\\\\Data\\\\data-details\\\\raster\\\\FTY_2012_100m\\\\FTY_2012_100m_eu_03035_d02_E20N40.zip',\n",
       " 'resolution': '100 m',\n",
       " 'size': '167 KB',\n",
       " 'source': 'EEA',\n",
       " 'title': '',\n",
       " 'type': 'Raster',\n",
       " 'version': 'd02',\n",
       " 'year': ''}"
      ]
     },
     "metadata": {},
     "output_type": "display_data"
    },
    {
     "name": "stdout",
     "output_type": "stream",
     "text": [
      "\n",
      "\n",
      "\n",
      "Download option for \"Forest Type 2012 (raster 20 m and 100 m), Europe, 3-yearly\":\n"
     ]
    },
    {
     "data": {
      "text/plain": [
       "{'@id': 'e0f1d606-3a8a-4b57-b5dd-e2d618cadb1b',\n",
       " 'area': 'E20N50',\n",
       " 'file': 'FTY_2012_100m_eu_03035_d02_E20N50',\n",
       " 'format': 'Geotiff',\n",
       " 'path': 'H:\\\\High_Resolution_Layers\\\\High_Resolution_Layers\\\\High_Resolution_Layer(HRL)_Forest_Type\\\\HRL_Forest_Type(FTY)_2012\\\\Data\\\\data-details\\\\raster\\\\FTY_2012_100m\\\\FTY_2012_100m_eu_03035_d02_E20N50.zip',\n",
       " 'resolution': '100 m',\n",
       " 'size': '139 KB',\n",
       " 'source': 'EEA',\n",
       " 'title': '',\n",
       " 'type': 'Raster',\n",
       " 'version': 'd02',\n",
       " 'year': ''}"
      ]
     },
     "metadata": {},
     "output_type": "display_data"
    },
    {
     "name": "stdout",
     "output_type": "stream",
     "text": [
      "\n",
      "\n",
      "\n",
      "Download option for \"Forest Type 2012 (raster 20 m and 100 m), Europe, 3-yearly\":\n"
     ]
    },
    {
     "data": {
      "text/plain": [
       "{'@id': '2286b487-93ab-403e-a752-8be32f8ac72a',\n",
       " 'area': 'E30N10',\n",
       " 'file': 'FTY_2012_100m_eu_03035_d02_E30N10',\n",
       " 'format': 'Geotiff',\n",
       " 'path': 'H:\\\\High_Resolution_Layers\\\\High_Resolution_Layers\\\\High_Resolution_Layer(HRL)_Forest_Type\\\\HRL_Forest_Type(FTY)_2012\\\\Data\\\\data-details\\\\raster\\\\FTY_2012_100m\\\\FTY_2012_100m_eu_03035_d02_E30N10.zip',\n",
       " 'resolution': '100 m',\n",
       " 'size': '3 MB',\n",
       " 'source': 'EEA',\n",
       " 'title': '',\n",
       " 'type': 'Raster',\n",
       " 'version': 'd02',\n",
       " 'year': ''}"
      ]
     },
     "metadata": {},
     "output_type": "display_data"
    },
    {
     "name": "stdout",
     "output_type": "stream",
     "text": [
      "\n",
      "\n",
      "\n",
      "Download option for \"Forest Type 2012 (raster 20 m and 100 m), Europe, 3-yearly\":\n"
     ]
    },
    {
     "data": {
      "text/plain": [
       "{'@id': '8de8cb4c-1178-42b9-90c6-da8fdfed8474',\n",
       " 'area': 'E30N20',\n",
       " 'file': 'FTY_2012_100m_eu_03035_d02_E30N20',\n",
       " 'format': 'Geotiff',\n",
       " 'path': 'H:\\\\High_Resolution_Layers\\\\High_Resolution_Layers\\\\High_Resolution_Layer(HRL)_Forest_Type\\\\HRL_Forest_Type(FTY)_2012\\\\Data\\\\data-details\\\\raster\\\\FTY_2012_100m\\\\FTY_2012_100m_eu_03035_d02_E30N20.zip',\n",
       " 'resolution': '100 m',\n",
       " 'size': '10 MB',\n",
       " 'source': 'EEA',\n",
       " 'title': '',\n",
       " 'type': 'Raster',\n",
       " 'version': 'd02',\n",
       " 'year': ''}"
      ]
     },
     "metadata": {},
     "output_type": "display_data"
    },
    {
     "name": "stdout",
     "output_type": "stream",
     "text": [
      "\n",
      "\n",
      "\n",
      "Download option for \"Forest Type 2012 (raster 20 m and 100 m), Europe, 3-yearly\":\n"
     ]
    },
    {
     "data": {
      "text/plain": [
       "{'@id': '8d5c8356-e616-49f4-b376-e7260af7b835',\n",
       " 'area': 'E30N30',\n",
       " 'file': 'FTY_2012_100m_eu_03035_d02_E30N30',\n",
       " 'format': 'Geotiff',\n",
       " 'path': 'H:\\\\High_Resolution_Layers\\\\High_Resolution_Layers\\\\High_Resolution_Layer(HRL)_Forest_Type\\\\HRL_Forest_Type(FTY)_2012\\\\Data\\\\data-details\\\\raster\\\\FTY_2012_100m\\\\FTY_2012_100m_eu_03035_d02_E30N30.zip',\n",
       " 'resolution': '100 m',\n",
       " 'size': '4 MB',\n",
       " 'source': 'EEA',\n",
       " 'title': '',\n",
       " 'type': 'Raster',\n",
       " 'version': 'd02',\n",
       " 'year': ''}"
      ]
     },
     "metadata": {},
     "output_type": "display_data"
    },
    {
     "name": "stdout",
     "output_type": "stream",
     "text": [
      "\n",
      "\n",
      "\n",
      "Download option for \"Forest Type 2012 (raster 20 m and 100 m), Europe, 3-yearly\":\n"
     ]
    },
    {
     "data": {
      "text/plain": [
       "{'@id': 'af73ffa7-2c74-4748-b077-d3b5b1920c88',\n",
       " 'area': 'E30N40',\n",
       " 'file': 'FTY_2012_100m_eu_03035_d02_E30N40',\n",
       " 'format': 'Geotiff',\n",
       " 'path': 'H:\\\\High_Resolution_Layers\\\\High_Resolution_Layers\\\\High_Resolution_Layer(HRL)_Forest_Type\\\\HRL_Forest_Type(FTY)_2012\\\\Data\\\\data-details\\\\raster\\\\FTY_2012_100m\\\\FTY_2012_100m_eu_03035_d02_E30N40.zip',\n",
       " 'resolution': '100 m',\n",
       " 'size': '273 KB',\n",
       " 'source': 'EEA',\n",
       " 'title': '',\n",
       " 'type': 'Raster',\n",
       " 'version': 'd02',\n",
       " 'year': ''}"
      ]
     },
     "metadata": {},
     "output_type": "display_data"
    },
    {
     "name": "stdout",
     "output_type": "stream",
     "text": [
      "\n",
      "\n",
      "\n",
      "Download option for \"Forest Type 2012 (raster 20 m and 100 m), Europe, 3-yearly\":\n"
     ]
    },
    {
     "data": {
      "text/plain": [
       "{'@id': '4bf58aee-e9f4-47cd-bf1f-218f2ba9f409',\n",
       " 'area': 'E30N50',\n",
       " 'file': 'FTY_2012_100m_eu_03035_d02_E30N50',\n",
       " 'format': 'Geotiff',\n",
       " 'path': 'H:\\\\High_Resolution_Layers\\\\High_Resolution_Layers\\\\High_Resolution_Layer(HRL)_Forest_Type\\\\HRL_Forest_Type(FTY)_2012\\\\Data\\\\data-details\\\\raster\\\\FTY_2012_100m\\\\FTY_2012_100m_eu_03035_d02_E30N50.zip',\n",
       " 'resolution': '100 m',\n",
       " 'size': '99 KB',\n",
       " 'source': 'EEA',\n",
       " 'title': '',\n",
       " 'type': 'Raster',\n",
       " 'version': 'd02',\n",
       " 'year': ''}"
      ]
     },
     "metadata": {},
     "output_type": "display_data"
    },
    {
     "name": "stdout",
     "output_type": "stream",
     "text": [
      "\n",
      "\n",
      "\n",
      "Download option for \"Forest Type 2012 (raster 20 m and 100 m), Europe, 3-yearly\":\n"
     ]
    },
    {
     "data": {
      "text/plain": [
       "{'@id': '6be9b1d4-7b33-4812-9e56-ff088b7b9228',\n",
       " 'area': 'E40N10',\n",
       " 'file': 'FTY_2012_100m_eu_03035_d02_E40N10',\n",
       " 'format': 'Geotiff',\n",
       " 'path': 'H:\\\\High_Resolution_Layers\\\\High_Resolution_Layers\\\\High_Resolution_Layer(HRL)_Forest_Type\\\\HRL_Forest_Type(FTY)_2012\\\\Data\\\\data-details\\\\raster\\\\FTY_2012_100m\\\\FTY_2012_100m_eu_03035_d02_E40N10.zip',\n",
       " 'resolution': '100 m',\n",
       " 'size': '1 MB',\n",
       " 'source': 'EEA',\n",
       " 'title': '',\n",
       " 'type': 'Raster',\n",
       " 'version': 'd02',\n",
       " 'year': ''}"
      ]
     },
     "metadata": {},
     "output_type": "display_data"
    },
    {
     "name": "stdout",
     "output_type": "stream",
     "text": [
      "\n",
      "\n",
      "\n",
      "Download option for \"Forest Type 2012 (raster 20 m and 100 m), Europe, 3-yearly\":\n"
     ]
    },
    {
     "data": {
      "text/plain": [
       "{'@id': '17bb562c-6cdb-43fc-933f-4bfd076cb11b',\n",
       " 'area': 'E40N20',\n",
       " 'file': 'FTY_2012_100m_eu_03035_d02_E40N20',\n",
       " 'format': 'Geotiff',\n",
       " 'path': 'H:\\\\High_Resolution_Layers\\\\High_Resolution_Layers\\\\High_Resolution_Layer(HRL)_Forest_Type\\\\HRL_Forest_Type(FTY)_2012\\\\Data\\\\data-details\\\\raster\\\\FTY_2012_100m\\\\FTY_2012_100m_eu_03035_d02_E40N20.zip',\n",
       " 'resolution': '100 m',\n",
       " 'size': '13 MB',\n",
       " 'source': 'EEA',\n",
       " 'title': '',\n",
       " 'type': 'Raster',\n",
       " 'version': 'd02',\n",
       " 'year': ''}"
      ]
     },
     "metadata": {},
     "output_type": "display_data"
    },
    {
     "name": "stdout",
     "output_type": "stream",
     "text": [
      "\n",
      "\n",
      "\n",
      "Download option for \"Forest Type 2012 (raster 20 m and 100 m), Europe, 3-yearly\":\n"
     ]
    },
    {
     "data": {
      "text/plain": [
       "{'@id': '3f99b96a-fc1c-496f-8453-a7bfe9f60eca',\n",
       " 'area': 'E40N30',\n",
       " 'file': 'FTY_2012_100m_eu_03035_d02_E40N30',\n",
       " 'format': 'Geotiff',\n",
       " 'path': 'H:\\\\High_Resolution_Layers\\\\High_Resolution_Layers\\\\High_Resolution_Layer(HRL)_Forest_Type\\\\HRL_Forest_Type(FTY)_2012\\\\Data\\\\data-details\\\\raster\\\\FTY_2012_100m\\\\FTY_2012_100m_eu_03035_d02_E40N30.zip',\n",
       " 'resolution': '100 m',\n",
       " 'size': '11 MB',\n",
       " 'source': 'EEA',\n",
       " 'title': '',\n",
       " 'type': 'Raster',\n",
       " 'version': 'd02',\n",
       " 'year': ''}"
      ]
     },
     "metadata": {},
     "output_type": "display_data"
    },
    {
     "name": "stdout",
     "output_type": "stream",
     "text": [
      "\n",
      "\n",
      "\n",
      "Download option for \"Forest Type 2012 (raster 20 m and 100 m), Europe, 3-yearly\":\n"
     ]
    },
    {
     "data": {
      "text/plain": [
       "{'@id': 'a4ccfa60-2215-4bac-85cd-77fb57f93c0a',\n",
       " 'area': 'E40N40',\n",
       " 'file': 'FTY_2012_100m_eu_03035_d02_E40N40',\n",
       " 'format': 'Geotiff',\n",
       " 'path': 'H:\\\\High_Resolution_Layers\\\\High_Resolution_Layers\\\\High_Resolution_Layer(HRL)_Forest_Type\\\\HRL_Forest_Type(FTY)_2012\\\\Data\\\\data-details\\\\raster\\\\FTY_2012_100m\\\\FTY_2012_100m_eu_03035_d02_E40N40.zip',\n",
       " 'resolution': '100 m',\n",
       " 'size': '14 MB',\n",
       " 'source': 'EEA',\n",
       " 'title': '',\n",
       " 'type': 'Raster',\n",
       " 'version': 'd02',\n",
       " 'year': ''}"
      ]
     },
     "metadata": {},
     "output_type": "display_data"
    },
    {
     "name": "stdout",
     "output_type": "stream",
     "text": [
      "\n",
      "\n",
      "\n",
      "Download option for \"Forest Type 2012 (raster 20 m and 100 m), Europe, 3-yearly\":\n"
     ]
    },
    {
     "data": {
      "text/plain": [
       "{'@id': 'f6f80d30-9d61-4491-affe-923109ded4c5',\n",
       " 'area': 'E40N50',\n",
       " 'file': 'FTY_2012_100m_eu_03035_d02_E40N50',\n",
       " 'format': 'Geotiff',\n",
       " 'path': 'H:\\\\High_Resolution_Layers\\\\High_Resolution_Layers\\\\High_Resolution_Layer(HRL)_Forest_Type\\\\HRL_Forest_Type(FTY)_2012\\\\Data\\\\data-details\\\\raster\\\\FTY_2012_100m\\\\FTY_2012_100m_eu_03035_d02_E40N50.zip',\n",
       " 'resolution': '100 m',\n",
       " 'size': '2 MB',\n",
       " 'source': 'EEA',\n",
       " 'title': '',\n",
       " 'type': 'Raster',\n",
       " 'version': 'd02',\n",
       " 'year': ''}"
      ]
     },
     "metadata": {},
     "output_type": "display_data"
    },
    {
     "name": "stdout",
     "output_type": "stream",
     "text": [
      "\n",
      "\n",
      "\n",
      "Download option for \"Forest Type 2012 (raster 20 m and 100 m), Europe, 3-yearly\":\n"
     ]
    },
    {
     "data": {
      "text/plain": [
       "{'@id': '3c055309-be7e-416e-8f7f-5718b09cbb99',\n",
       " 'area': 'E50N10',\n",
       " 'file': 'FTY_2012_100m_eu_03035_d02_E50N10',\n",
       " 'format': 'Geotiff',\n",
       " 'path': 'H:\\\\High_Resolution_Layers\\\\High_Resolution_Layers\\\\High_Resolution_Layer(HRL)_Forest_Type\\\\HRL_Forest_Type(FTY)_2012\\\\Data\\\\data-details\\\\raster\\\\FTY_2012_100m\\\\FTY_2012_100m_eu_03035_d02_E50N10.zip',\n",
       " 'resolution': '100 m',\n",
       " 'size': '3 MB',\n",
       " 'source': 'EEA',\n",
       " 'title': '',\n",
       " 'type': 'Raster',\n",
       " 'version': 'd02',\n",
       " 'year': ''}"
      ]
     },
     "metadata": {},
     "output_type": "display_data"
    },
    {
     "name": "stdout",
     "output_type": "stream",
     "text": [
      "\n",
      "\n",
      "\n",
      "Download option for \"Forest Type 2012 (raster 20 m and 100 m), Europe, 3-yearly\":\n"
     ]
    },
    {
     "data": {
      "text/plain": [
       "{'@id': '58de08c9-5865-4767-a5a2-f9ad40ee0607',\n",
       " 'area': 'E50N20',\n",
       " 'file': 'FTY_2012_100m_eu_03035_d02_E50N20',\n",
       " 'format': 'Geotiff',\n",
       " 'path': 'H:\\\\High_Resolution_Layers\\\\High_Resolution_Layers\\\\High_Resolution_Layer(HRL)_Forest_Type\\\\HRL_Forest_Type(FTY)_2012\\\\Data\\\\data-details\\\\raster\\\\FTY_2012_100m\\\\FTY_2012_100m_eu_03035_d02_E50N20.zip',\n",
       " 'resolution': '100 m',\n",
       " 'size': '9 MB',\n",
       " 'source': 'EEA',\n",
       " 'title': '',\n",
       " 'type': 'Raster',\n",
       " 'version': 'd02',\n",
       " 'year': ''}"
      ]
     },
     "metadata": {},
     "output_type": "display_data"
    },
    {
     "name": "stdout",
     "output_type": "stream",
     "text": [
      "\n",
      "\n",
      "\n",
      "Download option for \"Forest Type 2012 (raster 20 m and 100 m), Europe, 3-yearly\":\n"
     ]
    },
    {
     "data": {
      "text/plain": [
       "{'@id': '9f41aa2d-4046-4db4-a71f-02ad76c4ef30',\n",
       " 'area': 'E50N30',\n",
       " 'file': 'FTY_2012_100m_eu_03035_d02_E50N30',\n",
       " 'format': 'Geotiff',\n",
       " 'path': 'H:\\\\High_Resolution_Layers\\\\High_Resolution_Layers\\\\High_Resolution_Layer(HRL)_Forest_Type\\\\HRL_Forest_Type(FTY)_2012\\\\Data\\\\data-details\\\\raster\\\\FTY_2012_100m\\\\FTY_2012_100m_eu_03035_d02_E50N30.zip',\n",
       " 'resolution': '100 m',\n",
       " 'size': '5 MB',\n",
       " 'source': 'EEA',\n",
       " 'title': '',\n",
       " 'type': 'Raster',\n",
       " 'version': 'd02',\n",
       " 'year': ''}"
      ]
     },
     "metadata": {},
     "output_type": "display_data"
    },
    {
     "name": "stdout",
     "output_type": "stream",
     "text": [
      "\n",
      "\n",
      "\n",
      "Download option for \"Forest Type 2012 (raster 20 m and 100 m), Europe, 3-yearly\":\n"
     ]
    },
    {
     "data": {
      "text/plain": [
       "{'@id': '5f7aaf98-79e1-4b55-a001-0f4c8b1ae3f9',\n",
       " 'area': 'E50N40',\n",
       " 'file': 'FTY_2012_100m_eu_03035_d02_E50N40',\n",
       " 'format': 'Geotiff',\n",
       " 'path': 'H:\\\\High_Resolution_Layers\\\\High_Resolution_Layers\\\\High_Resolution_Layer(HRL)_Forest_Type\\\\HRL_Forest_Type(FTY)_2012\\\\Data\\\\data-details\\\\raster\\\\FTY_2012_100m\\\\FTY_2012_100m_eu_03035_d02_E50N40.zip',\n",
       " 'resolution': '100 m',\n",
       " 'size': '7 MB',\n",
       " 'source': 'EEA',\n",
       " 'title': '',\n",
       " 'type': 'Raster',\n",
       " 'version': 'd02',\n",
       " 'year': ''}"
      ]
     },
     "metadata": {},
     "output_type": "display_data"
    },
    {
     "name": "stdout",
     "output_type": "stream",
     "text": [
      "\n",
      "\n",
      "\n",
      "Download option for \"Forest Type 2012 (raster 20 m and 100 m), Europe, 3-yearly\":\n"
     ]
    },
    {
     "data": {
      "text/plain": [
       "{'@id': 'b4883b74-2f2b-4779-88cf-744282dd74b2',\n",
       " 'area': 'E50N50',\n",
       " 'file': 'FTY_2012_100m_eu_03035_d02_E50N50',\n",
       " 'format': 'Geotiff',\n",
       " 'path': 'H:\\\\High_Resolution_Layers\\\\High_Resolution_Layers\\\\High_Resolution_Layer(HRL)_Forest_Type\\\\HRL_Forest_Type(FTY)_2012\\\\Data\\\\data-details\\\\raster\\\\FTY_2012_100m\\\\FTY_2012_100m_eu_03035_d02_E50N50.zip',\n",
       " 'resolution': '100 m',\n",
       " 'size': '1 MB',\n",
       " 'source': 'EEA',\n",
       " 'title': '',\n",
       " 'type': 'Raster',\n",
       " 'version': 'd02',\n",
       " 'year': ''}"
      ]
     },
     "metadata": {},
     "output_type": "display_data"
    },
    {
     "name": "stdout",
     "output_type": "stream",
     "text": [
      "\n",
      "\n",
      "\n",
      "Download option for \"Forest Type 2012 (raster 20 m and 100 m), Europe, 3-yearly\":\n"
     ]
    },
    {
     "data": {
      "text/plain": [
       "{'@id': 'f5f8126b-db30-4f32-b1b2-3e4543ed8234',\n",
       " 'area': 'E60N10',\n",
       " 'file': 'FTY_2012_100m_eu_03035_d02_E60N10',\n",
       " 'format': 'Geotiff',\n",
       " 'path': 'H:\\\\High_Resolution_Layers\\\\High_Resolution_Layers\\\\High_Resolution_Layer(HRL)_Forest_Type\\\\HRL_Forest_Type(FTY)_2012\\\\Data\\\\data-details\\\\raster\\\\FTY_2012_100m\\\\FTY_2012_100m_eu_03035_d02_E60N10.zip',\n",
       " 'resolution': '100 m',\n",
       " 'size': '2 MB',\n",
       " 'source': 'EEA',\n",
       " 'title': '',\n",
       " 'type': 'Raster',\n",
       " 'version': 'd02',\n",
       " 'year': ''}"
      ]
     },
     "metadata": {},
     "output_type": "display_data"
    },
    {
     "name": "stdout",
     "output_type": "stream",
     "text": [
      "\n",
      "\n",
      "\n",
      "Download option for \"Forest Type 2012 (raster 20 m and 100 m), Europe, 3-yearly\":\n"
     ]
    },
    {
     "data": {
      "text/plain": [
       "{'@id': 'a2ac65dd-3a36-48af-a907-fba5c749faa2',\n",
       " 'area': 'E60N20',\n",
       " 'file': 'FTY_2012_100m_eu_03035_d02_E60N20',\n",
       " 'format': 'Geotiff',\n",
       " 'path': 'H:\\\\High_Resolution_Layers\\\\High_Resolution_Layers\\\\High_Resolution_Layer(HRL)_Forest_Type\\\\HRL_Forest_Type(FTY)_2012\\\\Data\\\\data-details\\\\raster\\\\FTY_2012_100m\\\\FTY_2012_100m_eu_03035_d02_E60N20.zip',\n",
       " 'resolution': '100 m',\n",
       " 'size': '4 MB',\n",
       " 'source': 'EEA',\n",
       " 'title': '',\n",
       " 'type': 'Raster',\n",
       " 'version': 'd02',\n",
       " 'year': ''}"
      ]
     },
     "metadata": {},
     "output_type": "display_data"
    },
    {
     "name": "stdout",
     "output_type": "stream",
     "text": [
      "\n",
      "\n",
      "\n",
      "Download option for \"Forest Type 2012 (raster 20 m and 100 m), Europe, 3-yearly\":\n"
     ]
    },
    {
     "data": {
      "text/plain": [
       "{'@id': 'd879c03d-497f-4f70-ae0c-e0bf9f5b8326',\n",
       " 'area': 'E70N20',\n",
       " 'file': 'FTY_2012_100m_eu_03035_d02_E70N20',\n",
       " 'format': 'Geotiff',\n",
       " 'path': 'H:\\\\High_Resolution_Layers\\\\High_Resolution_Layers\\\\High_Resolution_Layer(HRL)_Forest_Type\\\\HRL_Forest_Type(FTY)_2012\\\\Data\\\\data-details\\\\raster\\\\FTY_2012_100m\\\\FTY_2012_100m_eu_03035_d02_E70N20.zip',\n",
       " 'resolution': '100 m',\n",
       " 'size': '370 KB',\n",
       " 'source': 'EEA',\n",
       " 'title': '',\n",
       " 'type': 'Raster',\n",
       " 'version': 'd02',\n",
       " 'year': ''}"
      ]
     },
     "metadata": {},
     "output_type": "display_data"
    },
    {
     "name": "stdout",
     "output_type": "stream",
     "text": [
      "\n",
      "\n",
      "\n",
      "\n",
      "\n",
      "____________________________________________________________________________________________________\n",
      "Product information:\n",
      "\n",
      "\n",
      "   Product title: \"Grassland 2021 (raster 10 m, 100 m), Europe, yearly\"\n",
      "   UID: \"c015cd2b3121420991b5dded128b3625\"\n",
      "   Product link: https://land.copernicus.eu/api/en/products/high-resolution-layer-grasslands/grassland-2021-raster-10-m-100-m-europe-yearly\n",
      "\n",
      "\n",
      "Download option for \"Grassland 2021 (raster 10 m, 100 m), Europe, yearly\":\n"
     ]
    },
    {
     "data": {
      "text/plain": [
       "{'@id': '1946e376-2213-419f-81cf-fca9df59fc41',\n",
       " 'area': '',\n",
       " 'file': '',\n",
       " 'format': '',\n",
       " 'path': '',\n",
       " 'resolution': '',\n",
       " 'size': '',\n",
       " 'source': '',\n",
       " 'title': '',\n",
       " 'type': '',\n",
       " 'version': '',\n",
       " 'year': ''}"
      ]
     },
     "metadata": {},
     "output_type": "display_data"
    },
    {
     "name": "stdout",
     "output_type": "stream",
     "text": [
      "\n",
      "\n",
      "\n",
      "\n",
      "\n",
      "____________________________________________________________________________________________________\n",
      "Product information:\n",
      "\n",
      "\n",
      "   Product title: \"Main Crop Harvest 2019 (raster 10 m), Europe, yearly\"\n",
      "   UID: \"4ffd87b5966844b0ac9504811a3d0de5\"\n",
      "   Product link: https://land.copernicus.eu/api/en/products/high-resolution-layer-croplands/main-crop-harvest-2019-raster-10-m-europe-yearly\n",
      "\n",
      "\n",
      "Download option for \"Main Crop Harvest 2019 (raster 10 m), Europe, yearly\":\n"
     ]
    },
    {
     "data": {
      "text/plain": [
       "{'@id': 'c22a2b15-5350-45c8-a9ad-5687f25b8d83',\n",
       " 'area': '',\n",
       " 'file': '',\n",
       " 'format': '',\n",
       " 'path': '',\n",
       " 'resolution': '',\n",
       " 'size': '',\n",
       " 'source': '',\n",
       " 'title': '',\n",
       " 'type': '',\n",
       " 'version': '',\n",
       " 'year': ''}"
      ]
     },
     "metadata": {},
     "output_type": "display_data"
    },
    {
     "name": "stdout",
     "output_type": "stream",
     "text": [
      "\n",
      "\n",
      "\n",
      "\n",
      "\n",
      "____________________________________________________________________________________________________\n",
      "Product information:\n",
      "\n",
      "\n",
      "   Product title: \"Main Crop Duration 2019 (raster 10 m), Europe, yearly\"\n",
      "   UID: \"bfe04a3e7eef4c08873137ca81ef0084\"\n",
      "   Product link: https://land.copernicus.eu/api/en/products/high-resolution-layer-croplands/main-crop-duration-2019-raster-10-m-europe-yearly\n",
      "\n",
      "\n",
      "Download option for \"Main Crop Duration 2019 (raster 10 m), Europe, yearly\":\n"
     ]
    },
    {
     "data": {
      "text/plain": [
       "{'@id': 'a0ff2f92-e1d4-40d8-8111-1d5603ee4e06',\n",
       " 'area': '',\n",
       " 'file': '',\n",
       " 'format': '',\n",
       " 'path': '',\n",
       " 'resolution': '',\n",
       " 'size': '',\n",
       " 'source': '',\n",
       " 'title': '',\n",
       " 'type': '',\n",
       " 'version': '',\n",
       " 'year': ''}"
      ]
     },
     "metadata": {},
     "output_type": "display_data"
    },
    {
     "name": "stdout",
     "output_type": "stream",
     "text": [
      "\n",
      "\n",
      "\n",
      "\n",
      "\n",
      "____________________________________________________________________________________________________\n",
      "Product information:\n",
      "\n",
      "\n",
      "   Product title: \"Main Crop Duration 2017 (raster 10 m), Europe, yearly\"\n",
      "   UID: \"c08382a22e7642929d52fd3d5b9b291d\"\n",
      "   Product link: https://land.copernicus.eu/api/en/products/high-resolution-layer-croplands/main-crop-duration-2017-raster-10-m-europe-yearly\n",
      "\n",
      "\n",
      "Download option for \"Main Crop Duration 2017 (raster 10 m), Europe, yearly\":\n"
     ]
    },
    {
     "data": {
      "text/plain": [
       "{'@id': 'fcbcdb6c-ee83-4dc1-bac2-fa9c3b23e311',\n",
       " 'area': '',\n",
       " 'file': '',\n",
       " 'format': '',\n",
       " 'path': '',\n",
       " 'resolution': '',\n",
       " 'size': '',\n",
       " 'source': '',\n",
       " 'title': '',\n",
       " 'type': '',\n",
       " 'version': '',\n",
       " 'year': ''}"
      ]
     },
     "metadata": {},
     "output_type": "display_data"
    },
    {
     "name": "stdout",
     "output_type": "stream",
     "text": [
      "\n",
      "\n",
      "\n",
      "\n",
      "\n",
      "____________________________________________________________________________________________________\n",
      "Product information:\n",
      "\n",
      "\n",
      "   Product title: \"Bare Soil After 2019 (raster 10 m), Europe, yearly\"\n",
      "   UID: \"4b485ba57e09442d891c496159a44429\"\n",
      "   Product link: https://land.copernicus.eu/api/en/products/high-resolution-layer-croplands/bare-soil-after-2019-raster-10-m-europe-yearly\n",
      "\n",
      "\n",
      "Download option for \"Bare Soil After 2019 (raster 10 m), Europe, yearly\":\n"
     ]
    },
    {
     "data": {
      "text/plain": [
       "{'@id': 'f1304943-e25c-4ab9-a86d-0e53f096d77e',\n",
       " 'area': '',\n",
       " 'file': '',\n",
       " 'format': '',\n",
       " 'path': '',\n",
       " 'resolution': '',\n",
       " 'size': '',\n",
       " 'source': '',\n",
       " 'title': '',\n",
       " 'type': '',\n",
       " 'version': '',\n",
       " 'year': ''}"
      ]
     },
     "metadata": {},
     "output_type": "display_data"
    },
    {
     "name": "stdout",
     "output_type": "stream",
     "text": [
      "\n",
      "\n",
      "\n",
      "\n",
      "\n",
      "____________________________________________________________________________________________________\n",
      "Product information:\n",
      "\n",
      "\n",
      "   Product title: \"Bare Soil After 2018 (raster 10 m), Europe, yearly\"\n",
      "   UID: \"7e3bc2aa2f44445bb2426d5b127bc9b1\"\n",
      "   Product link: https://land.copernicus.eu/api/en/products/high-resolution-layer-croplands/bare-soil-after-2018-raster-10-m-europe-yearly\n",
      "\n",
      "\n",
      "Download option for \"Bare Soil After 2018 (raster 10 m), Europe, yearly\":\n"
     ]
    },
    {
     "data": {
      "text/plain": [
       "{'@id': '6593025a-ff78-4ef8-8a05-da9d266f444f',\n",
       " 'area': '',\n",
       " 'file': '',\n",
       " 'format': '',\n",
       " 'path': '',\n",
       " 'resolution': '',\n",
       " 'size': '',\n",
       " 'source': '',\n",
       " 'title': '',\n",
       " 'type': '',\n",
       " 'version': '',\n",
       " 'year': ''}"
      ]
     },
     "metadata": {},
     "output_type": "display_data"
    },
    {
     "name": "stdout",
     "output_type": "stream",
     "text": [
      "\n",
      "\n",
      "\n",
      "\n",
      "\n",
      "____________________________________________________________________________________________________\n"
     ]
    }
   ],
   "source": []
  }
 ],
 "metadata": {
  "kernelspec": {
   "display_name": "glbcropland",
   "language": "python",
   "name": "python3"
  },
  "language_info": {
   "codemirror_mode": {
    "name": "ipython",
    "version": 3
   },
   "file_extension": ".py",
   "mimetype": "text/x-python",
   "name": "python",
   "nbconvert_exporter": "python",
   "pygments_lexer": "ipython3",
   "version": "3.11.10"
  }
 },
 "nbformat": 4,
 "nbformat_minor": 2
}
