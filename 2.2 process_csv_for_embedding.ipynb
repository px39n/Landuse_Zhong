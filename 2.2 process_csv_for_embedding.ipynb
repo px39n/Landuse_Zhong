{
 "cells": [
  {
   "cell_type": "markdown",
   "metadata": {},
   "source": [
    "# 站点加载"
   ]
  },
  {
   "cell_type": "code",
   "execution_count": null,
   "metadata": {},
   "outputs": [],
   "source": [
    "import pandas as pd\n",
    "import xarray as xr\n",
    "\n",
    "\n",
    "def load_datasets(abandon_path: str, feature_path: str):\n",
    "    \"\"\"\n",
    "    Load the abandonment and environmental xarray datasets.\n",
    "    \"\"\"\n",
    "    ds_abandon = xr.open_dataset(abandon_path, chunks={\"lat\": 500, \"lon\": 500})\n",
    "    ds_feature     = xr.open_dataset(feature_path,   chunks={\"lat\": 500, \"lon\": 500})\n",
    "    return ds_abandon, ds_feature\n",
    "\n",
    "def load_pv_sites(csv_aligned: str):\n",
    "    \"\"\"\n",
    "    Load aligned PV sites.\n",
    "    \"\"\"\n",
    "    df_pv = pd.read_csv(csv_aligned)\n",
    "    # Filter records where 'year' is either '2018' or '2020'\n",
    "    df_aligned = df_pv[df_pv['year'].isin(['2018', '2020'])]\n",
    "    return df_aligned"
   ]
  }
 ],
 "metadata": {
  "kernelspec": {
   "display_name": "glbcropland",
   "language": "python",
   "name": "python3"
  },
  "language_info": {
   "name": "python",
   "version": "3.11.10"
  }
 },
 "nbformat": 4,
 "nbformat_minor": 2
}
